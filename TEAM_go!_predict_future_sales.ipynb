{
  "nbformat": 4,
  "nbformat_minor": 0,
  "metadata": {
    "accelerator": "GPU",
    "colab": {
      "name": "Predict_Future_Sales_Final",
      "provenance": [],
      "collapsed_sections": [],
      "machine_shape": "hm"
    },
    "kernelspec": {
      "display_name": "Python 3",
      "name": "python3"
    },
    "language_info": {
      "name": "python"
    }
  },
  "cells": [
    {
      "cell_type": "code",
      "metadata": {
        "colab": {
          "base_uri": "https://localhost:8080/"
        },
        "id": "YUTUEMx27xCF",
        "outputId": "aeb89aea-d322-4633-c10a-fb290c5b0c81"
      },
      "source": [
        "from google.colab import drive \n",
        "drive.mount('/content/gdrive/')\n"
      ],
      "execution_count": 1,
      "outputs": [
        {
          "output_type": "stream",
          "text": [
            "Mounted at /content/gdrive/\n"
          ],
          "name": "stdout"
        }
      ]
    },
    {
      "cell_type": "code",
      "metadata": {
        "id": "zNu6DJn68JZt"
      },
      "source": [
        "import numpy as np\n",
        "import pandas as pd \n",
        "import matplotlib.pyplot as plt\n",
        "import seaborn as sns \n",
        "import altair as alt \n",
        "import os"
      ],
      "execution_count": 2,
      "outputs": []
    },
    {
      "cell_type": "code",
      "metadata": {
        "id": "pIZgguU-8Jb0"
      },
      "source": [
        "ROOT = '/content/gdrive/MyDrive/Colab Notebooks/'\n",
        "categories = pd.read_csv(ROOT + 'item_categories.csv')\n",
        "items = pd.read_csv(ROOT + 'items.csv')\n",
        "train = pd.read_csv(ROOT + 'sales_train.csv')\n",
        "submission = pd.read_csv(ROOT + 'sample_submission.csv')\n",
        "shops = pd.read_csv(ROOT + 'shops.csv')\n",
        "test = pd.read_csv(ROOT + 'test.csv')"
      ],
      "execution_count": 3,
      "outputs": []
    },
    {
      "cell_type": "markdown",
      "metadata": {
        "id": "phMDn3Y3HLJu"
      },
      "source": [
        "**Data Analysis and dealing Outliers**"
      ]
    },
    {
      "cell_type": "code",
      "metadata": {
        "colab": {
          "base_uri": "https://localhost:8080/",
          "height": 561
        },
        "id": "lPB-a-wUFASg",
        "outputId": "004cf9eb-066c-4435-92f9-d2a30a316a9a"
      },
      "source": [
        "#Analysis price and item_cnt_day \n",
        "plt.figure(figsize=(10,4))\n",
        "plt.xlim(-100, 3000)\n",
        "sns.boxplot(x=train.item_cnt_day)\n",
        "\n",
        "plt.figure(figsize=(10,4))\n",
        "plt.xlim(train.item_price.min(), train.item_price.max()*1.1)\n",
        "sns.boxplot(x=train.item_price)"
      ],
      "execution_count": 4,
      "outputs": [
        {
          "output_type": "execute_result",
          "data": {
            "text/plain": [
              "<matplotlib.axes._subplots.AxesSubplot at 0x7f8524d9b650>"
            ]
          },
          "metadata": {
            "tags": []
          },
          "execution_count": 4
        },
        {
          "output_type": "display_data",
          "data": {
            "image/png": "[encoded data removed]",
            "text/plain": [
              "<Figure size 720x288 with 1 Axes>"
            ]
          },
          "metadata": {
            "tags": [],
            "needs_background": "light"
          }
        },
        {
          "output_type": "display_data",
          "data": {
            "image/png": "[encoded data removed]",
            "text/plain": [
              "<Figure size 720x288 with 1 Axes>"
            ]
          },
          "metadata": {
            "tags": [],
            "needs_background": "light"
          }
        }
      ]
    },
    {
      "cell_type": "code",
      "metadata": {
        "id": "JTxVfyDFFjXb"
      },
      "source": [
        "train = train[train.item_price<100000]\n",
        "train = train[train.item_cnt_day<1000]"
      ],
      "execution_count": 5,
      "outputs": []
    },
    {
      "cell_type": "code",
      "metadata": {
        "colab": {
          "base_uri": "https://localhost:8080/",
          "height": 561
        },
        "id": "gDJMrrH3Fn6b",
        "outputId": "3fca8f64-e46b-4b53-8462-39115c25f2e4"
      },
      "source": [
        "plt.figure(figsize=(10,4))\n",
        "plt.xlim(-100, 3000)\n",
        "sns.boxplot(x=train.item_cnt_day)\n",
        "\n",
        "plt.figure(figsize=(10,4))\n",
        "plt.xlim(train.item_price.min(), train.item_price.max()*1.1)\n",
        "sns.boxplot(x=train.item_price)"
      ],
      "execution_count": 6,
      "outputs": [
        {
          "output_type": "execute_result",
          "data": {
            "text/plain": [
              "<matplotlib.axes._subplots.AxesSubplot at 0x7f85232dd090>"
            ]
          },
          "metadata": {
            "tags": []
          },
          "execution_count": 6
        },
        {
          "output_type": "display_data",
          "data": {
            "image/png": "[encoded data removed]",
            "text/plain": [
              "<Figure size 720x288 with 1 Axes>"
            ]
          },
          "metadata": {
            "tags": [],
            "needs_background": "light"
          }
        },
        {
          "output_type": "display_data",
          "data": {
            "image/png": "[encoded data removed]",
            "text/plain": [
              "<Figure size 720x288 with 1 Axes>"
            ]
          },
          "metadata": {
            "tags": [],
            "needs_background": "light"
          }
        }
      ]
    },
    {
      "cell_type": "code",
      "metadata": {
        "colab": {
          "base_uri": "https://localhost:8080/",
          "height": 80
        },
        "id": "QJPv3rT8Gr_h",
        "outputId": "558d6e71-7c04-4e35-c993-050e9bc8ec70"
      },
      "source": [
        "tmp = train[train.item_price<0]\n",
        "tmp"
      ],
      "execution_count": 7,
      "outputs": [
        {
          "output_type": "execute_result",
          "data": {
            "text/html": [
              "<div>\n",
              "<style scoped>\n",
              "    .dataframe tbody tr th:only-of-type {\n",
              "        vertical-align: middle;\n",
              "    }\n",
              "\n",
              "    .dataframe tbody tr th {\n",
              "        vertical-align: top;\n",
              "    }\n",
              "\n",
              "    .dataframe thead th {\n",
              "        text-align: right;\n",
              "    }\n",
              "</style>\n",
              "<table border=\"1\" class=\"dataframe\">\n",
              "  <thead>\n",
              "    <tr style=\"text-align: right;\">\n",
              "      <th></th>\n",
              "      <th>date</th>\n",
              "      <th>date_block_num</th>\n",
              "      <th>shop_id</th>\n",
              "      <th>item_id</th>\n",
              "      <th>item_price</th>\n",
              "      <th>item_cnt_day</th>\n",
              "    </tr>\n",
              "  </thead>\n",
              "  <tbody>\n",
              "    <tr>\n",
              "      <th>484683</th>\n",
              "      <td>15.05.2013</td>\n",
              "      <td>4</td>\n",
              "      <td>32</td>\n",
              "      <td>2973</td>\n",
              "      <td>-1.0</td>\n",
              "      <td>1.0</td>\n",
              "    </tr>\n",
              "  </tbody>\n",
              "</table>\n",
              "</div>"
            ],
            "text/plain": [
              "              date  date_block_num  shop_id  item_id  item_price  item_cnt_day\n",
              "484683  15.05.2013               4       32     2973        -1.0           1.0"
            ]
          },
          "metadata": {
            "tags": []
          },
          "execution_count": 7
        }
      ]
    },
    {
      "cell_type": "code",
      "metadata": {
        "colab": {
          "base_uri": "https://localhost:8080/",
          "height": 417
        },
        "id": "muwjA-EOG-cu",
        "outputId": "b7049d4e-bbd7-4a40-f24f-b38c56c73d54"
      },
      "source": [
        "med = train[(train.shop_id==32)&(train.item_id==2973)&(train.date_block_num==4)&(train.item_price>0)].item_price.median() #price가 0보다 작은 데이터\n",
        "train.loc[train.item_price<0, 'item_price'] = med\n",
        "train"
      ],
      "execution_count": 8,
      "outputs": [
        {
          "output_type": "execute_result",
          "data": {
            "text/html": [
              "<div>\n",
              "<style scoped>\n",
              "    .dataframe tbody tr th:only-of-type {\n",
              "        vertical-align: middle;\n",
              "    }\n",
              "\n",
              "    .dataframe tbody tr th {\n",
              "        vertical-align: top;\n",
              "    }\n",
              "\n",
              "    .dataframe thead th {\n",
              "        text-align: right;\n",
              "    }\n",
              "</style>\n",
              "<table border=\"1\" class=\"dataframe\">\n",
              "  <thead>\n",
              "    <tr style=\"text-align: right;\">\n",
              "      <th></th>\n",
              "      <th>date</th>\n",
              "      <th>date_block_num</th>\n",
              "      <th>shop_id</th>\n",
              "      <th>item_id</th>\n",
              "      <th>item_price</th>\n",
              "      <th>item_cnt_day</th>\n",
              "    </tr>\n",
              "  </thead>\n",
              "  <tbody>\n",
              "    <tr>\n",
              "      <th>0</th>\n",
              "      <td>02.01.2013</td>\n",
              "      <td>0</td>\n",
              "      <td>59</td>\n",
              "      <td>22154</td>\n",
              "      <td>999.00</td>\n",
              "      <td>1.0</td>\n",
              "    </tr>\n",
              "    <tr>\n",
              "      <th>1</th>\n",
              "      <td>03.01.2013</td>\n",
              "      <td>0</td>\n",
              "      <td>25</td>\n",
              "      <td>2552</td>\n",
              "      <td>899.00</td>\n",
              "      <td>1.0</td>\n",
              "    </tr>\n",
              "    <tr>\n",
              "      <th>2</th>\n",
              "      <td>05.01.2013</td>\n",
              "      <td>0</td>\n",
              "      <td>25</td>\n",
              "      <td>2552</td>\n",
              "      <td>899.00</td>\n",
              "      <td>-1.0</td>\n",
              "    </tr>\n",
              "    <tr>\n",
              "      <th>3</th>\n",
              "      <td>06.01.2013</td>\n",
              "      <td>0</td>\n",
              "      <td>25</td>\n",
              "      <td>2554</td>\n",
              "      <td>1709.05</td>\n",
              "      <td>1.0</td>\n",
              "    </tr>\n",
              "    <tr>\n",
              "      <th>4</th>\n",
              "      <td>15.01.2013</td>\n",
              "      <td>0</td>\n",
              "      <td>25</td>\n",
              "      <td>2555</td>\n",
              "      <td>1099.00</td>\n",
              "      <td>1.0</td>\n",
              "    </tr>\n",
              "    <tr>\n",
              "      <th>...</th>\n",
              "      <td>...</td>\n",
              "      <td>...</td>\n",
              "      <td>...</td>\n",
              "      <td>...</td>\n",
              "      <td>...</td>\n",
              "      <td>...</td>\n",
              "    </tr>\n",
              "    <tr>\n",
              "      <th>2935844</th>\n",
              "      <td>10.10.2015</td>\n",
              "      <td>33</td>\n",
              "      <td>25</td>\n",
              "      <td>7409</td>\n",
              "      <td>299.00</td>\n",
              "      <td>1.0</td>\n",
              "    </tr>\n",
              "    <tr>\n",
              "      <th>2935845</th>\n",
              "      <td>09.10.2015</td>\n",
              "      <td>33</td>\n",
              "      <td>25</td>\n",
              "      <td>7460</td>\n",
              "      <td>299.00</td>\n",
              "      <td>1.0</td>\n",
              "    </tr>\n",
              "    <tr>\n",
              "      <th>2935846</th>\n",
              "      <td>14.10.2015</td>\n",
              "      <td>33</td>\n",
              "      <td>25</td>\n",
              "      <td>7459</td>\n",
              "      <td>349.00</td>\n",
              "      <td>1.0</td>\n",
              "    </tr>\n",
              "    <tr>\n",
              "      <th>2935847</th>\n",
              "      <td>22.10.2015</td>\n",
              "      <td>33</td>\n",
              "      <td>25</td>\n",
              "      <td>7440</td>\n",
              "      <td>299.00</td>\n",
              "      <td>1.0</td>\n",
              "    </tr>\n",
              "    <tr>\n",
              "      <th>2935848</th>\n",
              "      <td>03.10.2015</td>\n",
              "      <td>33</td>\n",
              "      <td>25</td>\n",
              "      <td>7460</td>\n",
              "      <td>299.00</td>\n",
              "      <td>1.0</td>\n",
              "    </tr>\n",
              "  </tbody>\n",
              "</table>\n",
              "<p>2935846 rows × 6 columns</p>\n",
              "</div>"
            ],
            "text/plain": [
              "               date  date_block_num  shop_id  item_id  item_price  item_cnt_day\n",
              "0        02.01.2013               0       59    22154      999.00           1.0\n",
              "1        03.01.2013               0       25     2552      899.00           1.0\n",
              "2        05.01.2013               0       25     2552      899.00          -1.0\n",
              "3        06.01.2013               0       25     2554     1709.05           1.0\n",
              "4        15.01.2013               0       25     2555     1099.00           1.0\n",
              "...             ...             ...      ...      ...         ...           ...\n",
              "2935844  10.10.2015              33       25     7409      299.00           1.0\n",
              "2935845  09.10.2015              33       25     7460      299.00           1.0\n",
              "2935846  14.10.2015              33       25     7459      349.00           1.0\n",
              "2935847  22.10.2015              33       25     7440      299.00           1.0\n",
              "2935848  03.10.2015              33       25     7460      299.00           1.0\n",
              "\n",
              "[2935846 rows x 6 columns]"
            ]
          },
          "metadata": {
            "tags": []
          },
          "execution_count": 8
        }
      ]
    },
    {
      "cell_type": "code",
      "metadata": {
        "colab": {
          "base_uri": "https://localhost:8080/"
        },
        "id": "zoP2p6mDJ9Qy",
        "outputId": "0baa16d0-70c0-4b95-f70d-9626306d8392"
      },
      "source": [
        "# delete duplicated data\n",
        "col = ['date','date_block_num','shop_id','item_id','item_cnt_day']\n",
        "print(train.duplicated(subset=col).value_counts())\n",
        "train.drop_duplicates(subset=col, inplace=True)"
      ],
      "execution_count": 9,
      "outputs": [
        {
          "output_type": "stream",
          "text": [
            "False    2935822\n",
            "True          24\n",
            "dtype: int64\n"
          ],
          "name": "stdout"
        }
      ]
    },
    {
      "cell_type": "code",
      "metadata": {
        "colab": {
          "base_uri": "https://localhost:8080/",
          "height": 556
        },
        "id": "tMFy1p6o8JeJ",
        "outputId": "e55128a0-967d-411c-fa46-89701bb09bc1"
      },
      "source": [
        "fig = plt.figure(figsize=(18,9))\n",
        "plt.subplots_adjust(hspace=.5)\n",
        "\n",
        "plt.subplot2grid((3,3), (0,0), colspan = 3)\n",
        "train['shop_id'].value_counts(normalize=True).plot(kind='bar', alpha=0.7)\n",
        "plt.title('Shop ID Values in the Training Set (Normalized)')\n",
        "\n",
        "plt.subplot2grid((3,3), (1,0))\n",
        "train['item_id'].plot(kind='hist', alpha=0.7)\n",
        "plt.title('Item ID Histogram')\n",
        "\n",
        "plt.subplot2grid((3,3), (1,1))\n",
        "train['item_price'].plot(kind='hist', alpha=0.7, color='orange')\n",
        "plt.title('Item Price Histogram')\n",
        "\n",
        "plt.subplot2grid((3,3), (1,2))\n",
        "train['item_cnt_day'].plot(kind='hist', alpha=0.7, color='green')\n",
        "plt.title('Item Count Day Histogram')\n",
        "\n",
        "plt.subplot2grid((3,3), (2,0), colspan = 3)\n",
        "train['date_block_num'].value_counts(normalize=True).plot(kind='bar', alpha=0.7)\n",
        "plt.title('Month (date_block_num) Values in the Training Set (Normalized)')\n",
        "\n",
        "plt.show()"
      ],
      "execution_count": 10,
      "outputs": [
        {
          "output_type": "display_data",
          "data": {
            "image/png": "[encoded data removed]",
            "text/plain": [
              "<Figure size 1296x648 with 5 Axes>"
            ]
          },
          "metadata": {
            "tags": [],
            "needs_background": "light"
          }
        }
      ]
    },
    {
      "cell_type": "markdown",
      "metadata": {
        "id": "SB2sTx7B82hG"
      },
      "source": [
        "Dealing with Outliers"
      ]
    },
    {
      "cell_type": "code",
      "metadata": {
        "colab": {
          "base_uri": "https://localhost:8080/"
        },
        "id": "Ez0bBagI8JgG",
        "outputId": "0cb4ed58-9178-4f94-baec-beaa5d3efe36"
      },
      "source": [
        "train['item_id'].value_counts(ascending=False)[:5]"
      ],
      "execution_count": 11,
      "outputs": [
        {
          "output_type": "execute_result",
          "data": {
            "text/plain": [
              "20949    31339\n",
              "5822      9408\n",
              "17717     9067\n",
              "2808      7479\n",
              "4181      6853\n",
              "Name: item_id, dtype: int64"
            ]
          },
          "metadata": {
            "tags": []
          },
          "execution_count": 11
        }
      ]
    },
    {
      "cell_type": "code",
      "metadata": {
        "colab": {
          "base_uri": "https://localhost:8080/",
          "height": 80
        },
        "id": "4v1z6zPh8JiK",
        "outputId": "e31e7bc8-355f-4b14-8487-a2c9da8bbe2c"
      },
      "source": [
        "items.loc[items['item_id']==20949]"
      ],
      "execution_count": 12,
      "outputs": [
        {
          "output_type": "execute_result",
          "data": {
            "text/html": [
              "<div>\n",
              "<style scoped>\n",
              "    .dataframe tbody tr th:only-of-type {\n",
              "        vertical-align: middle;\n",
              "    }\n",
              "\n",
              "    .dataframe tbody tr th {\n",
              "        vertical-align: top;\n",
              "    }\n",
              "\n",
              "    .dataframe thead th {\n",
              "        text-align: right;\n",
              "    }\n",
              "</style>\n",
              "<table border=\"1\" class=\"dataframe\">\n",
              "  <thead>\n",
              "    <tr style=\"text-align: right;\">\n",
              "      <th></th>\n",
              "      <th>item_name</th>\n",
              "      <th>item_id</th>\n",
              "      <th>item_category_id</th>\n",
              "    </tr>\n",
              "  </thead>\n",
              "  <tbody>\n",
              "    <tr>\n",
              "      <th>20949</th>\n",
              "      <td>Фирменный пакет майка 1С Интерес белый (34*42)...</td>\n",
              "      <td>20949</td>\n",
              "      <td>71</td>\n",
              "    </tr>\n",
              "  </tbody>\n",
              "</table>\n",
              "</div>"
            ],
            "text/plain": [
              "                                               item_name  ...  item_category_id\n",
              "20949  Фирменный пакет майка 1С Интерес белый (34*42)...  ...                71\n",
              "\n",
              "[1 rows x 3 columns]"
            ]
          },
          "metadata": {
            "tags": []
          },
          "execution_count": 12
        }
      ]
    },
    {
      "cell_type": "code",
      "metadata": {
        "id": "s0-jveon8Jj2"
      },
      "source": [
        "train.loc[train['shop_id'] == 0, 'shop_id'] = 57\n",
        "test.loc[test['shop_id'] == 0, 'shop_id'] = 57\n",
        "\n",
        "train.loc[train['shop_id'] == 1, 'shop_id'] = 58\n",
        "test.loc[test['shop_id'] == 1, 'shop_id'] = 58\n",
        "\n",
        "train.loc[train['shop_id'] == 10, 'shop_id'] = 11\n",
        "test.loc[test['shop_id'] == 10, 'shop_id'] = 11"
      ],
      "execution_count": 13,
      "outputs": []
    },
    {
      "cell_type": "markdown",
      "metadata": {
        "id": "uxlJkv0G9ERE"
      },
      "source": [
        "Extracting City\n"
      ]
    },
    {
      "cell_type": "code",
      "metadata": {
        "colab": {
          "base_uri": "https://localhost:8080/"
        },
        "id": "K-Ne7uZO8Jnx",
        "outputId": "5c17638d-6480-4bbc-d135-76994b750b6a"
      },
      "source": [
        "cities = shops['shop_name'].str.split(' ').map(lambda row: row[0])\n",
        "cities.unique()"
      ],
      "execution_count": 14,
      "outputs": [
        {
          "output_type": "execute_result",
          "data": {
            "text/plain": [
              "array(['!Якутск', 'Адыгея', 'Балашиха', 'Волжский', 'Вологда', 'Воронеж',\n",
              "       'Выездная', 'Жуковский', 'Интернет-магазин', 'Казань', 'Калуга',\n",
              "       'Коломна', 'Красноярск', 'Курск', 'Москва', 'Мытищи', 'Н.Новгород',\n",
              "       'Новосибирск', 'Омск', 'РостовНаДону', 'СПб', 'Самара', 'Сергиев',\n",
              "       'Сургут', 'Томск', 'Тюмень', 'Уфа', 'Химки', 'Цифровой', 'Чехов',\n",
              "       'Якутск', 'Ярославль'], dtype=object)"
            ]
          },
          "metadata": {
            "tags": []
          },
          "execution_count": 14
        }
      ]
    },
    {
      "cell_type": "code",
      "metadata": {
        "id": "lKhhT0vP8Jp8"
      },
      "source": [
        "shops['city'] = shops['shop_name'].str.split(' ').map(lambda row: row[0])\n",
        "shops.loc[shops.city == '!Якутск', 'city'] = 'Якутск'"
      ],
      "execution_count": 15,
      "outputs": []
    },
    {
      "cell_type": "code",
      "metadata": {
        "colab": {
          "base_uri": "https://localhost:8080/"
        },
        "id": "EZ5hYZef8JsR",
        "outputId": "d7421bdd-cf06-4e78-8a30-b9e0b0d2773f"
      },
      "source": [
        "from sklearn import preprocessing\n",
        "le = preprocessing.LabelEncoder()\n",
        "le.fit_transform(shops['city'])"
      ],
      "execution_count": 16,
      "outputs": [
        {
          "output_type": "execute_result",
          "data": {
            "text/plain": [
              "array([29, 29,  0,  1,  2,  3,  4,  4,  4,  5,  6,  6,  7,  8,  8,  9, 10,\n",
              "       11, 11, 12, 13, 13, 13, 13, 13, 13, 13, 13, 13, 13, 13, 13, 13, 14,\n",
              "       15, 15, 16, 16, 17, 18, 18, 18, 19, 19, 20, 20, 21, 22, 23, 24, 24,\n",
              "       24, 25, 25, 26, 27, 28, 29, 29, 30])"
            ]
          },
          "metadata": {
            "tags": []
          },
          "execution_count": 16
        }
      ]
    },
    {
      "cell_type": "code",
      "metadata": {
        "colab": {
          "base_uri": "https://localhost:8080/",
          "height": 203
        },
        "id": "PfQ0JmQk8JuC",
        "outputId": "3d6523da-6934-4d91-ef1b-9273d2644e96"
      },
      "source": [
        "shops['city_label'] = le.fit_transform(shops['city'])\n",
        "shops.drop(['shop_name', 'city'], axis = 1, inplace = True)\n",
        "shops.head()"
      ],
      "execution_count": 17,
      "outputs": [
        {
          "output_type": "execute_result",
          "data": {
            "text/html": [
              "<div>\n",
              "<style scoped>\n",
              "    .dataframe tbody tr th:only-of-type {\n",
              "        vertical-align: middle;\n",
              "    }\n",
              "\n",
              "    .dataframe tbody tr th {\n",
              "        vertical-align: top;\n",
              "    }\n",
              "\n",
              "    .dataframe thead th {\n",
              "        text-align: right;\n",
              "    }\n",
              "</style>\n",
              "<table border=\"1\" class=\"dataframe\">\n",
              "  <thead>\n",
              "    <tr style=\"text-align: right;\">\n",
              "      <th></th>\n",
              "      <th>shop_id</th>\n",
              "      <th>city_label</th>\n",
              "    </tr>\n",
              "  </thead>\n",
              "  <tbody>\n",
              "    <tr>\n",
              "      <th>0</th>\n",
              "      <td>0</td>\n",
              "      <td>29</td>\n",
              "    </tr>\n",
              "    <tr>\n",
              "      <th>1</th>\n",
              "      <td>1</td>\n",
              "      <td>29</td>\n",
              "    </tr>\n",
              "    <tr>\n",
              "      <th>2</th>\n",
              "      <td>2</td>\n",
              "      <td>0</td>\n",
              "    </tr>\n",
              "    <tr>\n",
              "      <th>3</th>\n",
              "      <td>3</td>\n",
              "      <td>1</td>\n",
              "    </tr>\n",
              "    <tr>\n",
              "      <th>4</th>\n",
              "      <td>4</td>\n",
              "      <td>2</td>\n",
              "    </tr>\n",
              "  </tbody>\n",
              "</table>\n",
              "</div>"
            ],
            "text/plain": [
              "   shop_id  city_label\n",
              "0        0          29\n",
              "1        1          29\n",
              "2        2           0\n",
              "3        3           1\n",
              "4        4           2"
            ]
          },
          "metadata": {
            "tags": []
          },
          "execution_count": 17
        }
      ]
    },
    {
      "cell_type": "markdown",
      "metadata": {
        "id": "gFHa5ah99M84"
      },
      "source": [
        "Items Analysis"
      ]
    },
    {
      "cell_type": "code",
      "metadata": {
        "colab": {
          "base_uri": "https://localhost:8080/"
        },
        "id": "sxs1t7v-8Jxn",
        "outputId": "3f764fa7-35ed-4b89-f439-39e9e8ceee05"
      },
      "source": [
        "items_train = train['item_id'].nunique()\n",
        "items_test = test['item_id'].nunique()\n",
        "print('train Set: ', items_train)\n",
        "print('test Set: ', items_test)"
      ],
      "execution_count": 18,
      "outputs": [
        {
          "output_type": "stream",
          "text": [
            "train Set:  21806\n",
            "test Set:  5100\n"
          ],
          "name": "stdout"
        }
      ]
    },
    {
      "cell_type": "markdown",
      "metadata": {
        "id": "Nsq6F1KB67k1"
      },
      "source": [
        "Check if all target items are in the train data"
      ]
    },
    {
      "cell_type": "code",
      "metadata": {
        "colab": {
          "base_uri": "https://localhost:8080/"
        },
        "id": "kcitPxeS8Jzp",
        "outputId": "01f78770-85ce-4163-d190-9a0b8bc694b4"
      },
      "source": [
        "train_items = list(train['item_id'].unique())\n",
        "test_items = list(test['item_id'].unique())\n",
        "\n",
        "flag = 0\n",
        "if(set(train_items).issubset(set(test_items))): \n",
        "    flag = 1\n",
        "      \n",
        "if (flag) : \n",
        "    print (\"test included\") \n",
        "else : \n",
        "    print (\"not included\") "
      ],
      "execution_count": 19,
      "outputs": [
        {
          "output_type": "stream",
          "text": [
            "not included\n"
          ],
          "name": "stdout"
        }
      ]
    },
    {
      "cell_type": "code",
      "metadata": {
        "colab": {
          "base_uri": "https://localhost:8080/"
        },
        "id": "6zFj-qRL8J2F",
        "outputId": "b9ef4f3e-fb70-4b81-bdcb-aa903d686678"
      },
      "source": [
        "len(set(test_items).difference(train_items))"
      ],
      "execution_count": 20,
      "outputs": [
        {
          "output_type": "execute_result",
          "data": {
            "text/plain": [
              "363"
            ]
          },
          "metadata": {
            "tags": []
          },
          "execution_count": 20
        }
      ]
    },
    {
      "cell_type": "code",
      "metadata": {
        "id": "EUEKTMhT8J4e"
      },
      "source": [
        "categories_in_test = items.loc[items['item_id'].isin(sorted(test['item_id'].unique()))].item_category_id.unique()"
      ],
      "execution_count": 21,
      "outputs": []
    },
    {
      "cell_type": "code",
      "metadata": {
        "colab": {
          "base_uri": "https://localhost:8080/",
          "height": 726
        },
        "id": "jTUxe5M78J6b",
        "outputId": "8caf89d5-fc58-42b3-e111-8d3404e1f82a"
      },
      "source": [
        "categories.loc[~categories['item_category_id'].isin(categories_in_test)]"
      ],
      "execution_count": 22,
      "outputs": [
        {
          "output_type": "execute_result",
          "data": {
            "text/html": [
              "<div>\n",
              "<style scoped>\n",
              "    .dataframe tbody tr th:only-of-type {\n",
              "        vertical-align: middle;\n",
              "    }\n",
              "\n",
              "    .dataframe tbody tr th {\n",
              "        vertical-align: top;\n",
              "    }\n",
              "\n",
              "    .dataframe thead th {\n",
              "        text-align: right;\n",
              "    }\n",
              "</style>\n",
              "<table border=\"1\" class=\"dataframe\">\n",
              "  <thead>\n",
              "    <tr style=\"text-align: right;\">\n",
              "      <th></th>\n",
              "      <th>item_category_name</th>\n",
              "      <th>item_category_id</th>\n",
              "    </tr>\n",
              "  </thead>\n",
              "  <tbody>\n",
              "    <tr>\n",
              "      <th>1</th>\n",
              "      <td>Аксессуары - PS2</td>\n",
              "      <td>1</td>\n",
              "    </tr>\n",
              "    <tr>\n",
              "      <th>4</th>\n",
              "      <td>Аксессуары - PSP</td>\n",
              "      <td>4</td>\n",
              "    </tr>\n",
              "    <tr>\n",
              "      <th>8</th>\n",
              "      <td>Билеты (Цифра)</td>\n",
              "      <td>8</td>\n",
              "    </tr>\n",
              "    <tr>\n",
              "      <th>10</th>\n",
              "      <td>Игровые консоли - PS2</td>\n",
              "      <td>10</td>\n",
              "    </tr>\n",
              "    <tr>\n",
              "      <th>13</th>\n",
              "      <td>Игровые консоли - PSP</td>\n",
              "      <td>13</td>\n",
              "    </tr>\n",
              "    <tr>\n",
              "      <th>14</th>\n",
              "      <td>Игровые консоли - PSVita</td>\n",
              "      <td>14</td>\n",
              "    </tr>\n",
              "    <tr>\n",
              "      <th>17</th>\n",
              "      <td>Игровые консоли - Прочие</td>\n",
              "      <td>17</td>\n",
              "    </tr>\n",
              "    <tr>\n",
              "      <th>18</th>\n",
              "      <td>Игры - PS2</td>\n",
              "      <td>18</td>\n",
              "    </tr>\n",
              "    <tr>\n",
              "      <th>32</th>\n",
              "      <td>Карты оплаты (Кино, Музыка, Игры)</td>\n",
              "      <td>32</td>\n",
              "    </tr>\n",
              "    <tr>\n",
              "      <th>39</th>\n",
              "      <td>Кино - Blu-Ray 4K</td>\n",
              "      <td>39</td>\n",
              "    </tr>\n",
              "    <tr>\n",
              "      <th>46</th>\n",
              "      <td>Книги - Бизнес литература</td>\n",
              "      <td>46</td>\n",
              "    </tr>\n",
              "    <tr>\n",
              "      <th>48</th>\n",
              "      <td>Книги - Компьютерная литература</td>\n",
              "      <td>48</td>\n",
              "    </tr>\n",
              "    <tr>\n",
              "      <th>50</th>\n",
              "      <td>Книги - Открытки</td>\n",
              "      <td>50</td>\n",
              "    </tr>\n",
              "    <tr>\n",
              "      <th>51</th>\n",
              "      <td>Книги - Познавательная литература</td>\n",
              "      <td>51</td>\n",
              "    </tr>\n",
              "    <tr>\n",
              "      <th>52</th>\n",
              "      <td>Книги - Путеводители</td>\n",
              "      <td>52</td>\n",
              "    </tr>\n",
              "    <tr>\n",
              "      <th>53</th>\n",
              "      <td>Книги - Художественная литература</td>\n",
              "      <td>53</td>\n",
              "    </tr>\n",
              "    <tr>\n",
              "      <th>59</th>\n",
              "      <td>Музыка - Музыкальное видео</td>\n",
              "      <td>59</td>\n",
              "    </tr>\n",
              "    <tr>\n",
              "      <th>66</th>\n",
              "      <td>Подарки - Открытки, наклейки</td>\n",
              "      <td>66</td>\n",
              "    </tr>\n",
              "    <tr>\n",
              "      <th>68</th>\n",
              "      <td>Подарки - Сертификаты, услуги</td>\n",
              "      <td>68</td>\n",
              "    </tr>\n",
              "    <tr>\n",
              "      <th>80</th>\n",
              "      <td>Служебные - Билеты</td>\n",
              "      <td>80</td>\n",
              "    </tr>\n",
              "    <tr>\n",
              "      <th>81</th>\n",
              "      <td>Чистые носители (шпиль)</td>\n",
              "      <td>81</td>\n",
              "    </tr>\n",
              "    <tr>\n",
              "      <th>82</th>\n",
              "      <td>Чистые носители (штучные)</td>\n",
              "      <td>82</td>\n",
              "    </tr>\n",
              "  </tbody>\n",
              "</table>\n",
              "</div>"
            ],
            "text/plain": [
              "                   item_category_name  item_category_id\n",
              "1                    Аксессуары - PS2                 1\n",
              "4                    Аксессуары - PSP                 4\n",
              "8                      Билеты (Цифра)                 8\n",
              "10              Игровые консоли - PS2                10\n",
              "13              Игровые консоли - PSP                13\n",
              "14           Игровые консоли - PSVita                14\n",
              "17           Игровые консоли - Прочие                17\n",
              "18                         Игры - PS2                18\n",
              "32  Карты оплаты (Кино, Музыка, Игры)                32\n",
              "39                  Кино - Blu-Ray 4K                39\n",
              "46          Книги - Бизнес литература                46\n",
              "48    Книги - Компьютерная литература                48\n",
              "50                   Книги - Открытки                50\n",
              "51  Книги - Познавательная литература                51\n",
              "52               Книги - Путеводители                52\n",
              "53  Книги - Художественная литература                53\n",
              "59         Музыка - Музыкальное видео                59\n",
              "66       Подарки - Открытки, наклейки                66\n",
              "68      Подарки - Сертификаты, услуги                68\n",
              "80                 Служебные - Билеты                80\n",
              "81            Чистые носители (шпиль)                81\n",
              "82          Чистые носители (штучные)                82"
            ]
          },
          "metadata": {
            "tags": []
          },
          "execution_count": 22
        }
      ]
    },
    {
      "cell_type": "markdown",
      "metadata": {
        "id": "sSVlw0Hq9h1r"
      },
      "source": [
        "Divide category into Main-category and Sub-category"
      ]
    },
    {
      "cell_type": "code",
      "metadata": {
        "id": "mNoqptow8J8w"
      },
      "source": [
        "le = preprocessing.LabelEncoder()\n",
        "\n",
        "main_categories = categories['item_category_name'].str.split('-')\n",
        "categories['main_category_id'] = main_categories.map(lambda row: row[0].strip())\n",
        "categories['main_category_id'] = le.fit_transform(categories['main_category_id'])\n",
        "\n",
        "# Some items don't have sub-categories. use the main category as a sub-category\n",
        "categories['sub_category_id'] = main_categories.map(lambda row: row[1].strip() if len(row) > 1 else row[0].strip())\n",
        "categories['sub_category_id'] = le.fit_transform(categories['sub_category_id'])"
      ],
      "execution_count": 23,
      "outputs": []
    },
    {
      "cell_type": "code",
      "metadata": {
        "colab": {
          "base_uri": "https://localhost:8080/",
          "height": 203
        },
        "id": "yqmIzkZt8J_D",
        "outputId": "b765c39f-7860-4f14-a59e-a1a9650a1a79"
      },
      "source": [
        "categories.head()"
      ],
      "execution_count": 24,
      "outputs": [
        {
          "output_type": "execute_result",
          "data": {
            "text/html": [
              "<div>\n",
              "<style scoped>\n",
              "    .dataframe tbody tr th:only-of-type {\n",
              "        vertical-align: middle;\n",
              "    }\n",
              "\n",
              "    .dataframe tbody tr th {\n",
              "        vertical-align: top;\n",
              "    }\n",
              "\n",
              "    .dataframe thead th {\n",
              "        text-align: right;\n",
              "    }\n",
              "</style>\n",
              "<table border=\"1\" class=\"dataframe\">\n",
              "  <thead>\n",
              "    <tr style=\"text-align: right;\">\n",
              "      <th></th>\n",
              "      <th>item_category_name</th>\n",
              "      <th>item_category_id</th>\n",
              "      <th>main_category_id</th>\n",
              "      <th>sub_category_id</th>\n",
              "    </tr>\n",
              "  </thead>\n",
              "  <tbody>\n",
              "    <tr>\n",
              "      <th>0</th>\n",
              "      <td>PC - Гарнитуры/Наушники</td>\n",
              "      <td>0</td>\n",
              "      <td>0</td>\n",
              "      <td>29</td>\n",
              "    </tr>\n",
              "    <tr>\n",
              "      <th>1</th>\n",
              "      <td>Аксессуары - PS2</td>\n",
              "      <td>1</td>\n",
              "      <td>1</td>\n",
              "      <td>9</td>\n",
              "    </tr>\n",
              "    <tr>\n",
              "      <th>2</th>\n",
              "      <td>Аксессуары - PS3</td>\n",
              "      <td>2</td>\n",
              "      <td>1</td>\n",
              "      <td>10</td>\n",
              "    </tr>\n",
              "    <tr>\n",
              "      <th>3</th>\n",
              "      <td>Аксессуары - PS4</td>\n",
              "      <td>3</td>\n",
              "      <td>1</td>\n",
              "      <td>11</td>\n",
              "    </tr>\n",
              "    <tr>\n",
              "      <th>4</th>\n",
              "      <td>Аксессуары - PSP</td>\n",
              "      <td>4</td>\n",
              "      <td>1</td>\n",
              "      <td>13</td>\n",
              "    </tr>\n",
              "  </tbody>\n",
              "</table>\n",
              "</div>"
            ],
            "text/plain": [
              "        item_category_name  item_category_id  main_category_id  sub_category_id\n",
              "0  PC - Гарнитуры/Наушники                 0                 0               29\n",
              "1         Аксессуары - PS2                 1                 1                9\n",
              "2         Аксессуары - PS3                 2                 1               10\n",
              "3         Аксессуары - PS4                 3                 1               11\n",
              "4         Аксессуары - PSP                 4                 1               13"
            ]
          },
          "metadata": {
            "tags": []
          },
          "execution_count": 24
        }
      ]
    },
    {
      "cell_type": "markdown",
      "metadata": {
        "id": "AlgU_kI39ody"
      },
      "source": [
        "Generating product of Shop-Item pairs for each month in the training data\n"
      ]
    },
    {
      "cell_type": "code",
      "metadata": {
        "colab": {
          "base_uri": "https://localhost:8080/",
          "height": 417
        },
        "id": "KJxpiZStKi7t",
        "outputId": "6008ea47-67d6-4c24-b2c6-50ff9ceb2a59"
      },
      "source": [
        "train"
      ],
      "execution_count": 25,
      "outputs": [
        {
          "output_type": "execute_result",
          "data": {
            "text/html": [
              "<div>\n",
              "<style scoped>\n",
              "    .dataframe tbody tr th:only-of-type {\n",
              "        vertical-align: middle;\n",
              "    }\n",
              "\n",
              "    .dataframe tbody tr th {\n",
              "        vertical-align: top;\n",
              "    }\n",
              "\n",
              "    .dataframe thead th {\n",
              "        text-align: right;\n",
              "    }\n",
              "</style>\n",
              "<table border=\"1\" class=\"dataframe\">\n",
              "  <thead>\n",
              "    <tr style=\"text-align: right;\">\n",
              "      <th></th>\n",
              "      <th>date</th>\n",
              "      <th>date_block_num</th>\n",
              "      <th>shop_id</th>\n",
              "      <th>item_id</th>\n",
              "      <th>item_price</th>\n",
              "      <th>item_cnt_day</th>\n",
              "    </tr>\n",
              "  </thead>\n",
              "  <tbody>\n",
              "    <tr>\n",
              "      <th>0</th>\n",
              "      <td>02.01.2013</td>\n",
              "      <td>0</td>\n",
              "      <td>59</td>\n",
              "      <td>22154</td>\n",
              "      <td>999.00</td>\n",
              "      <td>1.0</td>\n",
              "    </tr>\n",
              "    <tr>\n",
              "      <th>1</th>\n",
              "      <td>03.01.2013</td>\n",
              "      <td>0</td>\n",
              "      <td>25</td>\n",
              "      <td>2552</td>\n",
              "      <td>899.00</td>\n",
              "      <td>1.0</td>\n",
              "    </tr>\n",
              "    <tr>\n",
              "      <th>2</th>\n",
              "      <td>05.01.2013</td>\n",
              "      <td>0</td>\n",
              "      <td>25</td>\n",
              "      <td>2552</td>\n",
              "      <td>899.00</td>\n",
              "      <td>-1.0</td>\n",
              "    </tr>\n",
              "    <tr>\n",
              "      <th>3</th>\n",
              "      <td>06.01.2013</td>\n",
              "      <td>0</td>\n",
              "      <td>25</td>\n",
              "      <td>2554</td>\n",
              "      <td>1709.05</td>\n",
              "      <td>1.0</td>\n",
              "    </tr>\n",
              "    <tr>\n",
              "      <th>4</th>\n",
              "      <td>15.01.2013</td>\n",
              "      <td>0</td>\n",
              "      <td>25</td>\n",
              "      <td>2555</td>\n",
              "      <td>1099.00</td>\n",
              "      <td>1.0</td>\n",
              "    </tr>\n",
              "    <tr>\n",
              "      <th>...</th>\n",
              "      <td>...</td>\n",
              "      <td>...</td>\n",
              "      <td>...</td>\n",
              "      <td>...</td>\n",
              "      <td>...</td>\n",
              "      <td>...</td>\n",
              "    </tr>\n",
              "    <tr>\n",
              "      <th>2935844</th>\n",
              "      <td>10.10.2015</td>\n",
              "      <td>33</td>\n",
              "      <td>25</td>\n",
              "      <td>7409</td>\n",
              "      <td>299.00</td>\n",
              "      <td>1.0</td>\n",
              "    </tr>\n",
              "    <tr>\n",
              "      <th>2935845</th>\n",
              "      <td>09.10.2015</td>\n",
              "      <td>33</td>\n",
              "      <td>25</td>\n",
              "      <td>7460</td>\n",
              "      <td>299.00</td>\n",
              "      <td>1.0</td>\n",
              "    </tr>\n",
              "    <tr>\n",
              "      <th>2935846</th>\n",
              "      <td>14.10.2015</td>\n",
              "      <td>33</td>\n",
              "      <td>25</td>\n",
              "      <td>7459</td>\n",
              "      <td>349.00</td>\n",
              "      <td>1.0</td>\n",
              "    </tr>\n",
              "    <tr>\n",
              "      <th>2935847</th>\n",
              "      <td>22.10.2015</td>\n",
              "      <td>33</td>\n",
              "      <td>25</td>\n",
              "      <td>7440</td>\n",
              "      <td>299.00</td>\n",
              "      <td>1.0</td>\n",
              "    </tr>\n",
              "    <tr>\n",
              "      <th>2935848</th>\n",
              "      <td>03.10.2015</td>\n",
              "      <td>33</td>\n",
              "      <td>25</td>\n",
              "      <td>7460</td>\n",
              "      <td>299.00</td>\n",
              "      <td>1.0</td>\n",
              "    </tr>\n",
              "  </tbody>\n",
              "</table>\n",
              "<p>2935822 rows × 6 columns</p>\n",
              "</div>"
            ],
            "text/plain": [
              "               date  date_block_num  shop_id  item_id  item_price  item_cnt_day\n",
              "0        02.01.2013               0       59    22154      999.00           1.0\n",
              "1        03.01.2013               0       25     2552      899.00           1.0\n",
              "2        05.01.2013               0       25     2552      899.00          -1.0\n",
              "3        06.01.2013               0       25     2554     1709.05           1.0\n",
              "4        15.01.2013               0       25     2555     1099.00           1.0\n",
              "...             ...             ...      ...      ...         ...           ...\n",
              "2935844  10.10.2015              33       25     7409      299.00           1.0\n",
              "2935845  09.10.2015              33       25     7460      299.00           1.0\n",
              "2935846  14.10.2015              33       25     7459      349.00           1.0\n",
              "2935847  22.10.2015              33       25     7440      299.00           1.0\n",
              "2935848  03.10.2015              33       25     7460      299.00           1.0\n",
              "\n",
              "[2935822 rows x 6 columns]"
            ]
          },
          "metadata": {
            "tags": []
          },
          "execution_count": 25
        }
      ]
    },
    {
      "cell_type": "code",
      "metadata": {
        "id": "tQDPf3YI8KBY"
      },
      "source": [
        "train['date'] =  pd.to_datetime(train['date'], format='%d.%m.%Y')"
      ],
      "execution_count": 26,
      "outputs": []
    },
    {
      "cell_type": "code",
      "metadata": {
        "id": "uREaBUEl8KLs"
      },
      "source": [
        "from itertools import product"
      ],
      "execution_count": 27,
      "outputs": []
    },
    {
      "cell_type": "code",
      "metadata": {
        "id": "bUSc4i4WNW5A"
      },
      "source": [
        "from tqdm import tqdm_notebook\n",
        "\n",
        "def downcast_dtypes(df):\n",
        "    '''\n",
        "        Changes column types in the dataframe: \n",
        "                \n",
        "                `float64` type to `float32`\n",
        "                `int64`   type to `int32`\n",
        "    '''\n",
        "    \n",
        "    # Select columns to downcast\n",
        "    float_cols = [c for c in df if df[c].dtype == \"float64\"]\n",
        "    int_cols =   [c for c in df if df[c].dtype == \"int64\"]\n",
        "    \n",
        "    # Downcast\n",
        "    df[float_cols] = df[float_cols].astype(np.float16)\n",
        "    df[int_cols]   = df[int_cols].astype(np.int16)\n",
        "    \n",
        "    return df"
      ],
      "execution_count": 28,
      "outputs": []
    },
    {
      "cell_type": "code",
      "metadata": {
        "id": "kpknLydf8KmI"
      },
      "source": [
        "cartesian = []\n",
        "for month in range(0,34):\n",
        "    shops_in_month = train.loc[train['date_block_num']==month, 'shop_id'].unique()\n",
        "    items_in_month = train.loc[train['date_block_num']==month, 'item_id'].unique()\n",
        "    cartesian.append(np.array(list(product(*[shops_in_month, items_in_month, [month]])), dtype='int32'))"
      ],
      "execution_count": 29,
      "outputs": []
    },
    {
      "cell_type": "code",
      "metadata": {
        "id": "EDo2lsH28Kot"
      },
      "source": [
        "cartesian_df = pd.DataFrame(np.vstack(cartesian), columns = ['shop_id', 'item_id', 'date_block_num'], dtype=np.int32)"
      ],
      "execution_count": 30,
      "outputs": []
    },
    {
      "cell_type": "code",
      "metadata": {
        "colab": {
          "base_uri": "https://localhost:8080/"
        },
        "id": "YUBwn2an8KrR",
        "outputId": "52ffd6ef-a69f-49f3-8d4e-12d296d915dd"
      },
      "source": [
        "cartesian_df.shape"
      ],
      "execution_count": 31,
      "outputs": [
        {
          "output_type": "execute_result",
          "data": {
            "text/plain": [
              "(10913804, 3)"
            ]
          },
          "metadata": {
            "tags": []
          },
          "execution_count": 31
        }
      ]
    },
    {
      "cell_type": "code",
      "metadata": {
        "colab": {
          "base_uri": "https://localhost:8080/",
          "height": 417
        },
        "id": "-J1RX2kW8lv5",
        "outputId": "a96256d1-e2bf-420f-a86e-fbf195421c38"
      },
      "source": [
        "cartesian_df"
      ],
      "execution_count": 32,
      "outputs": [
        {
          "output_type": "execute_result",
          "data": {
            "text/html": [
              "<div>\n",
              "<style scoped>\n",
              "    .dataframe tbody tr th:only-of-type {\n",
              "        vertical-align: middle;\n",
              "    }\n",
              "\n",
              "    .dataframe tbody tr th {\n",
              "        vertical-align: top;\n",
              "    }\n",
              "\n",
              "    .dataframe thead th {\n",
              "        text-align: right;\n",
              "    }\n",
              "</style>\n",
              "<table border=\"1\" class=\"dataframe\">\n",
              "  <thead>\n",
              "    <tr style=\"text-align: right;\">\n",
              "      <th></th>\n",
              "      <th>shop_id</th>\n",
              "      <th>item_id</th>\n",
              "      <th>date_block_num</th>\n",
              "    </tr>\n",
              "  </thead>\n",
              "  <tbody>\n",
              "    <tr>\n",
              "      <th>0</th>\n",
              "      <td>59</td>\n",
              "      <td>22154</td>\n",
              "      <td>0</td>\n",
              "    </tr>\n",
              "    <tr>\n",
              "      <th>1</th>\n",
              "      <td>59</td>\n",
              "      <td>2552</td>\n",
              "      <td>0</td>\n",
              "    </tr>\n",
              "    <tr>\n",
              "      <th>2</th>\n",
              "      <td>59</td>\n",
              "      <td>2554</td>\n",
              "      <td>0</td>\n",
              "    </tr>\n",
              "    <tr>\n",
              "      <th>3</th>\n",
              "      <td>59</td>\n",
              "      <td>2555</td>\n",
              "      <td>0</td>\n",
              "    </tr>\n",
              "    <tr>\n",
              "      <th>4</th>\n",
              "      <td>59</td>\n",
              "      <td>2564</td>\n",
              "      <td>0</td>\n",
              "    </tr>\n",
              "    <tr>\n",
              "      <th>...</th>\n",
              "      <td>...</td>\n",
              "      <td>...</td>\n",
              "      <td>...</td>\n",
              "    </tr>\n",
              "    <tr>\n",
              "      <th>10913799</th>\n",
              "      <td>21</td>\n",
              "      <td>7635</td>\n",
              "      <td>33</td>\n",
              "    </tr>\n",
              "    <tr>\n",
              "      <th>10913800</th>\n",
              "      <td>21</td>\n",
              "      <td>7638</td>\n",
              "      <td>33</td>\n",
              "    </tr>\n",
              "    <tr>\n",
              "      <th>10913801</th>\n",
              "      <td>21</td>\n",
              "      <td>7640</td>\n",
              "      <td>33</td>\n",
              "    </tr>\n",
              "    <tr>\n",
              "      <th>10913802</th>\n",
              "      <td>21</td>\n",
              "      <td>7632</td>\n",
              "      <td>33</td>\n",
              "    </tr>\n",
              "    <tr>\n",
              "      <th>10913803</th>\n",
              "      <td>21</td>\n",
              "      <td>7440</td>\n",
              "      <td>33</td>\n",
              "    </tr>\n",
              "  </tbody>\n",
              "</table>\n",
              "<p>10913804 rows × 3 columns</p>\n",
              "</div>"
            ],
            "text/plain": [
              "          shop_id  item_id  date_block_num\n",
              "0              59    22154               0\n",
              "1              59     2552               0\n",
              "2              59     2554               0\n",
              "3              59     2555               0\n",
              "4              59     2564               0\n",
              "...           ...      ...             ...\n",
              "10913799       21     7635              33\n",
              "10913800       21     7638              33\n",
              "10913801       21     7640              33\n",
              "10913802       21     7632              33\n",
              "10913803       21     7440              33\n",
              "\n",
              "[10913804 rows x 3 columns]"
            ]
          },
          "metadata": {
            "tags": []
          },
          "execution_count": 32
        }
      ]
    },
    {
      "cell_type": "markdown",
      "metadata": {
        "id": "VOBV-DqN-SNX"
      },
      "source": [
        "# Aggregating sales to a monthly level and clipping target variable"
      ]
    },
    {
      "cell_type": "code",
      "metadata": {
        "colab": {
          "base_uri": "https://localhost:8080/",
          "height": 203
        },
        "id": "DzUr_6A48KuF",
        "outputId": "8e5a6538-0663-4e32-cec4-264d9f3fc3ed"
      },
      "source": [
        "x = train.groupby(['shop_id', 'item_id', 'date_block_num'])['item_cnt_day'].sum().rename('item_cnt_month').reset_index()\n",
        "x.head()"
      ],
      "execution_count": 33,
      "outputs": [
        {
          "output_type": "execute_result",
          "data": {
            "text/html": [
              "<div>\n",
              "<style scoped>\n",
              "    .dataframe tbody tr th:only-of-type {\n",
              "        vertical-align: middle;\n",
              "    }\n",
              "\n",
              "    .dataframe tbody tr th {\n",
              "        vertical-align: top;\n",
              "    }\n",
              "\n",
              "    .dataframe thead th {\n",
              "        text-align: right;\n",
              "    }\n",
              "</style>\n",
              "<table border=\"1\" class=\"dataframe\">\n",
              "  <thead>\n",
              "    <tr style=\"text-align: right;\">\n",
              "      <th></th>\n",
              "      <th>shop_id</th>\n",
              "      <th>item_id</th>\n",
              "      <th>date_block_num</th>\n",
              "      <th>item_cnt_month</th>\n",
              "    </tr>\n",
              "  </thead>\n",
              "  <tbody>\n",
              "    <tr>\n",
              "      <th>0</th>\n",
              "      <td>2</td>\n",
              "      <td>27</td>\n",
              "      <td>0</td>\n",
              "      <td>1.0</td>\n",
              "    </tr>\n",
              "    <tr>\n",
              "      <th>1</th>\n",
              "      <td>2</td>\n",
              "      <td>27</td>\n",
              "      <td>17</td>\n",
              "      <td>1.0</td>\n",
              "    </tr>\n",
              "    <tr>\n",
              "      <th>2</th>\n",
              "      <td>2</td>\n",
              "      <td>30</td>\n",
              "      <td>2</td>\n",
              "      <td>1.0</td>\n",
              "    </tr>\n",
              "    <tr>\n",
              "      <th>3</th>\n",
              "      <td>2</td>\n",
              "      <td>30</td>\n",
              "      <td>5</td>\n",
              "      <td>1.0</td>\n",
              "    </tr>\n",
              "    <tr>\n",
              "      <th>4</th>\n",
              "      <td>2</td>\n",
              "      <td>30</td>\n",
              "      <td>15</td>\n",
              "      <td>1.0</td>\n",
              "    </tr>\n",
              "  </tbody>\n",
              "</table>\n",
              "</div>"
            ],
            "text/plain": [
              "   shop_id  item_id  date_block_num  item_cnt_month\n",
              "0        2       27               0             1.0\n",
              "1        2       27              17             1.0\n",
              "2        2       30               2             1.0\n",
              "3        2       30               5             1.0\n",
              "4        2       30              15             1.0"
            ]
          },
          "metadata": {
            "tags": []
          },
          "execution_count": 33
        }
      ]
    },
    {
      "cell_type": "code",
      "metadata": {
        "colab": {
          "base_uri": "https://localhost:8080/"
        },
        "id": "JD1PyfhO8Kwu",
        "outputId": "9c2ac94a-4f16-406e-96a4-602c89fb7052"
      },
      "source": [
        "x.shape"
      ],
      "execution_count": 34,
      "outputs": [
        {
          "output_type": "execute_result",
          "data": {
            "text/plain": [
              "(1609122, 4)"
            ]
          },
          "metadata": {
            "tags": []
          },
          "execution_count": 34
        }
      ]
    },
    {
      "cell_type": "code",
      "metadata": {
        "id": "Mp31nr9M8Kzo"
      },
      "source": [
        "new_train = pd.merge(cartesian_df, x, on=['shop_id', 'item_id', 'date_block_num'], how='left').fillna(0)"
      ],
      "execution_count": 35,
      "outputs": []
    },
    {
      "cell_type": "code",
      "metadata": {
        "id": "puI5uGcC8K2a"
      },
      "source": [
        "new_train['item_cnt_month'] = np.clip(new_train['item_cnt_month'], 0, 20)"
      ],
      "execution_count": 36,
      "outputs": []
    },
    {
      "cell_type": "code",
      "metadata": {
        "id": "VnC-qPhx8K5T"
      },
      "source": [
        "del test_items\n",
        "del train_items\n",
        "#del train"
      ],
      "execution_count": 37,
      "outputs": []
    },
    {
      "cell_type": "code",
      "metadata": {
        "colab": {
          "base_uri": "https://localhost:8080/",
          "height": 203
        },
        "id": "8s0AM5X98K8J",
        "outputId": "fd486d73-cf37-43e0-d744-fd035674951a"
      },
      "source": [
        "new_train.sort_values(['date_block_num','shop_id','item_id'], inplace = True)\n",
        "new_train.head()"
      ],
      "execution_count": 38,
      "outputs": [
        {
          "output_type": "execute_result",
          "data": {
            "text/html": [
              "<div>\n",
              "<style scoped>\n",
              "    .dataframe tbody tr th:only-of-type {\n",
              "        vertical-align: middle;\n",
              "    }\n",
              "\n",
              "    .dataframe tbody tr th {\n",
              "        vertical-align: top;\n",
              "    }\n",
              "\n",
              "    .dataframe thead th {\n",
              "        text-align: right;\n",
              "    }\n",
              "</style>\n",
              "<table border=\"1\" class=\"dataframe\">\n",
              "  <thead>\n",
              "    <tr style=\"text-align: right;\">\n",
              "      <th></th>\n",
              "      <th>shop_id</th>\n",
              "      <th>item_id</th>\n",
              "      <th>date_block_num</th>\n",
              "      <th>item_cnt_month</th>\n",
              "    </tr>\n",
              "  </thead>\n",
              "  <tbody>\n",
              "    <tr>\n",
              "      <th>114910</th>\n",
              "      <td>2</td>\n",
              "      <td>19</td>\n",
              "      <td>0</td>\n",
              "      <td>0.0</td>\n",
              "    </tr>\n",
              "    <tr>\n",
              "      <th>117150</th>\n",
              "      <td>2</td>\n",
              "      <td>27</td>\n",
              "      <td>0</td>\n",
              "      <td>1.0</td>\n",
              "    </tr>\n",
              "    <tr>\n",
              "      <th>120623</th>\n",
              "      <td>2</td>\n",
              "      <td>28</td>\n",
              "      <td>0</td>\n",
              "      <td>0.0</td>\n",
              "    </tr>\n",
              "    <tr>\n",
              "      <th>118316</th>\n",
              "      <td>2</td>\n",
              "      <td>29</td>\n",
              "      <td>0</td>\n",
              "      <td>0.0</td>\n",
              "    </tr>\n",
              "    <tr>\n",
              "      <th>114602</th>\n",
              "      <td>2</td>\n",
              "      <td>32</td>\n",
              "      <td>0</td>\n",
              "      <td>0.0</td>\n",
              "    </tr>\n",
              "  </tbody>\n",
              "</table>\n",
              "</div>"
            ],
            "text/plain": [
              "        shop_id  item_id  date_block_num  item_cnt_month\n",
              "114910        2       19               0             0.0\n",
              "117150        2       27               0             1.0\n",
              "120623        2       28               0             0.0\n",
              "118316        2       29               0             0.0\n",
              "114602        2       32               0             0.0"
            ]
          },
          "metadata": {
            "tags": []
          },
          "execution_count": 38
        }
      ]
    },
    {
      "cell_type": "markdown",
      "metadata": {
        "id": "OQAUhXS4-m-u"
      },
      "source": [
        "Appending Test Set to Training Set"
      ]
    },
    {
      "cell_type": "code",
      "metadata": {
        "id": "Ib8YFqfk8K_C"
      },
      "source": [
        "#test.insert(loc=3, column='date_block_num', value=34)\n",
        "test['date_block_num']=34"
      ],
      "execution_count": 39,
      "outputs": []
    },
    {
      "cell_type": "code",
      "metadata": {
        "id": "drd0y2ib8LAo"
      },
      "source": [
        "test['item_cnt_month'] = 0"
      ],
      "execution_count": 40,
      "outputs": []
    },
    {
      "cell_type": "code",
      "metadata": {
        "colab": {
          "base_uri": "https://localhost:8080/",
          "height": 203
        },
        "id": "eha-WwY88LEZ",
        "outputId": "859c5ee6-b071-40ac-c1b5-2edb4ee984b6"
      },
      "source": [
        "test.head()"
      ],
      "execution_count": 41,
      "outputs": [
        {
          "output_type": "execute_result",
          "data": {
            "text/html": [
              "<div>\n",
              "<style scoped>\n",
              "    .dataframe tbody tr th:only-of-type {\n",
              "        vertical-align: middle;\n",
              "    }\n",
              "\n",
              "    .dataframe tbody tr th {\n",
              "        vertical-align: top;\n",
              "    }\n",
              "\n",
              "    .dataframe thead th {\n",
              "        text-align: right;\n",
              "    }\n",
              "</style>\n",
              "<table border=\"1\" class=\"dataframe\">\n",
              "  <thead>\n",
              "    <tr style=\"text-align: right;\">\n",
              "      <th></th>\n",
              "      <th>ID</th>\n",
              "      <th>shop_id</th>\n",
              "      <th>item_id</th>\n",
              "      <th>date_block_num</th>\n",
              "      <th>item_cnt_month</th>\n",
              "    </tr>\n",
              "  </thead>\n",
              "  <tbody>\n",
              "    <tr>\n",
              "      <th>0</th>\n",
              "      <td>0</td>\n",
              "      <td>5</td>\n",
              "      <td>5037</td>\n",
              "      <td>34</td>\n",
              "      <td>0</td>\n",
              "    </tr>\n",
              "    <tr>\n",
              "      <th>1</th>\n",
              "      <td>1</td>\n",
              "      <td>5</td>\n",
              "      <td>5320</td>\n",
              "      <td>34</td>\n",
              "      <td>0</td>\n",
              "    </tr>\n",
              "    <tr>\n",
              "      <th>2</th>\n",
              "      <td>2</td>\n",
              "      <td>5</td>\n",
              "      <td>5233</td>\n",
              "      <td>34</td>\n",
              "      <td>0</td>\n",
              "    </tr>\n",
              "    <tr>\n",
              "      <th>3</th>\n",
              "      <td>3</td>\n",
              "      <td>5</td>\n",
              "      <td>5232</td>\n",
              "      <td>34</td>\n",
              "      <td>0</td>\n",
              "    </tr>\n",
              "    <tr>\n",
              "      <th>4</th>\n",
              "      <td>4</td>\n",
              "      <td>5</td>\n",
              "      <td>5268</td>\n",
              "      <td>34</td>\n",
              "      <td>0</td>\n",
              "    </tr>\n",
              "  </tbody>\n",
              "</table>\n",
              "</div>"
            ],
            "text/plain": [
              "   ID  shop_id  item_id  date_block_num  item_cnt_month\n",
              "0   0        5     5037              34               0\n",
              "1   1        5     5320              34               0\n",
              "2   2        5     5233              34               0\n",
              "3   3        5     5232              34               0\n",
              "4   4        5     5268              34               0"
            ]
          },
          "metadata": {
            "tags": []
          },
          "execution_count": 41
        }
      ]
    },
    {
      "cell_type": "code",
      "metadata": {
        "id": "U1-0TytZ8LGl"
      },
      "source": [
        "new_train = new_train.append(test.drop('ID', axis = 1))"
      ],
      "execution_count": 42,
      "outputs": []
    },
    {
      "cell_type": "markdown",
      "metadata": {
        "id": "KSivd5P3-wMD"
      },
      "source": [
        "Merging Shops, Items, Categories dataframes to add the city label, category_id, main category and sub-category feature"
      ]
    },
    {
      "cell_type": "code",
      "metadata": {
        "colab": {
          "base_uri": "https://localhost:8080/",
          "height": 203
        },
        "id": "36Kg_Dd08LIo",
        "outputId": "6189028c-e177-40ad-ba4e-09288b6c1e10"
      },
      "source": [
        "new_train = pd.merge(new_train, shops, on=['shop_id'], how='left')\n",
        "new_train.head()"
      ],
      "execution_count": 43,
      "outputs": [
        {
          "output_type": "execute_result",
          "data": {
            "text/html": [
              "<div>\n",
              "<style scoped>\n",
              "    .dataframe tbody tr th:only-of-type {\n",
              "        vertical-align: middle;\n",
              "    }\n",
              "\n",
              "    .dataframe tbody tr th {\n",
              "        vertical-align: top;\n",
              "    }\n",
              "\n",
              "    .dataframe thead th {\n",
              "        text-align: right;\n",
              "    }\n",
              "</style>\n",
              "<table border=\"1\" class=\"dataframe\">\n",
              "  <thead>\n",
              "    <tr style=\"text-align: right;\">\n",
              "      <th></th>\n",
              "      <th>shop_id</th>\n",
              "      <th>item_id</th>\n",
              "      <th>date_block_num</th>\n",
              "      <th>item_cnt_month</th>\n",
              "      <th>city_label</th>\n",
              "    </tr>\n",
              "  </thead>\n",
              "  <tbody>\n",
              "    <tr>\n",
              "      <th>0</th>\n",
              "      <td>2</td>\n",
              "      <td>19</td>\n",
              "      <td>0</td>\n",
              "      <td>0.0</td>\n",
              "      <td>0</td>\n",
              "    </tr>\n",
              "    <tr>\n",
              "      <th>1</th>\n",
              "      <td>2</td>\n",
              "      <td>27</td>\n",
              "      <td>0</td>\n",
              "      <td>1.0</td>\n",
              "      <td>0</td>\n",
              "    </tr>\n",
              "    <tr>\n",
              "      <th>2</th>\n",
              "      <td>2</td>\n",
              "      <td>28</td>\n",
              "      <td>0</td>\n",
              "      <td>0.0</td>\n",
              "      <td>0</td>\n",
              "    </tr>\n",
              "    <tr>\n",
              "      <th>3</th>\n",
              "      <td>2</td>\n",
              "      <td>29</td>\n",
              "      <td>0</td>\n",
              "      <td>0.0</td>\n",
              "      <td>0</td>\n",
              "    </tr>\n",
              "    <tr>\n",
              "      <th>4</th>\n",
              "      <td>2</td>\n",
              "      <td>32</td>\n",
              "      <td>0</td>\n",
              "      <td>0.0</td>\n",
              "      <td>0</td>\n",
              "    </tr>\n",
              "  </tbody>\n",
              "</table>\n",
              "</div>"
            ],
            "text/plain": [
              "   shop_id  item_id  date_block_num  item_cnt_month  city_label\n",
              "0        2       19               0             0.0           0\n",
              "1        2       27               0             1.0           0\n",
              "2        2       28               0             0.0           0\n",
              "3        2       29               0             0.0           0\n",
              "4        2       32               0             0.0           0"
            ]
          },
          "metadata": {
            "tags": []
          },
          "execution_count": 43
        }
      ]
    },
    {
      "cell_type": "code",
      "metadata": {
        "colab": {
          "base_uri": "https://localhost:8080/",
          "height": 203
        },
        "id": "Au2tCc7m8LJy",
        "outputId": "8e271bf5-90ca-4a7d-f09f-d5ce44de9d8a"
      },
      "source": [
        "new_train = pd.merge(new_train, items.drop('item_name', axis = 1), on=['item_id'], how='left')\n",
        "new_train.head()"
      ],
      "execution_count": 44,
      "outputs": [
        {
          "output_type": "execute_result",
          "data": {
            "text/html": [
              "<div>\n",
              "<style scoped>\n",
              "    .dataframe tbody tr th:only-of-type {\n",
              "        vertical-align: middle;\n",
              "    }\n",
              "\n",
              "    .dataframe tbody tr th {\n",
              "        vertical-align: top;\n",
              "    }\n",
              "\n",
              "    .dataframe thead th {\n",
              "        text-align: right;\n",
              "    }\n",
              "</style>\n",
              "<table border=\"1\" class=\"dataframe\">\n",
              "  <thead>\n",
              "    <tr style=\"text-align: right;\">\n",
              "      <th></th>\n",
              "      <th>shop_id</th>\n",
              "      <th>item_id</th>\n",
              "      <th>date_block_num</th>\n",
              "      <th>item_cnt_month</th>\n",
              "      <th>city_label</th>\n",
              "      <th>item_category_id</th>\n",
              "    </tr>\n",
              "  </thead>\n",
              "  <tbody>\n",
              "    <tr>\n",
              "      <th>0</th>\n",
              "      <td>2</td>\n",
              "      <td>19</td>\n",
              "      <td>0</td>\n",
              "      <td>0.0</td>\n",
              "      <td>0</td>\n",
              "      <td>40</td>\n",
              "    </tr>\n",
              "    <tr>\n",
              "      <th>1</th>\n",
              "      <td>2</td>\n",
              "      <td>27</td>\n",
              "      <td>0</td>\n",
              "      <td>1.0</td>\n",
              "      <td>0</td>\n",
              "      <td>19</td>\n",
              "    </tr>\n",
              "    <tr>\n",
              "      <th>2</th>\n",
              "      <td>2</td>\n",
              "      <td>28</td>\n",
              "      <td>0</td>\n",
              "      <td>0.0</td>\n",
              "      <td>0</td>\n",
              "      <td>30</td>\n",
              "    </tr>\n",
              "    <tr>\n",
              "      <th>3</th>\n",
              "      <td>2</td>\n",
              "      <td>29</td>\n",
              "      <td>0</td>\n",
              "      <td>0.0</td>\n",
              "      <td>0</td>\n",
              "      <td>23</td>\n",
              "    </tr>\n",
              "    <tr>\n",
              "      <th>4</th>\n",
              "      <td>2</td>\n",
              "      <td>32</td>\n",
              "      <td>0</td>\n",
              "      <td>0.0</td>\n",
              "      <td>0</td>\n",
              "      <td>40</td>\n",
              "    </tr>\n",
              "  </tbody>\n",
              "</table>\n",
              "</div>"
            ],
            "text/plain": [
              "   shop_id  item_id  ...  city_label  item_category_id\n",
              "0        2       19  ...           0                40\n",
              "1        2       27  ...           0                19\n",
              "2        2       28  ...           0                30\n",
              "3        2       29  ...           0                23\n",
              "4        2       32  ...           0                40\n",
              "\n",
              "[5 rows x 6 columns]"
            ]
          },
          "metadata": {
            "tags": []
          },
          "execution_count": 44
        }
      ]
    },
    {
      "cell_type": "code",
      "metadata": {
        "colab": {
          "base_uri": "https://localhost:8080/",
          "height": 203
        },
        "id": "lO8qTwUZ8LLV",
        "outputId": "7adf08c5-2d53-4e07-aa60-99dcd1c6a555"
      },
      "source": [
        "new_train = pd.merge(new_train, categories.drop('item_category_name', axis = 1), on=['item_category_id'], how='left')\n",
        "new_train.head()"
      ],
      "execution_count": 45,
      "outputs": [
        {
          "output_type": "execute_result",
          "data": {
            "text/html": [
              "<div>\n",
              "<style scoped>\n",
              "    .dataframe tbody tr th:only-of-type {\n",
              "        vertical-align: middle;\n",
              "    }\n",
              "\n",
              "    .dataframe tbody tr th {\n",
              "        vertical-align: top;\n",
              "    }\n",
              "\n",
              "    .dataframe thead th {\n",
              "        text-align: right;\n",
              "    }\n",
              "</style>\n",
              "<table border=\"1\" class=\"dataframe\">\n",
              "  <thead>\n",
              "    <tr style=\"text-align: right;\">\n",
              "      <th></th>\n",
              "      <th>shop_id</th>\n",
              "      <th>item_id</th>\n",
              "      <th>date_block_num</th>\n",
              "      <th>item_cnt_month</th>\n",
              "      <th>city_label</th>\n",
              "      <th>item_category_id</th>\n",
              "      <th>main_category_id</th>\n",
              "      <th>sub_category_id</th>\n",
              "    </tr>\n",
              "  </thead>\n",
              "  <tbody>\n",
              "    <tr>\n",
              "      <th>0</th>\n",
              "      <td>2</td>\n",
              "      <td>19</td>\n",
              "      <td>0</td>\n",
              "      <td>0.0</td>\n",
              "      <td>0</td>\n",
              "      <td>40</td>\n",
              "      <td>11</td>\n",
              "      <td>4</td>\n",
              "    </tr>\n",
              "    <tr>\n",
              "      <th>1</th>\n",
              "      <td>2</td>\n",
              "      <td>27</td>\n",
              "      <td>0</td>\n",
              "      <td>1.0</td>\n",
              "      <td>0</td>\n",
              "      <td>19</td>\n",
              "      <td>5</td>\n",
              "      <td>10</td>\n",
              "    </tr>\n",
              "    <tr>\n",
              "      <th>2</th>\n",
              "      <td>2</td>\n",
              "      <td>28</td>\n",
              "      <td>0</td>\n",
              "      <td>0.0</td>\n",
              "      <td>0</td>\n",
              "      <td>30</td>\n",
              "      <td>8</td>\n",
              "      <td>55</td>\n",
              "    </tr>\n",
              "    <tr>\n",
              "      <th>3</th>\n",
              "      <td>2</td>\n",
              "      <td>29</td>\n",
              "      <td>0</td>\n",
              "      <td>0.0</td>\n",
              "      <td>0</td>\n",
              "      <td>23</td>\n",
              "      <td>5</td>\n",
              "      <td>16</td>\n",
              "    </tr>\n",
              "    <tr>\n",
              "      <th>4</th>\n",
              "      <td>2</td>\n",
              "      <td>32</td>\n",
              "      <td>0</td>\n",
              "      <td>0.0</td>\n",
              "      <td>0</td>\n",
              "      <td>40</td>\n",
              "      <td>11</td>\n",
              "      <td>4</td>\n",
              "    </tr>\n",
              "  </tbody>\n",
              "</table>\n",
              "</div>"
            ],
            "text/plain": [
              "   shop_id  item_id  ...  main_category_id  sub_category_id\n",
              "0        2       19  ...                11                4\n",
              "1        2       27  ...                 5               10\n",
              "2        2       28  ...                 8               55\n",
              "3        2       29  ...                 5               16\n",
              "4        2       32  ...                11                4\n",
              "\n",
              "[5 rows x 8 columns]"
            ]
          },
          "metadata": {
            "tags": []
          },
          "execution_count": 45
        }
      ]
    },
    {
      "cell_type": "markdown",
      "metadata": {
        "id": "yzQDWF2g-4TR"
      },
      "source": [
        "Generating Lag Features and Mean-Encodings"
      ]
    },
    {
      "cell_type": "code",
      "metadata": {
        "id": "pq1ORUN38LQh"
      },
      "source": [
        "def generate_lag(train, months, lag_column):\n",
        "    for month in months:\n",
        "        # Speed up by grabbing only the useful bits\n",
        "        train_shift = train[['date_block_num', 'shop_id', 'item_id', lag_column]].copy()\n",
        "        train_shift.columns = ['date_block_num', 'shop_id', 'item_id', lag_column+'_lag_'+ str(month)]\n",
        "        train_shift['date_block_num'] += month\n",
        "        train = pd.merge(train, train_shift, on=['date_block_num', 'shop_id', 'item_id'], how='left')\n",
        "    return train"
      ],
      "execution_count": 46,
      "outputs": []
    },
    {
      "cell_type": "code",
      "metadata": {
        "id": "JSLOurRO8LS1"
      },
      "source": [
        "del items\n",
        "del categories\n",
        "del shops\n",
        "#del test"
      ],
      "execution_count": 47,
      "outputs": []
    },
    {
      "cell_type": "code",
      "metadata": {
        "id": "j_mszxKo8LWH"
      },
      "source": [
        "new_train = downcast_dtypes(new_train)"
      ],
      "execution_count": 48,
      "outputs": []
    },
    {
      "cell_type": "code",
      "metadata": {
        "colab": {
          "base_uri": "https://localhost:8080/"
        },
        "id": "3a9eVNJH8LYK",
        "outputId": "748d2d86-7c91-4a18-d05d-b9cbe230b56f"
      },
      "source": [
        "import gc\n",
        "gc.collect()"
      ],
      "execution_count": 49,
      "outputs": [
        {
          "output_type": "execute_result",
          "data": {
            "text/plain": [
              "212"
            ]
          },
          "metadata": {
            "tags": []
          },
          "execution_count": 49
        }
      ]
    },
    {
      "cell_type": "markdown",
      "metadata": {
        "id": "39spErNv_BPR"
      },
      "source": [
        "*Lag* for Item_cnt_month\n"
      ]
    },
    {
      "cell_type": "code",
      "metadata": {
        "id": "ZwMS1cnd8LZ9",
        "colab": {
          "base_uri": "https://localhost:8080/"
        },
        "outputId": "b761a74e-f1e5-482c-d298-a69428e78d5b"
      },
      "source": [
        "%%time\n",
        "new_train = generate_lag(new_train, [1,2,3,4,5,6,9,12], 'item_cnt_month')"
      ],
      "execution_count": 50,
      "outputs": [
        {
          "output_type": "stream",
          "text": [
            "CPU times: user 1min 8s, sys: 1.5 s, total: 1min 10s\n",
            "Wall time: 1min 9s\n"
          ],
          "name": "stdout"
        }
      ]
    },
    {
      "cell_type": "code",
      "metadata": {
        "id": "b2RhLK_IO9P3",
        "colab": {
          "base_uri": "https://localhost:8080/",
          "height": 437
        },
        "outputId": "fcfb2dc0-e413-4ad7-f551-4c066209474e"
      },
      "source": [
        "new_train"
      ],
      "execution_count": 51,
      "outputs": [
        {
          "output_type": "execute_result",
          "data": {
            "text/html": [
              "<div>\n",
              "<style scoped>\n",
              "    .dataframe tbody tr th:only-of-type {\n",
              "        vertical-align: middle;\n",
              "    }\n",
              "\n",
              "    .dataframe tbody tr th {\n",
              "        vertical-align: top;\n",
              "    }\n",
              "\n",
              "    .dataframe thead th {\n",
              "        text-align: right;\n",
              "    }\n",
              "</style>\n",
              "<table border=\"1\" class=\"dataframe\">\n",
              "  <thead>\n",
              "    <tr style=\"text-align: right;\">\n",
              "      <th></th>\n",
              "      <th>shop_id</th>\n",
              "      <th>item_id</th>\n",
              "      <th>date_block_num</th>\n",
              "      <th>item_cnt_month</th>\n",
              "      <th>city_label</th>\n",
              "      <th>item_category_id</th>\n",
              "      <th>main_category_id</th>\n",
              "      <th>sub_category_id</th>\n",
              "      <th>item_cnt_month_lag_1</th>\n",
              "      <th>item_cnt_month_lag_2</th>\n",
              "      <th>item_cnt_month_lag_3</th>\n",
              "      <th>item_cnt_month_lag_4</th>\n",
              "      <th>item_cnt_month_lag_5</th>\n",
              "      <th>item_cnt_month_lag_6</th>\n",
              "      <th>item_cnt_month_lag_9</th>\n",
              "      <th>item_cnt_month_lag_12</th>\n",
              "    </tr>\n",
              "  </thead>\n",
              "  <tbody>\n",
              "    <tr>\n",
              "      <th>0</th>\n",
              "      <td>2</td>\n",
              "      <td>19</td>\n",
              "      <td>0</td>\n",
              "      <td>0.0</td>\n",
              "      <td>0</td>\n",
              "      <td>40</td>\n",
              "      <td>11</td>\n",
              "      <td>4</td>\n",
              "      <td>NaN</td>\n",
              "      <td>NaN</td>\n",
              "      <td>NaN</td>\n",
              "      <td>NaN</td>\n",
              "      <td>NaN</td>\n",
              "      <td>NaN</td>\n",
              "      <td>NaN</td>\n",
              "      <td>NaN</td>\n",
              "    </tr>\n",
              "    <tr>\n",
              "      <th>1</th>\n",
              "      <td>2</td>\n",
              "      <td>27</td>\n",
              "      <td>0</td>\n",
              "      <td>1.0</td>\n",
              "      <td>0</td>\n",
              "      <td>19</td>\n",
              "      <td>5</td>\n",
              "      <td>10</td>\n",
              "      <td>NaN</td>\n",
              "      <td>NaN</td>\n",
              "      <td>NaN</td>\n",
              "      <td>NaN</td>\n",
              "      <td>NaN</td>\n",
              "      <td>NaN</td>\n",
              "      <td>NaN</td>\n",
              "      <td>NaN</td>\n",
              "    </tr>\n",
              "    <tr>\n",
              "      <th>2</th>\n",
              "      <td>2</td>\n",
              "      <td>28</td>\n",
              "      <td>0</td>\n",
              "      <td>0.0</td>\n",
              "      <td>0</td>\n",
              "      <td>30</td>\n",
              "      <td>8</td>\n",
              "      <td>55</td>\n",
              "      <td>NaN</td>\n",
              "      <td>NaN</td>\n",
              "      <td>NaN</td>\n",
              "      <td>NaN</td>\n",
              "      <td>NaN</td>\n",
              "      <td>NaN</td>\n",
              "      <td>NaN</td>\n",
              "      <td>NaN</td>\n",
              "    </tr>\n",
              "    <tr>\n",
              "      <th>3</th>\n",
              "      <td>2</td>\n",
              "      <td>29</td>\n",
              "      <td>0</td>\n",
              "      <td>0.0</td>\n",
              "      <td>0</td>\n",
              "      <td>23</td>\n",
              "      <td>5</td>\n",
              "      <td>16</td>\n",
              "      <td>NaN</td>\n",
              "      <td>NaN</td>\n",
              "      <td>NaN</td>\n",
              "      <td>NaN</td>\n",
              "      <td>NaN</td>\n",
              "      <td>NaN</td>\n",
              "      <td>NaN</td>\n",
              "      <td>NaN</td>\n",
              "    </tr>\n",
              "    <tr>\n",
              "      <th>4</th>\n",
              "      <td>2</td>\n",
              "      <td>32</td>\n",
              "      <td>0</td>\n",
              "      <td>0.0</td>\n",
              "      <td>0</td>\n",
              "      <td>40</td>\n",
              "      <td>11</td>\n",
              "      <td>4</td>\n",
              "      <td>NaN</td>\n",
              "      <td>NaN</td>\n",
              "      <td>NaN</td>\n",
              "      <td>NaN</td>\n",
              "      <td>NaN</td>\n",
              "      <td>NaN</td>\n",
              "      <td>NaN</td>\n",
              "      <td>NaN</td>\n",
              "    </tr>\n",
              "    <tr>\n",
              "      <th>...</th>\n",
              "      <td>...</td>\n",
              "      <td>...</td>\n",
              "      <td>...</td>\n",
              "      <td>...</td>\n",
              "      <td>...</td>\n",
              "      <td>...</td>\n",
              "      <td>...</td>\n",
              "      <td>...</td>\n",
              "      <td>...</td>\n",
              "      <td>...</td>\n",
              "      <td>...</td>\n",
              "      <td>...</td>\n",
              "      <td>...</td>\n",
              "      <td>...</td>\n",
              "      <td>...</td>\n",
              "      <td>...</td>\n",
              "    </tr>\n",
              "    <tr>\n",
              "      <th>11127999</th>\n",
              "      <td>45</td>\n",
              "      <td>18454</td>\n",
              "      <td>34</td>\n",
              "      <td>0.0</td>\n",
              "      <td>20</td>\n",
              "      <td>55</td>\n",
              "      <td>13</td>\n",
              "      <td>2</td>\n",
              "      <td>1.0</td>\n",
              "      <td>0.0</td>\n",
              "      <td>0.0</td>\n",
              "      <td>0.0</td>\n",
              "      <td>0.0</td>\n",
              "      <td>0.0</td>\n",
              "      <td>1.0</td>\n",
              "      <td>NaN</td>\n",
              "    </tr>\n",
              "    <tr>\n",
              "      <th>11128000</th>\n",
              "      <td>45</td>\n",
              "      <td>16188</td>\n",
              "      <td>34</td>\n",
              "      <td>0.0</td>\n",
              "      <td>20</td>\n",
              "      <td>64</td>\n",
              "      <td>14</td>\n",
              "      <td>42</td>\n",
              "      <td>0.0</td>\n",
              "      <td>0.0</td>\n",
              "      <td>NaN</td>\n",
              "      <td>NaN</td>\n",
              "      <td>NaN</td>\n",
              "      <td>NaN</td>\n",
              "      <td>NaN</td>\n",
              "      <td>NaN</td>\n",
              "    </tr>\n",
              "    <tr>\n",
              "      <th>11128001</th>\n",
              "      <td>45</td>\n",
              "      <td>15757</td>\n",
              "      <td>34</td>\n",
              "      <td>0.0</td>\n",
              "      <td>20</td>\n",
              "      <td>55</td>\n",
              "      <td>13</td>\n",
              "      <td>2</td>\n",
              "      <td>0.0</td>\n",
              "      <td>0.0</td>\n",
              "      <td>0.0</td>\n",
              "      <td>0.0</td>\n",
              "      <td>0.0</td>\n",
              "      <td>0.0</td>\n",
              "      <td>1.0</td>\n",
              "      <td>0.0</td>\n",
              "    </tr>\n",
              "    <tr>\n",
              "      <th>11128002</th>\n",
              "      <td>45</td>\n",
              "      <td>19648</td>\n",
              "      <td>34</td>\n",
              "      <td>0.0</td>\n",
              "      <td>20</td>\n",
              "      <td>40</td>\n",
              "      <td>11</td>\n",
              "      <td>4</td>\n",
              "      <td>0.0</td>\n",
              "      <td>0.0</td>\n",
              "      <td>0.0</td>\n",
              "      <td>0.0</td>\n",
              "      <td>0.0</td>\n",
              "      <td>0.0</td>\n",
              "      <td>0.0</td>\n",
              "      <td>NaN</td>\n",
              "    </tr>\n",
              "    <tr>\n",
              "      <th>11128003</th>\n",
              "      <td>45</td>\n",
              "      <td>969</td>\n",
              "      <td>34</td>\n",
              "      <td>0.0</td>\n",
              "      <td>20</td>\n",
              "      <td>37</td>\n",
              "      <td>11</td>\n",
              "      <td>1</td>\n",
              "      <td>0.0</td>\n",
              "      <td>0.0</td>\n",
              "      <td>0.0</td>\n",
              "      <td>0.0</td>\n",
              "      <td>0.0</td>\n",
              "      <td>0.0</td>\n",
              "      <td>0.0</td>\n",
              "      <td>0.0</td>\n",
              "    </tr>\n",
              "  </tbody>\n",
              "</table>\n",
              "<p>11128004 rows × 16 columns</p>\n",
              "</div>"
            ],
            "text/plain": [
              "          shop_id  item_id  ...  item_cnt_month_lag_9  item_cnt_month_lag_12\n",
              "0               2       19  ...                   NaN                    NaN\n",
              "1               2       27  ...                   NaN                    NaN\n",
              "2               2       28  ...                   NaN                    NaN\n",
              "3               2       29  ...                   NaN                    NaN\n",
              "4               2       32  ...                   NaN                    NaN\n",
              "...           ...      ...  ...                   ...                    ...\n",
              "11127999       45    18454  ...                   1.0                    NaN\n",
              "11128000       45    16188  ...                   NaN                    NaN\n",
              "11128001       45    15757  ...                   1.0                    0.0\n",
              "11128002       45    19648  ...                   0.0                    NaN\n",
              "11128003       45      969  ...                   0.0                    0.0\n",
              "\n",
              "[11128004 rows x 16 columns]"
            ]
          },
          "metadata": {
            "tags": []
          },
          "execution_count": 51
        }
      ]
    },
    {
      "cell_type": "markdown",
      "metadata": {
        "id": "vFh3firE_EJ6"
      },
      "source": [
        "Lag for Lag for Item_cnt_month mean\n"
      ]
    },
    {
      "cell_type": "code",
      "metadata": {
        "id": "4WBItHpP8Lca",
        "colab": {
          "base_uri": "https://localhost:8080/"
        },
        "outputId": "e8f5e4e0-da28-41ac-bc8b-43b95502f6ab"
      },
      "source": [
        "%%time\n",
        "group = new_train.groupby(['date_block_num', 'item_id'])['item_cnt_month'].mean().rename('item_month_mean').reset_index()\n",
        "new_train = pd.merge(new_train, group, on=['date_block_num', 'item_id'], how='left')\n",
        "new_train = generate_lag(new_train, [1,2,3,6,9,12], 'item_month_mean')\n",
        "new_train.drop(['item_month_mean'], axis=1, inplace=True)\n",
        "new_train.head()"
      ],
      "execution_count": 52,
      "outputs": [
        {
          "output_type": "stream",
          "text": [
            "CPU times: user 1min 5s, sys: 1.51 s, total: 1min 6s\n",
            "Wall time: 1min 6s\n"
          ],
          "name": "stdout"
        }
      ]
    },
    {
      "cell_type": "markdown",
      "metadata": {
        "id": "TrqMZIKt_Q3_"
      },
      "source": [
        "Lag for monthly Shop-Category mean"
      ]
    },
    {
      "cell_type": "code",
      "metadata": {
        "id": "a24dBcIP_F5O",
        "colab": {
          "base_uri": "https://localhost:8080/"
        },
        "outputId": "85a214d2-633e-4277-e207-a326fc8ff969"
      },
      "source": [
        "%%time\n",
        "group = new_train.groupby(['date_block_num', 'shop_id', 'item_category_id'])['item_cnt_month'].mean().rename('shop_category_month_mean').reset_index()\n",
        "new_train = pd.merge(new_train, group, on=['date_block_num', 'shop_id', 'item_category_id'], how='left')\n",
        "new_train = generate_lag(new_train, [1, 2], 'shop_category_month_mean')\n",
        "new_train.drop(['shop_category_month_mean'], axis=1, inplace=True)"
      ],
      "execution_count": 53,
      "outputs": [
        {
          "output_type": "stream",
          "text": [
            "CPU times: user 26.3 s, sys: 452 ms, total: 26.8 s\n",
            "Wall time: 26.6 s\n"
          ],
          "name": "stdout"
        }
      ]
    },
    {
      "cell_type": "code",
      "metadata": {
        "id": "1L4gA3HzUk2_",
        "colab": {
          "base_uri": "https://localhost:8080/",
          "height": 223
        },
        "outputId": "e0212ece-7848-4ef1-bca2-8b5f08cfb30e"
      },
      "source": [
        "new_train.tail()"
      ],
      "execution_count": 54,
      "outputs": [
        {
          "output_type": "execute_result",
          "data": {
            "text/html": [
              "<div>\n",
              "<style scoped>\n",
              "    .dataframe tbody tr th:only-of-type {\n",
              "        vertical-align: middle;\n",
              "    }\n",
              "\n",
              "    .dataframe tbody tr th {\n",
              "        vertical-align: top;\n",
              "    }\n",
              "\n",
              "    .dataframe thead th {\n",
              "        text-align: right;\n",
              "    }\n",
              "</style>\n",
              "<table border=\"1\" class=\"dataframe\">\n",
              "  <thead>\n",
              "    <tr style=\"text-align: right;\">\n",
              "      <th></th>\n",
              "      <th>shop_id</th>\n",
              "      <th>item_id</th>\n",
              "      <th>date_block_num</th>\n",
              "      <th>item_cnt_month</th>\n",
              "      <th>city_label</th>\n",
              "      <th>item_category_id</th>\n",
              "      <th>main_category_id</th>\n",
              "      <th>sub_category_id</th>\n",
              "      <th>item_cnt_month_lag_1</th>\n",
              "      <th>item_cnt_month_lag_2</th>\n",
              "      <th>item_cnt_month_lag_3</th>\n",
              "      <th>item_cnt_month_lag_4</th>\n",
              "      <th>item_cnt_month_lag_5</th>\n",
              "      <th>item_cnt_month_lag_6</th>\n",
              "      <th>item_cnt_month_lag_9</th>\n",
              "      <th>item_cnt_month_lag_12</th>\n",
              "      <th>item_month_mean_lag_1</th>\n",
              "      <th>item_month_mean_lag_2</th>\n",
              "      <th>item_month_mean_lag_3</th>\n",
              "      <th>item_month_mean_lag_6</th>\n",
              "      <th>item_month_mean_lag_9</th>\n",
              "      <th>item_month_mean_lag_12</th>\n",
              "      <th>shop_category_month_mean_lag_1</th>\n",
              "      <th>shop_category_month_mean_lag_2</th>\n",
              "    </tr>\n",
              "  </thead>\n",
              "  <tbody>\n",
              "    <tr>\n",
              "      <th>11127999</th>\n",
              "      <td>45</td>\n",
              "      <td>18454</td>\n",
              "      <td>34</td>\n",
              "      <td>0.0</td>\n",
              "      <td>20</td>\n",
              "      <td>55</td>\n",
              "      <td>13</td>\n",
              "      <td>2</td>\n",
              "      <td>1.0</td>\n",
              "      <td>0.0</td>\n",
              "      <td>0.0</td>\n",
              "      <td>0.0</td>\n",
              "      <td>0.0</td>\n",
              "      <td>0.0</td>\n",
              "      <td>1.0</td>\n",
              "      <td>NaN</td>\n",
              "      <td>0.045441</td>\n",
              "      <td>0.023254</td>\n",
              "      <td>0.071411</td>\n",
              "      <td>0.590820</td>\n",
              "      <td>2.000000</td>\n",
              "      <td>NaN</td>\n",
              "      <td>0.126831</td>\n",
              "      <td>0.074524</td>\n",
              "    </tr>\n",
              "    <tr>\n",
              "      <th>11128000</th>\n",
              "      <td>45</td>\n",
              "      <td>16188</td>\n",
              "      <td>34</td>\n",
              "      <td>0.0</td>\n",
              "      <td>20</td>\n",
              "      <td>64</td>\n",
              "      <td>14</td>\n",
              "      <td>42</td>\n",
              "      <td>0.0</td>\n",
              "      <td>0.0</td>\n",
              "      <td>NaN</td>\n",
              "      <td>NaN</td>\n",
              "      <td>NaN</td>\n",
              "      <td>NaN</td>\n",
              "      <td>NaN</td>\n",
              "      <td>NaN</td>\n",
              "      <td>0.022720</td>\n",
              "      <td>0.069763</td>\n",
              "      <td>NaN</td>\n",
              "      <td>NaN</td>\n",
              "      <td>NaN</td>\n",
              "      <td>NaN</td>\n",
              "      <td>0.094482</td>\n",
              "      <td>0.117126</td>\n",
              "    </tr>\n",
              "    <tr>\n",
              "      <th>11128001</th>\n",
              "      <td>45</td>\n",
              "      <td>15757</td>\n",
              "      <td>34</td>\n",
              "      <td>0.0</td>\n",
              "      <td>20</td>\n",
              "      <td>55</td>\n",
              "      <td>13</td>\n",
              "      <td>2</td>\n",
              "      <td>0.0</td>\n",
              "      <td>0.0</td>\n",
              "      <td>0.0</td>\n",
              "      <td>0.0</td>\n",
              "      <td>0.0</td>\n",
              "      <td>0.0</td>\n",
              "      <td>1.0</td>\n",
              "      <td>0.0</td>\n",
              "      <td>0.113647</td>\n",
              "      <td>0.069763</td>\n",
              "      <td>0.095215</td>\n",
              "      <td>0.250000</td>\n",
              "      <td>0.255371</td>\n",
              "      <td>0.180054</td>\n",
              "      <td>0.126831</td>\n",
              "      <td>0.074524</td>\n",
              "    </tr>\n",
              "    <tr>\n",
              "      <th>11128002</th>\n",
              "      <td>45</td>\n",
              "      <td>19648</td>\n",
              "      <td>34</td>\n",
              "      <td>0.0</td>\n",
              "      <td>20</td>\n",
              "      <td>40</td>\n",
              "      <td>11</td>\n",
              "      <td>4</td>\n",
              "      <td>0.0</td>\n",
              "      <td>0.0</td>\n",
              "      <td>0.0</td>\n",
              "      <td>0.0</td>\n",
              "      <td>0.0</td>\n",
              "      <td>0.0</td>\n",
              "      <td>0.0</td>\n",
              "      <td>NaN</td>\n",
              "      <td>0.045441</td>\n",
              "      <td>0.069763</td>\n",
              "      <td>0.166626</td>\n",
              "      <td>0.090881</td>\n",
              "      <td>0.085083</td>\n",
              "      <td>NaN</td>\n",
              "      <td>0.083740</td>\n",
              "      <td>0.074097</td>\n",
              "    </tr>\n",
              "    <tr>\n",
              "      <th>11128003</th>\n",
              "      <td>45</td>\n",
              "      <td>969</td>\n",
              "      <td>34</td>\n",
              "      <td>0.0</td>\n",
              "      <td>20</td>\n",
              "      <td>37</td>\n",
              "      <td>11</td>\n",
              "      <td>1</td>\n",
              "      <td>0.0</td>\n",
              "      <td>0.0</td>\n",
              "      <td>0.0</td>\n",
              "      <td>0.0</td>\n",
              "      <td>0.0</td>\n",
              "      <td>0.0</td>\n",
              "      <td>0.0</td>\n",
              "      <td>0.0</td>\n",
              "      <td>0.068176</td>\n",
              "      <td>0.116272</td>\n",
              "      <td>0.023804</td>\n",
              "      <td>0.068176</td>\n",
              "      <td>0.148926</td>\n",
              "      <td>0.119995</td>\n",
              "      <td>0.128174</td>\n",
              "      <td>0.067444</td>\n",
              "    </tr>\n",
              "  </tbody>\n",
              "</table>\n",
              "</div>"
            ],
            "text/plain": [
              "          shop_id  ...  shop_category_month_mean_lag_2\n",
              "11127999       45  ...                        0.074524\n",
              "11128000       45  ...                        0.117126\n",
              "11128001       45  ...                        0.074524\n",
              "11128002       45  ...                        0.074097\n",
              "11128003       45  ...                        0.067444\n",
              "\n",
              "[5 rows x 24 columns]"
            ]
          },
          "metadata": {
            "tags": []
          },
          "execution_count": 54
        }
      ]
    },
    {
      "cell_type": "markdown",
      "metadata": {
        "id": "msDl6Xe3_Vbz"
      },
      "source": [
        "Lag for Monthly Main-Category mean"
      ]
    },
    {
      "cell_type": "code",
      "metadata": {
        "id": "V25FGnxM_F7T",
        "colab": {
          "base_uri": "https://localhost:8080/"
        },
        "outputId": "a2c59727-0840-4818-8507-c79af487d838"
      },
      "source": [
        "%%time\n",
        "group = new_train.groupby(['date_block_num', 'main_category_id'])['item_cnt_month'].mean().rename('main_category_month_mean').reset_index()\n",
        "new_train = pd.merge(new_train, group, on=['date_block_num', 'main_category_id'], how='left')\n",
        "\n",
        "new_train = generate_lag(new_train, [1], 'main_category_month_mean')\n",
        "new_train.drop(['main_category_month_mean'], axis=1, inplace=True)"
      ],
      "execution_count": 55,
      "outputs": [
        {
          "output_type": "stream",
          "text": [
            "CPU times: user 16.1 s, sys: 445 ms, total: 16.5 s\n",
            "Wall time: 16.4 s\n"
          ],
          "name": "stdout"
        }
      ]
    },
    {
      "cell_type": "markdown",
      "metadata": {
        "id": "r2G4Q5At_YJX"
      },
      "source": [
        "Lag for Monthly Sub-Category mean"
      ]
    },
    {
      "cell_type": "code",
      "metadata": {
        "id": "WMIWRI--_F9I",
        "colab": {
          "base_uri": "https://localhost:8080/"
        },
        "outputId": "e63c6a63-eee4-4898-a5de-b7740c0d2a62"
      },
      "source": [
        "%%time\n",
        "group = new_train.groupby(['date_block_num', 'sub_category_id'])['item_cnt_month'].mean().rename('sub_category_month_mean').reset_index()\n",
        "new_train = pd.merge(new_train, group, on=['date_block_num', 'sub_category_id'], how='left')\n",
        "\n",
        "new_train = generate_lag(new_train, [1], 'sub_category_month_mean')\n",
        "new_train.drop(['sub_category_month_mean'], axis=1, inplace=True)"
      ],
      "execution_count": 56,
      "outputs": [
        {
          "output_type": "stream",
          "text": [
            "CPU times: user 16.6 s, sys: 432 ms, total: 17 s\n",
            "Wall time: 16.9 s\n"
          ],
          "name": "stdout"
        }
      ]
    },
    {
      "cell_type": "code",
      "metadata": {
        "id": "Nv3fJfs1_F_q",
        "colab": {
          "base_uri": "https://localhost:8080/",
          "height": 223
        },
        "outputId": "2c7e3528-2bc8-41fc-c12e-61cd9b48fefd"
      },
      "source": [
        "new_train.tail()"
      ],
      "execution_count": 57,
      "outputs": [
        {
          "output_type": "execute_result",
          "data": {
            "text/html": [
              "<div>\n",
              "<style scoped>\n",
              "    .dataframe tbody tr th:only-of-type {\n",
              "        vertical-align: middle;\n",
              "    }\n",
              "\n",
              "    .dataframe tbody tr th {\n",
              "        vertical-align: top;\n",
              "    }\n",
              "\n",
              "    .dataframe thead th {\n",
              "        text-align: right;\n",
              "    }\n",
              "</style>\n",
              "<table border=\"1\" class=\"dataframe\">\n",
              "  <thead>\n",
              "    <tr style=\"text-align: right;\">\n",
              "      <th></th>\n",
              "      <th>shop_id</th>\n",
              "      <th>item_id</th>\n",
              "      <th>date_block_num</th>\n",
              "      <th>item_cnt_month</th>\n",
              "      <th>city_label</th>\n",
              "      <th>item_category_id</th>\n",
              "      <th>main_category_id</th>\n",
              "      <th>sub_category_id</th>\n",
              "      <th>item_cnt_month_lag_1</th>\n",
              "      <th>item_cnt_month_lag_2</th>\n",
              "      <th>item_cnt_month_lag_3</th>\n",
              "      <th>item_cnt_month_lag_4</th>\n",
              "      <th>item_cnt_month_lag_5</th>\n",
              "      <th>item_cnt_month_lag_6</th>\n",
              "      <th>item_cnt_month_lag_9</th>\n",
              "      <th>item_cnt_month_lag_12</th>\n",
              "      <th>item_month_mean_lag_1</th>\n",
              "      <th>item_month_mean_lag_2</th>\n",
              "      <th>item_month_mean_lag_3</th>\n",
              "      <th>item_month_mean_lag_6</th>\n",
              "      <th>item_month_mean_lag_9</th>\n",
              "      <th>item_month_mean_lag_12</th>\n",
              "      <th>shop_category_month_mean_lag_1</th>\n",
              "      <th>shop_category_month_mean_lag_2</th>\n",
              "      <th>main_category_month_mean_lag_1</th>\n",
              "      <th>sub_category_month_mean_lag_1</th>\n",
              "    </tr>\n",
              "  </thead>\n",
              "  <tbody>\n",
              "    <tr>\n",
              "      <th>11127999</th>\n",
              "      <td>45</td>\n",
              "      <td>18454</td>\n",
              "      <td>34</td>\n",
              "      <td>0.0</td>\n",
              "      <td>20</td>\n",
              "      <td>55</td>\n",
              "      <td>13</td>\n",
              "      <td>2</td>\n",
              "      <td>1.0</td>\n",
              "      <td>0.0</td>\n",
              "      <td>0.0</td>\n",
              "      <td>0.0</td>\n",
              "      <td>0.0</td>\n",
              "      <td>0.0</td>\n",
              "      <td>1.0</td>\n",
              "      <td>NaN</td>\n",
              "      <td>0.045441</td>\n",
              "      <td>0.023254</td>\n",
              "      <td>0.071411</td>\n",
              "      <td>0.590820</td>\n",
              "      <td>2.000000</td>\n",
              "      <td>NaN</td>\n",
              "      <td>0.126831</td>\n",
              "      <td>0.074524</td>\n",
              "      <td>0.146973</td>\n",
              "      <td>0.196899</td>\n",
              "    </tr>\n",
              "    <tr>\n",
              "      <th>11128000</th>\n",
              "      <td>45</td>\n",
              "      <td>16188</td>\n",
              "      <td>34</td>\n",
              "      <td>0.0</td>\n",
              "      <td>20</td>\n",
              "      <td>64</td>\n",
              "      <td>14</td>\n",
              "      <td>42</td>\n",
              "      <td>0.0</td>\n",
              "      <td>0.0</td>\n",
              "      <td>NaN</td>\n",
              "      <td>NaN</td>\n",
              "      <td>NaN</td>\n",
              "      <td>NaN</td>\n",
              "      <td>NaN</td>\n",
              "      <td>NaN</td>\n",
              "      <td>0.022720</td>\n",
              "      <td>0.069763</td>\n",
              "      <td>NaN</td>\n",
              "      <td>NaN</td>\n",
              "      <td>NaN</td>\n",
              "      <td>NaN</td>\n",
              "      <td>0.094482</td>\n",
              "      <td>0.117126</td>\n",
              "      <td>0.237305</td>\n",
              "      <td>0.155884</td>\n",
              "    </tr>\n",
              "    <tr>\n",
              "      <th>11128001</th>\n",
              "      <td>45</td>\n",
              "      <td>15757</td>\n",
              "      <td>34</td>\n",
              "      <td>0.0</td>\n",
              "      <td>20</td>\n",
              "      <td>55</td>\n",
              "      <td>13</td>\n",
              "      <td>2</td>\n",
              "      <td>0.0</td>\n",
              "      <td>0.0</td>\n",
              "      <td>0.0</td>\n",
              "      <td>0.0</td>\n",
              "      <td>0.0</td>\n",
              "      <td>0.0</td>\n",
              "      <td>1.0</td>\n",
              "      <td>0.0</td>\n",
              "      <td>0.113647</td>\n",
              "      <td>0.069763</td>\n",
              "      <td>0.095215</td>\n",
              "      <td>0.250000</td>\n",
              "      <td>0.255371</td>\n",
              "      <td>0.180054</td>\n",
              "      <td>0.126831</td>\n",
              "      <td>0.074524</td>\n",
              "      <td>0.146973</td>\n",
              "      <td>0.196899</td>\n",
              "    </tr>\n",
              "    <tr>\n",
              "      <th>11128002</th>\n",
              "      <td>45</td>\n",
              "      <td>19648</td>\n",
              "      <td>34</td>\n",
              "      <td>0.0</td>\n",
              "      <td>20</td>\n",
              "      <td>40</td>\n",
              "      <td>11</td>\n",
              "      <td>4</td>\n",
              "      <td>0.0</td>\n",
              "      <td>0.0</td>\n",
              "      <td>0.0</td>\n",
              "      <td>0.0</td>\n",
              "      <td>0.0</td>\n",
              "      <td>0.0</td>\n",
              "      <td>0.0</td>\n",
              "      <td>NaN</td>\n",
              "      <td>0.045441</td>\n",
              "      <td>0.069763</td>\n",
              "      <td>0.166626</td>\n",
              "      <td>0.090881</td>\n",
              "      <td>0.085083</td>\n",
              "      <td>NaN</td>\n",
              "      <td>0.083740</td>\n",
              "      <td>0.074097</td>\n",
              "      <td>0.224243</td>\n",
              "      <td>0.220825</td>\n",
              "    </tr>\n",
              "    <tr>\n",
              "      <th>11128003</th>\n",
              "      <td>45</td>\n",
              "      <td>969</td>\n",
              "      <td>34</td>\n",
              "      <td>0.0</td>\n",
              "      <td>20</td>\n",
              "      <td>37</td>\n",
              "      <td>11</td>\n",
              "      <td>1</td>\n",
              "      <td>0.0</td>\n",
              "      <td>0.0</td>\n",
              "      <td>0.0</td>\n",
              "      <td>0.0</td>\n",
              "      <td>0.0</td>\n",
              "      <td>0.0</td>\n",
              "      <td>0.0</td>\n",
              "      <td>0.0</td>\n",
              "      <td>0.068176</td>\n",
              "      <td>0.116272</td>\n",
              "      <td>0.023804</td>\n",
              "      <td>0.068176</td>\n",
              "      <td>0.148926</td>\n",
              "      <td>0.119995</td>\n",
              "      <td>0.128174</td>\n",
              "      <td>0.067444</td>\n",
              "      <td>0.224243</td>\n",
              "      <td>0.240845</td>\n",
              "    </tr>\n",
              "  </tbody>\n",
              "</table>\n",
              "</div>"
            ],
            "text/plain": [
              "          shop_id  ...  sub_category_month_mean_lag_1\n",
              "11127999       45  ...                       0.196899\n",
              "11128000       45  ...                       0.155884\n",
              "11128001       45  ...                       0.196899\n",
              "11128002       45  ...                       0.220825\n",
              "11128003       45  ...                       0.240845\n",
              "\n",
              "[5 rows x 26 columns]"
            ]
          },
          "metadata": {
            "tags": []
          },
          "execution_count": 57
        }
      ]
    },
    {
      "cell_type": "markdown",
      "metadata": {
        "id": "gayIX0gkQgqc"
      },
      "source": [
        "Price Trend"
      ]
    },
    {
      "cell_type": "code",
      "metadata": {
        "id": "MBEmGFtxQZsu"
      },
      "source": [
        "# average price of items in the entire period\n",
        "group = train.groupby(['item_id']).agg({'item_price': ['mean']})\n",
        "group.columns = ['item_avg_item_price']\n",
        "group.reset_index(inplace=True)\n",
        "\n",
        "matrix = pd.merge(new_train, group, on=['item_id'], how='left')\n",
        "matrix['item_avg_item_price'] = matrix['item_avg_item_price'].astype(np.float16)\n",
        "\n",
        "# monthly\n",
        "group = train.groupby(['date_block_num','item_id']).agg({'item_price': ['mean']})\n",
        "group.columns = ['date_item_avg_item_price']\n",
        "group.reset_index(inplace=True)\n",
        "\n",
        "matrix = pd.merge(matrix, group, on=['date_block_num','item_id'], how='left')\n",
        "matrix['date_item_avg_item_price'] = matrix['date_item_avg_item_price'].astype(np.float16)\n",
        "\n",
        "# lag for 6months\n",
        "lags = [1,2,3,4,5,6]\n",
        "matrix =generate_lag(matrix, lags, 'date_item_avg_item_price')\n",
        "\n",
        "# make 6 lag trends\n",
        "for i in lags:\n",
        "    matrix['delta_price_lag_'+str(i)] = \\\n",
        "        (matrix['date_item_avg_item_price_lag_'+str(i)] - matrix['item_avg_item_price']) / matrix['item_avg_item_price']\n",
        "\n",
        "# choose the most recent trend\n",
        "def select_trend(row):\n",
        "    for i in lags:\n",
        "        if row['delta_price_lag_'+str(i)]:\n",
        "            return row['delta_price_lag_'+str(i)]\n",
        "    return 0\n",
        "\n",
        "matrix['delta_price_lag'] = matrix.apply(select_trend, axis=1)\n",
        "matrix['delta_price_lag'] = matrix['delta_price_lag'].astype(np.float16)\n",
        "matrix['delta_price_lag'].fillna(0, inplace=True)\n",
        "\n",
        "# drop not used feature\n",
        "fetures_to_drop = ['item_avg_item_price', 'date_item_avg_item_price']\n",
        "for i in lags:\n",
        "    fetures_to_drop += ['date_item_avg_item_price_lag_'+str(i)]\n",
        "    fetures_to_drop += ['delta_price_lag_'+str(i)]\n",
        "\n",
        "matrix.drop(fetures_to_drop, axis=1, inplace=True)"
      ],
      "execution_count": 58,
      "outputs": []
    },
    {
      "cell_type": "code",
      "metadata": {
        "id": "CZGodPGDQjt2",
        "colab": {
          "base_uri": "https://localhost:8080/",
          "height": 223
        },
        "outputId": "f429887c-fc44-458a-92e5-bb0ded673933"
      },
      "source": [
        "matrix.head()"
      ],
      "execution_count": 59,
      "outputs": [
        {
          "output_type": "execute_result",
          "data": {
            "text/html": [
              "<div>\n",
              "<style scoped>\n",
              "    .dataframe tbody tr th:only-of-type {\n",
              "        vertical-align: middle;\n",
              "    }\n",
              "\n",
              "    .dataframe tbody tr th {\n",
              "        vertical-align: top;\n",
              "    }\n",
              "\n",
              "    .dataframe thead th {\n",
              "        text-align: right;\n",
              "    }\n",
              "</style>\n",
              "<table border=\"1\" class=\"dataframe\">\n",
              "  <thead>\n",
              "    <tr style=\"text-align: right;\">\n",
              "      <th></th>\n",
              "      <th>shop_id</th>\n",
              "      <th>item_id</th>\n",
              "      <th>date_block_num</th>\n",
              "      <th>item_cnt_month</th>\n",
              "      <th>city_label</th>\n",
              "      <th>item_category_id</th>\n",
              "      <th>main_category_id</th>\n",
              "      <th>sub_category_id</th>\n",
              "      <th>item_cnt_month_lag_1</th>\n",
              "      <th>item_cnt_month_lag_2</th>\n",
              "      <th>item_cnt_month_lag_3</th>\n",
              "      <th>item_cnt_month_lag_4</th>\n",
              "      <th>item_cnt_month_lag_5</th>\n",
              "      <th>item_cnt_month_lag_6</th>\n",
              "      <th>item_cnt_month_lag_9</th>\n",
              "      <th>item_cnt_month_lag_12</th>\n",
              "      <th>item_month_mean_lag_1</th>\n",
              "      <th>item_month_mean_lag_2</th>\n",
              "      <th>item_month_mean_lag_3</th>\n",
              "      <th>item_month_mean_lag_6</th>\n",
              "      <th>item_month_mean_lag_9</th>\n",
              "      <th>item_month_mean_lag_12</th>\n",
              "      <th>shop_category_month_mean_lag_1</th>\n",
              "      <th>shop_category_month_mean_lag_2</th>\n",
              "      <th>main_category_month_mean_lag_1</th>\n",
              "      <th>sub_category_month_mean_lag_1</th>\n",
              "      <th>delta_price_lag</th>\n",
              "    </tr>\n",
              "  </thead>\n",
              "  <tbody>\n",
              "    <tr>\n",
              "      <th>0</th>\n",
              "      <td>2</td>\n",
              "      <td>19</td>\n",
              "      <td>0</td>\n",
              "      <td>0.0</td>\n",
              "      <td>0</td>\n",
              "      <td>40</td>\n",
              "      <td>11</td>\n",
              "      <td>4</td>\n",
              "      <td>NaN</td>\n",
              "      <td>NaN</td>\n",
              "      <td>NaN</td>\n",
              "      <td>NaN</td>\n",
              "      <td>NaN</td>\n",
              "      <td>NaN</td>\n",
              "      <td>NaN</td>\n",
              "      <td>NaN</td>\n",
              "      <td>NaN</td>\n",
              "      <td>NaN</td>\n",
              "      <td>NaN</td>\n",
              "      <td>NaN</td>\n",
              "      <td>NaN</td>\n",
              "      <td>NaN</td>\n",
              "      <td>NaN</td>\n",
              "      <td>NaN</td>\n",
              "      <td>NaN</td>\n",
              "      <td>NaN</td>\n",
              "      <td>0.0</td>\n",
              "    </tr>\n",
              "    <tr>\n",
              "      <th>1</th>\n",
              "      <td>2</td>\n",
              "      <td>27</td>\n",
              "      <td>0</td>\n",
              "      <td>1.0</td>\n",
              "      <td>0</td>\n",
              "      <td>19</td>\n",
              "      <td>5</td>\n",
              "      <td>10</td>\n",
              "      <td>NaN</td>\n",
              "      <td>NaN</td>\n",
              "      <td>NaN</td>\n",
              "      <td>NaN</td>\n",
              "      <td>NaN</td>\n",
              "      <td>NaN</td>\n",
              "      <td>NaN</td>\n",
              "      <td>NaN</td>\n",
              "      <td>NaN</td>\n",
              "      <td>NaN</td>\n",
              "      <td>NaN</td>\n",
              "      <td>NaN</td>\n",
              "      <td>NaN</td>\n",
              "      <td>NaN</td>\n",
              "      <td>NaN</td>\n",
              "      <td>NaN</td>\n",
              "      <td>NaN</td>\n",
              "      <td>NaN</td>\n",
              "      <td>0.0</td>\n",
              "    </tr>\n",
              "    <tr>\n",
              "      <th>2</th>\n",
              "      <td>2</td>\n",
              "      <td>28</td>\n",
              "      <td>0</td>\n",
              "      <td>0.0</td>\n",
              "      <td>0</td>\n",
              "      <td>30</td>\n",
              "      <td>8</td>\n",
              "      <td>55</td>\n",
              "      <td>NaN</td>\n",
              "      <td>NaN</td>\n",
              "      <td>NaN</td>\n",
              "      <td>NaN</td>\n",
              "      <td>NaN</td>\n",
              "      <td>NaN</td>\n",
              "      <td>NaN</td>\n",
              "      <td>NaN</td>\n",
              "      <td>NaN</td>\n",
              "      <td>NaN</td>\n",
              "      <td>NaN</td>\n",
              "      <td>NaN</td>\n",
              "      <td>NaN</td>\n",
              "      <td>NaN</td>\n",
              "      <td>NaN</td>\n",
              "      <td>NaN</td>\n",
              "      <td>NaN</td>\n",
              "      <td>NaN</td>\n",
              "      <td>0.0</td>\n",
              "    </tr>\n",
              "    <tr>\n",
              "      <th>3</th>\n",
              "      <td>2</td>\n",
              "      <td>29</td>\n",
              "      <td>0</td>\n",
              "      <td>0.0</td>\n",
              "      <td>0</td>\n",
              "      <td>23</td>\n",
              "      <td>5</td>\n",
              "      <td>16</td>\n",
              "      <td>NaN</td>\n",
              "      <td>NaN</td>\n",
              "      <td>NaN</td>\n",
              "      <td>NaN</td>\n",
              "      <td>NaN</td>\n",
              "      <td>NaN</td>\n",
              "      <td>NaN</td>\n",
              "      <td>NaN</td>\n",
              "      <td>NaN</td>\n",
              "      <td>NaN</td>\n",
              "      <td>NaN</td>\n",
              "      <td>NaN</td>\n",
              "      <td>NaN</td>\n",
              "      <td>NaN</td>\n",
              "      <td>NaN</td>\n",
              "      <td>NaN</td>\n",
              "      <td>NaN</td>\n",
              "      <td>NaN</td>\n",
              "      <td>0.0</td>\n",
              "    </tr>\n",
              "    <tr>\n",
              "      <th>4</th>\n",
              "      <td>2</td>\n",
              "      <td>32</td>\n",
              "      <td>0</td>\n",
              "      <td>0.0</td>\n",
              "      <td>0</td>\n",
              "      <td>40</td>\n",
              "      <td>11</td>\n",
              "      <td>4</td>\n",
              "      <td>NaN</td>\n",
              "      <td>NaN</td>\n",
              "      <td>NaN</td>\n",
              "      <td>NaN</td>\n",
              "      <td>NaN</td>\n",
              "      <td>NaN</td>\n",
              "      <td>NaN</td>\n",
              "      <td>NaN</td>\n",
              "      <td>NaN</td>\n",
              "      <td>NaN</td>\n",
              "      <td>NaN</td>\n",
              "      <td>NaN</td>\n",
              "      <td>NaN</td>\n",
              "      <td>NaN</td>\n",
              "      <td>NaN</td>\n",
              "      <td>NaN</td>\n",
              "      <td>NaN</td>\n",
              "      <td>NaN</td>\n",
              "      <td>0.0</td>\n",
              "    </tr>\n",
              "  </tbody>\n",
              "</table>\n",
              "</div>"
            ],
            "text/plain": [
              "   shop_id  item_id  ...  sub_category_month_mean_lag_1  delta_price_lag\n",
              "0        2       19  ...                            NaN              0.0\n",
              "1        2       27  ...                            NaN              0.0\n",
              "2        2       28  ...                            NaN              0.0\n",
              "3        2       29  ...                            NaN              0.0\n",
              "4        2       32  ...                            NaN              0.0\n",
              "\n",
              "[5 rows x 27 columns]"
            ]
          },
          "metadata": {
            "tags": []
          },
          "execution_count": 59
        }
      ]
    },
    {
      "cell_type": "markdown",
      "metadata": {
        "id": "Rm63ebIMPadr"
      },
      "source": [
        "Shop revenue Trend"
      ]
    },
    {
      "cell_type": "code",
      "metadata": {
        "id": "CXj-mXPUQZ1F"
      },
      "source": [
        "train['revenue'] = train['item_price'] *  train['item_cnt_day']"
      ],
      "execution_count": 60,
      "outputs": []
    },
    {
      "cell_type": "code",
      "metadata": {
        "id": "gdrlaGruQZ3d"
      },
      "source": [
        "# monthly\n",
        "group = train.groupby(['date_block_num','shop_id']).agg({'revenue': ['sum']})\n",
        "group.columns = ['date_shop_revenue']\n",
        "group.reset_index(inplace=True)\n",
        "\n",
        "matrix = pd.merge(matrix, group, on=['date_block_num','shop_id'], how='left')\n",
        "matrix['date_shop_revenue'] = matrix['date_shop_revenue'].astype(np.float32)\n",
        "\n",
        "# average revenue of shops in the entire period\n",
        "group = group.groupby(['shop_id']).agg({'date_shop_revenue': ['mean']})\n",
        "group.columns = ['shop_avg_revenue']\n",
        "group.reset_index(inplace=True)\n",
        "\n",
        "matrix = pd.merge(matrix, group, on=['shop_id'], how='left')\n",
        "matrix['shop_avg_revenue'] = matrix['shop_avg_revenue'].astype(np.float32)\n",
        "\n",
        "# make trends\n",
        "matrix['delta_revenue'] = (matrix['date_shop_revenue'] - matrix['shop_avg_revenue']) / matrix['shop_avg_revenue']\n",
        "matrix['delta_revenue'] = matrix['delta_revenue'].astype(np.float16)\n",
        "\n",
        "# choose the most recent trend\n",
        "matrix = generate_lag(matrix, [1], 'delta_revenue')\n",
        "\n",
        "# drop not used features\n",
        "matrix.drop(['date_shop_revenue','shop_avg_revenue','delta_revenue'], axis=1, inplace=True)"
      ],
      "execution_count": 61,
      "outputs": []
    },
    {
      "cell_type": "markdown",
      "metadata": {
        "id": "b43FOzJGXC5p"
      },
      "source": [
        "Last sold month"
      ]
    },
    {
      "cell_type": "code",
      "metadata": {
        "id": "R4rZO0J9OXfe"
      },
      "source": [
        "\n",
        "cache = {}\n",
        "matrix['item_last_sale'] = -1\n",
        "matrix['item_last_sale'] = matrix['item_last_sale'].astype(np.int8)\n",
        "\n",
        "# get last sold month for each item\n",
        "for idx, row in matrix.iterrows():    \n",
        "    key = row.item_id\n",
        "    if key not in cache:\n",
        "        if row.item_cnt_month != 0:\n",
        "            cache[key] = row.date_block_num\n",
        "    else:\n",
        "        last_date_block_num = cache[key]\n",
        "        if row.date_block_num > last_date_block_num:\n",
        "            matrix.at[idx, 'item_last_sale'] = row.date_block_num - last_date_block_num\n",
        "            cache[key] = row.date_block_num \n",
        "            "
      ],
      "execution_count": 62,
      "outputs": []
    },
    {
      "cell_type": "code",
      "metadata": {
        "id": "qKvrqlSDOXhK"
      },
      "source": [
        "matrix['item_shop_first_sale'] = matrix['date_block_num'] - matrix.groupby(['item_id','shop_id'])['date_block_num'].transform('min')\n",
        "matrix['item_first_sale'] = matrix['date_block_num'] - matrix.groupby('item_id')['date_block_num'].transform('min')"
      ],
      "execution_count": 63,
      "outputs": []
    },
    {
      "cell_type": "code",
      "metadata": {
        "id": "J9mRBPkiOXjU"
      },
      "source": [
        "def fill_na(df):\n",
        "    for col in df.columns:\n",
        "        if ('_lag_' in col) & (df[col].isnull().any()):\n",
        "            if ('item_cnt' in col):\n",
        "                df[col].fillna(0, inplace=True)         \n",
        "    return df\n",
        "\n",
        "matrix = fill_na(matrix)"
      ],
      "execution_count": 64,
      "outputs": []
    },
    {
      "cell_type": "markdown",
      "metadata": {
        "id": "T333mHer_cp_"
      },
      "source": [
        "Add month feature!"
      ]
    },
    {
      "cell_type": "code",
      "metadata": {
        "id": "0EhjxX1T_GDC"
      },
      "source": [
        "matrix['month'] = matrix['date_block_num'] % 12"
      ],
      "execution_count": 65,
      "outputs": []
    },
    {
      "cell_type": "markdown",
      "metadata": {
        "id": "88SGI2qQ_fgD"
      },
      "source": [
        "Add Holiday feature!"
      ]
    },
    {
      "cell_type": "code",
      "metadata": {
        "id": "gYz0HnG1_GHY"
      },
      "source": [
        "holiday_dict = {\n",
        "    0: 6,\n",
        "    1: 3,\n",
        "    2: 2,\n",
        "    3: 8,\n",
        "    4: 3,\n",
        "    5: 3,\n",
        "    6: 2,\n",
        "    7: 8,\n",
        "    8: 4,\n",
        "    9: 8,\n",
        "    10: 5,\n",
        "    11: 4,\n",
        "}"
      ],
      "execution_count": 66,
      "outputs": []
    },
    {
      "cell_type": "code",
      "metadata": {
        "id": "AjWSFCcf_GJw"
      },
      "source": [
        "matrix['holidays_in_month'] = matrix['month'].map(holiday_dict)"
      ],
      "execution_count": 67,
      "outputs": []
    },
    {
      "cell_type": "markdown",
      "metadata": {
        "id": "c3YOIH9J_wEM"
      },
      "source": [
        "cpi value\n",
        "\n",
        "---\n",
        "\n",
        "\n",
        "\n",
        "---\n",
        "\n",
        "\n"
      ]
    },
    {
      "cell_type": "code",
      "metadata": {
        "id": "fMctFGDM_GQz"
      },
      "source": [
        "cpi = {\n",
        "    \n",
        "    12: 408.3, 13: 411.2, 14: 415.3,\n",
        "    15: 419.1, 16: 422.8, 17: 425.5,\n",
        "    18: 427.5, 19: 428.6, 20: 431.4,\n",
        "    21: 434.9, 22: 440.5, 23: 452,\n",
        "    24: 469.4, 25: 479.8, 26: 485.6,\n",
        "    27: 487.8, 28: 489.5, 29: 490.5,\n",
        "    30: 494.4, 31: 496.1, 32: 499,\n",
        "    33: 502.7, 34: 506.4,\n",
        "\n",
        "\n",
        "}"
      ],
      "execution_count": 68,
      "outputs": []
    },
    {
      "cell_type": "code",
      "metadata": {
        "id": "xm-nqjtV_GSz"
      },
      "source": [
        "matrix['cpi_value'] = matrix.date_block_num.map(cpi)"
      ],
      "execution_count": 69,
      "outputs": []
    },
    {
      "cell_type": "code",
      "metadata": {
        "id": "CG6lkBeQ_GW9"
      },
      "source": [
        "matrix = downcast_dtypes(matrix)"
      ],
      "execution_count": 70,
      "outputs": []
    },
    {
      "cell_type": "code",
      "metadata": {
        "id": "xg0XsvfSON9w",
        "colab": {
          "base_uri": "https://localhost:8080/",
          "height": 223
        },
        "outputId": "38093218-87a8-4c0b-b3e1-f927cc203df4"
      },
      "source": [
        "matrix.head()"
      ],
      "execution_count": 71,
      "outputs": [
        {
          "output_type": "execute_result",
          "data": {
            "text/html": [
              "<div>\n",
              "<style scoped>\n",
              "    .dataframe tbody tr th:only-of-type {\n",
              "        vertical-align: middle;\n",
              "    }\n",
              "\n",
              "    .dataframe tbody tr th {\n",
              "        vertical-align: top;\n",
              "    }\n",
              "\n",
              "    .dataframe thead th {\n",
              "        text-align: right;\n",
              "    }\n",
              "</style>\n",
              "<table border=\"1\" class=\"dataframe\">\n",
              "  <thead>\n",
              "    <tr style=\"text-align: right;\">\n",
              "      <th></th>\n",
              "      <th>shop_id</th>\n",
              "      <th>item_id</th>\n",
              "      <th>date_block_num</th>\n",
              "      <th>item_cnt_month</th>\n",
              "      <th>city_label</th>\n",
              "      <th>item_category_id</th>\n",
              "      <th>main_category_id</th>\n",
              "      <th>sub_category_id</th>\n",
              "      <th>item_cnt_month_lag_1</th>\n",
              "      <th>item_cnt_month_lag_2</th>\n",
              "      <th>item_cnt_month_lag_3</th>\n",
              "      <th>item_cnt_month_lag_4</th>\n",
              "      <th>item_cnt_month_lag_5</th>\n",
              "      <th>item_cnt_month_lag_6</th>\n",
              "      <th>item_cnt_month_lag_9</th>\n",
              "      <th>item_cnt_month_lag_12</th>\n",
              "      <th>item_month_mean_lag_1</th>\n",
              "      <th>item_month_mean_lag_2</th>\n",
              "      <th>item_month_mean_lag_3</th>\n",
              "      <th>item_month_mean_lag_6</th>\n",
              "      <th>item_month_mean_lag_9</th>\n",
              "      <th>item_month_mean_lag_12</th>\n",
              "      <th>shop_category_month_mean_lag_1</th>\n",
              "      <th>shop_category_month_mean_lag_2</th>\n",
              "      <th>main_category_month_mean_lag_1</th>\n",
              "      <th>sub_category_month_mean_lag_1</th>\n",
              "      <th>delta_price_lag</th>\n",
              "      <th>delta_revenue_lag_1</th>\n",
              "      <th>item_last_sale</th>\n",
              "      <th>item_shop_first_sale</th>\n",
              "      <th>item_first_sale</th>\n",
              "      <th>month</th>\n",
              "      <th>holidays_in_month</th>\n",
              "      <th>cpi_value</th>\n",
              "    </tr>\n",
              "  </thead>\n",
              "  <tbody>\n",
              "    <tr>\n",
              "      <th>0</th>\n",
              "      <td>2</td>\n",
              "      <td>19</td>\n",
              "      <td>0</td>\n",
              "      <td>0.0</td>\n",
              "      <td>0</td>\n",
              "      <td>40</td>\n",
              "      <td>11</td>\n",
              "      <td>4</td>\n",
              "      <td>0.0</td>\n",
              "      <td>0.0</td>\n",
              "      <td>0.0</td>\n",
              "      <td>0.0</td>\n",
              "      <td>0.0</td>\n",
              "      <td>0.0</td>\n",
              "      <td>0.0</td>\n",
              "      <td>0.0</td>\n",
              "      <td>NaN</td>\n",
              "      <td>NaN</td>\n",
              "      <td>NaN</td>\n",
              "      <td>NaN</td>\n",
              "      <td>NaN</td>\n",
              "      <td>NaN</td>\n",
              "      <td>NaN</td>\n",
              "      <td>NaN</td>\n",
              "      <td>NaN</td>\n",
              "      <td>NaN</td>\n",
              "      <td>0.0</td>\n",
              "      <td>NaN</td>\n",
              "      <td>-1</td>\n",
              "      <td>0</td>\n",
              "      <td>0</td>\n",
              "      <td>0</td>\n",
              "      <td>6</td>\n",
              "      <td>NaN</td>\n",
              "    </tr>\n",
              "    <tr>\n",
              "      <th>1</th>\n",
              "      <td>2</td>\n",
              "      <td>27</td>\n",
              "      <td>0</td>\n",
              "      <td>1.0</td>\n",
              "      <td>0</td>\n",
              "      <td>19</td>\n",
              "      <td>5</td>\n",
              "      <td>10</td>\n",
              "      <td>0.0</td>\n",
              "      <td>0.0</td>\n",
              "      <td>0.0</td>\n",
              "      <td>0.0</td>\n",
              "      <td>0.0</td>\n",
              "      <td>0.0</td>\n",
              "      <td>0.0</td>\n",
              "      <td>0.0</td>\n",
              "      <td>NaN</td>\n",
              "      <td>NaN</td>\n",
              "      <td>NaN</td>\n",
              "      <td>NaN</td>\n",
              "      <td>NaN</td>\n",
              "      <td>NaN</td>\n",
              "      <td>NaN</td>\n",
              "      <td>NaN</td>\n",
              "      <td>NaN</td>\n",
              "      <td>NaN</td>\n",
              "      <td>0.0</td>\n",
              "      <td>NaN</td>\n",
              "      <td>-1</td>\n",
              "      <td>0</td>\n",
              "      <td>0</td>\n",
              "      <td>0</td>\n",
              "      <td>6</td>\n",
              "      <td>NaN</td>\n",
              "    </tr>\n",
              "    <tr>\n",
              "      <th>2</th>\n",
              "      <td>2</td>\n",
              "      <td>28</td>\n",
              "      <td>0</td>\n",
              "      <td>0.0</td>\n",
              "      <td>0</td>\n",
              "      <td>30</td>\n",
              "      <td>8</td>\n",
              "      <td>55</td>\n",
              "      <td>0.0</td>\n",
              "      <td>0.0</td>\n",
              "      <td>0.0</td>\n",
              "      <td>0.0</td>\n",
              "      <td>0.0</td>\n",
              "      <td>0.0</td>\n",
              "      <td>0.0</td>\n",
              "      <td>0.0</td>\n",
              "      <td>NaN</td>\n",
              "      <td>NaN</td>\n",
              "      <td>NaN</td>\n",
              "      <td>NaN</td>\n",
              "      <td>NaN</td>\n",
              "      <td>NaN</td>\n",
              "      <td>NaN</td>\n",
              "      <td>NaN</td>\n",
              "      <td>NaN</td>\n",
              "      <td>NaN</td>\n",
              "      <td>0.0</td>\n",
              "      <td>NaN</td>\n",
              "      <td>-1</td>\n",
              "      <td>0</td>\n",
              "      <td>0</td>\n",
              "      <td>0</td>\n",
              "      <td>6</td>\n",
              "      <td>NaN</td>\n",
              "    </tr>\n",
              "    <tr>\n",
              "      <th>3</th>\n",
              "      <td>2</td>\n",
              "      <td>29</td>\n",
              "      <td>0</td>\n",
              "      <td>0.0</td>\n",
              "      <td>0</td>\n",
              "      <td>23</td>\n",
              "      <td>5</td>\n",
              "      <td>16</td>\n",
              "      <td>0.0</td>\n",
              "      <td>0.0</td>\n",
              "      <td>0.0</td>\n",
              "      <td>0.0</td>\n",
              "      <td>0.0</td>\n",
              "      <td>0.0</td>\n",
              "      <td>0.0</td>\n",
              "      <td>0.0</td>\n",
              "      <td>NaN</td>\n",
              "      <td>NaN</td>\n",
              "      <td>NaN</td>\n",
              "      <td>NaN</td>\n",
              "      <td>NaN</td>\n",
              "      <td>NaN</td>\n",
              "      <td>NaN</td>\n",
              "      <td>NaN</td>\n",
              "      <td>NaN</td>\n",
              "      <td>NaN</td>\n",
              "      <td>0.0</td>\n",
              "      <td>NaN</td>\n",
              "      <td>-1</td>\n",
              "      <td>0</td>\n",
              "      <td>0</td>\n",
              "      <td>0</td>\n",
              "      <td>6</td>\n",
              "      <td>NaN</td>\n",
              "    </tr>\n",
              "    <tr>\n",
              "      <th>4</th>\n",
              "      <td>2</td>\n",
              "      <td>32</td>\n",
              "      <td>0</td>\n",
              "      <td>0.0</td>\n",
              "      <td>0</td>\n",
              "      <td>40</td>\n",
              "      <td>11</td>\n",
              "      <td>4</td>\n",
              "      <td>0.0</td>\n",
              "      <td>0.0</td>\n",
              "      <td>0.0</td>\n",
              "      <td>0.0</td>\n",
              "      <td>0.0</td>\n",
              "      <td>0.0</td>\n",
              "      <td>0.0</td>\n",
              "      <td>0.0</td>\n",
              "      <td>NaN</td>\n",
              "      <td>NaN</td>\n",
              "      <td>NaN</td>\n",
              "      <td>NaN</td>\n",
              "      <td>NaN</td>\n",
              "      <td>NaN</td>\n",
              "      <td>NaN</td>\n",
              "      <td>NaN</td>\n",
              "      <td>NaN</td>\n",
              "      <td>NaN</td>\n",
              "      <td>0.0</td>\n",
              "      <td>NaN</td>\n",
              "      <td>-1</td>\n",
              "      <td>0</td>\n",
              "      <td>0</td>\n",
              "      <td>0</td>\n",
              "      <td>6</td>\n",
              "      <td>NaN</td>\n",
              "    </tr>\n",
              "  </tbody>\n",
              "</table>\n",
              "</div>"
            ],
            "text/plain": [
              "   shop_id  item_id  date_block_num  ...  month  holidays_in_month  cpi_value\n",
              "0        2       19               0  ...      0                  6        NaN\n",
              "1        2       27               0  ...      0                  6        NaN\n",
              "2        2       28               0  ...      0                  6        NaN\n",
              "3        2       29               0  ...      0                  6        NaN\n",
              "4        2       32               0  ...      0                  6        NaN\n",
              "\n",
              "[5 rows x 34 columns]"
            ]
          },
          "metadata": {
            "tags": []
          },
          "execution_count": 71
        }
      ]
    },
    {
      "cell_type": "code",
      "metadata": {
        "id": "njd7sBCj-gX0"
      },
      "source": [
        "days = pd.Series([31,28,31,30,31,30,31,31,30,31,30,31])\n",
        "matrix['days'] = matrix['month'].map(days).astype(np.int8)"
      ],
      "execution_count": 72,
      "outputs": []
    },
    {
      "cell_type": "code",
      "metadata": {
        "id": "JU49jFHNQZ5o",
        "colab": {
          "base_uri": "https://localhost:8080/",
          "height": 437
        },
        "outputId": "3de19130-5a2c-4794-ae15-aa2593bca255"
      },
      "source": [
        "matrix"
      ],
      "execution_count": 73,
      "outputs": [
        {
          "output_type": "execute_result",
          "data": {
            "text/html": [
              "<div>\n",
              "<style scoped>\n",
              "    .dataframe tbody tr th:only-of-type {\n",
              "        vertical-align: middle;\n",
              "    }\n",
              "\n",
              "    .dataframe tbody tr th {\n",
              "        vertical-align: top;\n",
              "    }\n",
              "\n",
              "    .dataframe thead th {\n",
              "        text-align: right;\n",
              "    }\n",
              "</style>\n",
              "<table border=\"1\" class=\"dataframe\">\n",
              "  <thead>\n",
              "    <tr style=\"text-align: right;\">\n",
              "      <th></th>\n",
              "      <th>shop_id</th>\n",
              "      <th>item_id</th>\n",
              "      <th>date_block_num</th>\n",
              "      <th>item_cnt_month</th>\n",
              "      <th>city_label</th>\n",
              "      <th>item_category_id</th>\n",
              "      <th>main_category_id</th>\n",
              "      <th>sub_category_id</th>\n",
              "      <th>item_cnt_month_lag_1</th>\n",
              "      <th>item_cnt_month_lag_2</th>\n",
              "      <th>item_cnt_month_lag_3</th>\n",
              "      <th>item_cnt_month_lag_4</th>\n",
              "      <th>item_cnt_month_lag_5</th>\n",
              "      <th>item_cnt_month_lag_6</th>\n",
              "      <th>item_cnt_month_lag_9</th>\n",
              "      <th>item_cnt_month_lag_12</th>\n",
              "      <th>item_month_mean_lag_1</th>\n",
              "      <th>item_month_mean_lag_2</th>\n",
              "      <th>item_month_mean_lag_3</th>\n",
              "      <th>item_month_mean_lag_6</th>\n",
              "      <th>item_month_mean_lag_9</th>\n",
              "      <th>item_month_mean_lag_12</th>\n",
              "      <th>shop_category_month_mean_lag_1</th>\n",
              "      <th>shop_category_month_mean_lag_2</th>\n",
              "      <th>main_category_month_mean_lag_1</th>\n",
              "      <th>sub_category_month_mean_lag_1</th>\n",
              "      <th>delta_price_lag</th>\n",
              "      <th>delta_revenue_lag_1</th>\n",
              "      <th>item_last_sale</th>\n",
              "      <th>item_shop_first_sale</th>\n",
              "      <th>item_first_sale</th>\n",
              "      <th>month</th>\n",
              "      <th>holidays_in_month</th>\n",
              "      <th>cpi_value</th>\n",
              "      <th>days</th>\n",
              "    </tr>\n",
              "  </thead>\n",
              "  <tbody>\n",
              "    <tr>\n",
              "      <th>0</th>\n",
              "      <td>2</td>\n",
              "      <td>19</td>\n",
              "      <td>0</td>\n",
              "      <td>0.0</td>\n",
              "      <td>0</td>\n",
              "      <td>40</td>\n",
              "      <td>11</td>\n",
              "      <td>4</td>\n",
              "      <td>0.0</td>\n",
              "      <td>0.0</td>\n",
              "      <td>0.0</td>\n",
              "      <td>0.0</td>\n",
              "      <td>0.0</td>\n",
              "      <td>0.0</td>\n",
              "      <td>0.0</td>\n",
              "      <td>0.0</td>\n",
              "      <td>NaN</td>\n",
              "      <td>NaN</td>\n",
              "      <td>NaN</td>\n",
              "      <td>NaN</td>\n",
              "      <td>NaN</td>\n",
              "      <td>NaN</td>\n",
              "      <td>NaN</td>\n",
              "      <td>NaN</td>\n",
              "      <td>NaN</td>\n",
              "      <td>NaN</td>\n",
              "      <td>0.000000</td>\n",
              "      <td>NaN</td>\n",
              "      <td>-1</td>\n",
              "      <td>0</td>\n",
              "      <td>0</td>\n",
              "      <td>0</td>\n",
              "      <td>6</td>\n",
              "      <td>NaN</td>\n",
              "      <td>31</td>\n",
              "    </tr>\n",
              "    <tr>\n",
              "      <th>1</th>\n",
              "      <td>2</td>\n",
              "      <td>27</td>\n",
              "      <td>0</td>\n",
              "      <td>1.0</td>\n",
              "      <td>0</td>\n",
              "      <td>19</td>\n",
              "      <td>5</td>\n",
              "      <td>10</td>\n",
              "      <td>0.0</td>\n",
              "      <td>0.0</td>\n",
              "      <td>0.0</td>\n",
              "      <td>0.0</td>\n",
              "      <td>0.0</td>\n",
              "      <td>0.0</td>\n",
              "      <td>0.0</td>\n",
              "      <td>0.0</td>\n",
              "      <td>NaN</td>\n",
              "      <td>NaN</td>\n",
              "      <td>NaN</td>\n",
              "      <td>NaN</td>\n",
              "      <td>NaN</td>\n",
              "      <td>NaN</td>\n",
              "      <td>NaN</td>\n",
              "      <td>NaN</td>\n",
              "      <td>NaN</td>\n",
              "      <td>NaN</td>\n",
              "      <td>0.000000</td>\n",
              "      <td>NaN</td>\n",
              "      <td>-1</td>\n",
              "      <td>0</td>\n",
              "      <td>0</td>\n",
              "      <td>0</td>\n",
              "      <td>6</td>\n",
              "      <td>NaN</td>\n",
              "      <td>31</td>\n",
              "    </tr>\n",
              "    <tr>\n",
              "      <th>2</th>\n",
              "      <td>2</td>\n",
              "      <td>28</td>\n",
              "      <td>0</td>\n",
              "      <td>0.0</td>\n",
              "      <td>0</td>\n",
              "      <td>30</td>\n",
              "      <td>8</td>\n",
              "      <td>55</td>\n",
              "      <td>0.0</td>\n",
              "      <td>0.0</td>\n",
              "      <td>0.0</td>\n",
              "      <td>0.0</td>\n",
              "      <td>0.0</td>\n",
              "      <td>0.0</td>\n",
              "      <td>0.0</td>\n",
              "      <td>0.0</td>\n",
              "      <td>NaN</td>\n",
              "      <td>NaN</td>\n",
              "      <td>NaN</td>\n",
              "      <td>NaN</td>\n",
              "      <td>NaN</td>\n",
              "      <td>NaN</td>\n",
              "      <td>NaN</td>\n",
              "      <td>NaN</td>\n",
              "      <td>NaN</td>\n",
              "      <td>NaN</td>\n",
              "      <td>0.000000</td>\n",
              "      <td>NaN</td>\n",
              "      <td>-1</td>\n",
              "      <td>0</td>\n",
              "      <td>0</td>\n",
              "      <td>0</td>\n",
              "      <td>6</td>\n",
              "      <td>NaN</td>\n",
              "      <td>31</td>\n",
              "    </tr>\n",
              "    <tr>\n",
              "      <th>3</th>\n",
              "      <td>2</td>\n",
              "      <td>29</td>\n",
              "      <td>0</td>\n",
              "      <td>0.0</td>\n",
              "      <td>0</td>\n",
              "      <td>23</td>\n",
              "      <td>5</td>\n",
              "      <td>16</td>\n",
              "      <td>0.0</td>\n",
              "      <td>0.0</td>\n",
              "      <td>0.0</td>\n",
              "      <td>0.0</td>\n",
              "      <td>0.0</td>\n",
              "      <td>0.0</td>\n",
              "      <td>0.0</td>\n",
              "      <td>0.0</td>\n",
              "      <td>NaN</td>\n",
              "      <td>NaN</td>\n",
              "      <td>NaN</td>\n",
              "      <td>NaN</td>\n",
              "      <td>NaN</td>\n",
              "      <td>NaN</td>\n",
              "      <td>NaN</td>\n",
              "      <td>NaN</td>\n",
              "      <td>NaN</td>\n",
              "      <td>NaN</td>\n",
              "      <td>0.000000</td>\n",
              "      <td>NaN</td>\n",
              "      <td>-1</td>\n",
              "      <td>0</td>\n",
              "      <td>0</td>\n",
              "      <td>0</td>\n",
              "      <td>6</td>\n",
              "      <td>NaN</td>\n",
              "      <td>31</td>\n",
              "    </tr>\n",
              "    <tr>\n",
              "      <th>4</th>\n",
              "      <td>2</td>\n",
              "      <td>32</td>\n",
              "      <td>0</td>\n",
              "      <td>0.0</td>\n",
              "      <td>0</td>\n",
              "      <td>40</td>\n",
              "      <td>11</td>\n",
              "      <td>4</td>\n",
              "      <td>0.0</td>\n",
              "      <td>0.0</td>\n",
              "      <td>0.0</td>\n",
              "      <td>0.0</td>\n",
              "      <td>0.0</td>\n",
              "      <td>0.0</td>\n",
              "      <td>0.0</td>\n",
              "      <td>0.0</td>\n",
              "      <td>NaN</td>\n",
              "      <td>NaN</td>\n",
              "      <td>NaN</td>\n",
              "      <td>NaN</td>\n",
              "      <td>NaN</td>\n",
              "      <td>NaN</td>\n",
              "      <td>NaN</td>\n",
              "      <td>NaN</td>\n",
              "      <td>NaN</td>\n",
              "      <td>NaN</td>\n",
              "      <td>0.000000</td>\n",
              "      <td>NaN</td>\n",
              "      <td>-1</td>\n",
              "      <td>0</td>\n",
              "      <td>0</td>\n",
              "      <td>0</td>\n",
              "      <td>6</td>\n",
              "      <td>NaN</td>\n",
              "      <td>31</td>\n",
              "    </tr>\n",
              "    <tr>\n",
              "      <th>...</th>\n",
              "      <td>...</td>\n",
              "      <td>...</td>\n",
              "      <td>...</td>\n",
              "      <td>...</td>\n",
              "      <td>...</td>\n",
              "      <td>...</td>\n",
              "      <td>...</td>\n",
              "      <td>...</td>\n",
              "      <td>...</td>\n",
              "      <td>...</td>\n",
              "      <td>...</td>\n",
              "      <td>...</td>\n",
              "      <td>...</td>\n",
              "      <td>...</td>\n",
              "      <td>...</td>\n",
              "      <td>...</td>\n",
              "      <td>...</td>\n",
              "      <td>...</td>\n",
              "      <td>...</td>\n",
              "      <td>...</td>\n",
              "      <td>...</td>\n",
              "      <td>...</td>\n",
              "      <td>...</td>\n",
              "      <td>...</td>\n",
              "      <td>...</td>\n",
              "      <td>...</td>\n",
              "      <td>...</td>\n",
              "      <td>...</td>\n",
              "      <td>...</td>\n",
              "      <td>...</td>\n",
              "      <td>...</td>\n",
              "      <td>...</td>\n",
              "      <td>...</td>\n",
              "      <td>...</td>\n",
              "      <td>...</td>\n",
              "    </tr>\n",
              "    <tr>\n",
              "      <th>11127999</th>\n",
              "      <td>45</td>\n",
              "      <td>18454</td>\n",
              "      <td>34</td>\n",
              "      <td>0.0</td>\n",
              "      <td>20</td>\n",
              "      <td>55</td>\n",
              "      <td>13</td>\n",
              "      <td>2</td>\n",
              "      <td>1.0</td>\n",
              "      <td>0.0</td>\n",
              "      <td>0.0</td>\n",
              "      <td>0.0</td>\n",
              "      <td>0.0</td>\n",
              "      <td>0.0</td>\n",
              "      <td>1.0</td>\n",
              "      <td>0.0</td>\n",
              "      <td>0.045441</td>\n",
              "      <td>0.023254</td>\n",
              "      <td>0.071411</td>\n",
              "      <td>0.590820</td>\n",
              "      <td>2.000000</td>\n",
              "      <td>NaN</td>\n",
              "      <td>0.126831</td>\n",
              "      <td>0.074524</td>\n",
              "      <td>0.146973</td>\n",
              "      <td>0.196899</td>\n",
              "      <td>-0.475098</td>\n",
              "      <td>-0.290039</td>\n",
              "      <td>-1</td>\n",
              "      <td>11</td>\n",
              "      <td>11</td>\n",
              "      <td>10</td>\n",
              "      <td>5</td>\n",
              "      <td>506.5</td>\n",
              "      <td>30</td>\n",
              "    </tr>\n",
              "    <tr>\n",
              "      <th>11128000</th>\n",
              "      <td>45</td>\n",
              "      <td>16188</td>\n",
              "      <td>34</td>\n",
              "      <td>0.0</td>\n",
              "      <td>20</td>\n",
              "      <td>64</td>\n",
              "      <td>14</td>\n",
              "      <td>42</td>\n",
              "      <td>0.0</td>\n",
              "      <td>0.0</td>\n",
              "      <td>0.0</td>\n",
              "      <td>0.0</td>\n",
              "      <td>0.0</td>\n",
              "      <td>0.0</td>\n",
              "      <td>0.0</td>\n",
              "      <td>0.0</td>\n",
              "      <td>0.022720</td>\n",
              "      <td>0.069763</td>\n",
              "      <td>NaN</td>\n",
              "      <td>NaN</td>\n",
              "      <td>NaN</td>\n",
              "      <td>NaN</td>\n",
              "      <td>0.094482</td>\n",
              "      <td>0.117126</td>\n",
              "      <td>0.237305</td>\n",
              "      <td>0.155884</td>\n",
              "      <td>0.081116</td>\n",
              "      <td>-0.290039</td>\n",
              "      <td>-1</td>\n",
              "      <td>2</td>\n",
              "      <td>2</td>\n",
              "      <td>10</td>\n",
              "      <td>5</td>\n",
              "      <td>506.5</td>\n",
              "      <td>30</td>\n",
              "    </tr>\n",
              "    <tr>\n",
              "      <th>11128001</th>\n",
              "      <td>45</td>\n",
              "      <td>15757</td>\n",
              "      <td>34</td>\n",
              "      <td>0.0</td>\n",
              "      <td>20</td>\n",
              "      <td>55</td>\n",
              "      <td>13</td>\n",
              "      <td>2</td>\n",
              "      <td>0.0</td>\n",
              "      <td>0.0</td>\n",
              "      <td>0.0</td>\n",
              "      <td>0.0</td>\n",
              "      <td>0.0</td>\n",
              "      <td>0.0</td>\n",
              "      <td>1.0</td>\n",
              "      <td>0.0</td>\n",
              "      <td>0.113647</td>\n",
              "      <td>0.069763</td>\n",
              "      <td>0.095215</td>\n",
              "      <td>0.250000</td>\n",
              "      <td>0.255371</td>\n",
              "      <td>0.180054</td>\n",
              "      <td>0.126831</td>\n",
              "      <td>0.074524</td>\n",
              "      <td>0.146973</td>\n",
              "      <td>0.196899</td>\n",
              "      <td>0.155884</td>\n",
              "      <td>-0.290039</td>\n",
              "      <td>-1</td>\n",
              "      <td>34</td>\n",
              "      <td>34</td>\n",
              "      <td>10</td>\n",
              "      <td>5</td>\n",
              "      <td>506.5</td>\n",
              "      <td>30</td>\n",
              "    </tr>\n",
              "    <tr>\n",
              "      <th>11128002</th>\n",
              "      <td>45</td>\n",
              "      <td>19648</td>\n",
              "      <td>34</td>\n",
              "      <td>0.0</td>\n",
              "      <td>20</td>\n",
              "      <td>40</td>\n",
              "      <td>11</td>\n",
              "      <td>4</td>\n",
              "      <td>0.0</td>\n",
              "      <td>0.0</td>\n",
              "      <td>0.0</td>\n",
              "      <td>0.0</td>\n",
              "      <td>0.0</td>\n",
              "      <td>0.0</td>\n",
              "      <td>0.0</td>\n",
              "      <td>0.0</td>\n",
              "      <td>0.045441</td>\n",
              "      <td>0.069763</td>\n",
              "      <td>0.166626</td>\n",
              "      <td>0.090881</td>\n",
              "      <td>0.085083</td>\n",
              "      <td>NaN</td>\n",
              "      <td>0.083740</td>\n",
              "      <td>0.074097</td>\n",
              "      <td>0.224243</td>\n",
              "      <td>0.220825</td>\n",
              "      <td>-0.091736</td>\n",
              "      <td>-0.290039</td>\n",
              "      <td>-1</td>\n",
              "      <td>11</td>\n",
              "      <td>11</td>\n",
              "      <td>10</td>\n",
              "      <td>5</td>\n",
              "      <td>506.5</td>\n",
              "      <td>30</td>\n",
              "    </tr>\n",
              "    <tr>\n",
              "      <th>11128003</th>\n",
              "      <td>45</td>\n",
              "      <td>969</td>\n",
              "      <td>34</td>\n",
              "      <td>0.0</td>\n",
              "      <td>20</td>\n",
              "      <td>37</td>\n",
              "      <td>11</td>\n",
              "      <td>1</td>\n",
              "      <td>0.0</td>\n",
              "      <td>0.0</td>\n",
              "      <td>0.0</td>\n",
              "      <td>0.0</td>\n",
              "      <td>0.0</td>\n",
              "      <td>0.0</td>\n",
              "      <td>0.0</td>\n",
              "      <td>0.0</td>\n",
              "      <td>0.068176</td>\n",
              "      <td>0.116272</td>\n",
              "      <td>0.023804</td>\n",
              "      <td>0.068176</td>\n",
              "      <td>0.148926</td>\n",
              "      <td>0.119995</td>\n",
              "      <td>0.128174</td>\n",
              "      <td>0.067444</td>\n",
              "      <td>0.224243</td>\n",
              "      <td>0.240845</td>\n",
              "      <td>-0.605957</td>\n",
              "      <td>-0.290039</td>\n",
              "      <td>-1</td>\n",
              "      <td>17</td>\n",
              "      <td>17</td>\n",
              "      <td>10</td>\n",
              "      <td>5</td>\n",
              "      <td>506.5</td>\n",
              "      <td>30</td>\n",
              "    </tr>\n",
              "  </tbody>\n",
              "</table>\n",
              "<p>11128004 rows × 35 columns</p>\n",
              "</div>"
            ],
            "text/plain": [
              "          shop_id  item_id  date_block_num  ...  holidays_in_month  cpi_value  days\n",
              "0               2       19               0  ...                  6        NaN    31\n",
              "1               2       27               0  ...                  6        NaN    31\n",
              "2               2       28               0  ...                  6        NaN    31\n",
              "3               2       29               0  ...                  6        NaN    31\n",
              "4               2       32               0  ...                  6        NaN    31\n",
              "...           ...      ...             ...  ...                ...        ...   ...\n",
              "11127999       45    18454              34  ...                  5      506.5    30\n",
              "11128000       45    16188              34  ...                  5      506.5    30\n",
              "11128001       45    15757              34  ...                  5      506.5    30\n",
              "11128002       45    19648              34  ...                  5      506.5    30\n",
              "11128003       45      969              34  ...                  5      506.5    30\n",
              "\n",
              "[11128004 rows x 35 columns]"
            ]
          },
          "metadata": {
            "tags": []
          },
          "execution_count": 73
        }
      ]
    },
    {
      "cell_type": "code",
      "metadata": {
        "id": "MUQTZ1HWQZ_e",
        "colab": {
          "base_uri": "https://localhost:8080/"
        },
        "outputId": "89371869-c97a-473c-ed5a-a456187829a9"
      },
      "source": [
        "del new_train\n",
        "gc.collect()"
      ],
      "execution_count": 74,
      "outputs": [
        {
          "output_type": "execute_result",
          "data": {
            "text/plain": [
              "50"
            ]
          },
          "metadata": {
            "tags": []
          },
          "execution_count": 74
        }
      ]
    },
    {
      "cell_type": "markdown",
      "metadata": {
        "id": "Q755xgthn8zi"
      },
      "source": [
        "MAKE TRAINING SET & TRAIN ! "
      ]
    },
    {
      "cell_type": "code",
      "metadata": {
        "id": "hyujL3a6OXml"
      },
      "source": [
        "X_train = matrix[(matrix.date_block_num >11) & (matrix.date_block_num < 33)].drop(['item_cnt_month'], axis=1)\n",
        "Y_train = matrix[(matrix.date_block_num >11) & (matrix.date_block_num < 33)]['item_cnt_month']\n",
        "X_valid = matrix[matrix.date_block_num == 33].drop(['item_cnt_month'], axis=1)\n",
        "Y_valid = matrix[matrix.date_block_num == 33]['item_cnt_month']\n",
        "X_test = matrix[matrix.date_block_num == 34].drop(['item_cnt_month'], axis=1)"
      ],
      "execution_count": 75,
      "outputs": []
    },
    {
      "cell_type": "code",
      "metadata": {
        "id": "SAhdJu8IOi9i",
        "colab": {
          "base_uri": "https://localhost:8080/",
          "height": 223
        },
        "outputId": "abf2758a-9446-4c2d-eaa5-326052921d74"
      },
      "source": [
        "X_train.head()"
      ],
      "execution_count": 76,
      "outputs": [
        {
          "output_type": "execute_result",
          "data": {
            "text/html": [
              "<div>\n",
              "<style scoped>\n",
              "    .dataframe tbody tr th:only-of-type {\n",
              "        vertical-align: middle;\n",
              "    }\n",
              "\n",
              "    .dataframe tbody tr th {\n",
              "        vertical-align: top;\n",
              "    }\n",
              "\n",
              "    .dataframe thead th {\n",
              "        text-align: right;\n",
              "    }\n",
              "</style>\n",
              "<table border=\"1\" class=\"dataframe\">\n",
              "  <thead>\n",
              "    <tr style=\"text-align: right;\">\n",
              "      <th></th>\n",
              "      <th>shop_id</th>\n",
              "      <th>item_id</th>\n",
              "      <th>date_block_num</th>\n",
              "      <th>city_label</th>\n",
              "      <th>item_category_id</th>\n",
              "      <th>main_category_id</th>\n",
              "      <th>sub_category_id</th>\n",
              "      <th>item_cnt_month_lag_1</th>\n",
              "      <th>item_cnt_month_lag_2</th>\n",
              "      <th>item_cnt_month_lag_3</th>\n",
              "      <th>item_cnt_month_lag_4</th>\n",
              "      <th>item_cnt_month_lag_5</th>\n",
              "      <th>item_cnt_month_lag_6</th>\n",
              "      <th>item_cnt_month_lag_9</th>\n",
              "      <th>item_cnt_month_lag_12</th>\n",
              "      <th>item_month_mean_lag_1</th>\n",
              "      <th>item_month_mean_lag_2</th>\n",
              "      <th>item_month_mean_lag_3</th>\n",
              "      <th>item_month_mean_lag_6</th>\n",
              "      <th>item_month_mean_lag_9</th>\n",
              "      <th>item_month_mean_lag_12</th>\n",
              "      <th>shop_category_month_mean_lag_1</th>\n",
              "      <th>shop_category_month_mean_lag_2</th>\n",
              "      <th>main_category_month_mean_lag_1</th>\n",
              "      <th>sub_category_month_mean_lag_1</th>\n",
              "      <th>delta_price_lag</th>\n",
              "      <th>delta_revenue_lag_1</th>\n",
              "      <th>item_last_sale</th>\n",
              "      <th>item_shop_first_sale</th>\n",
              "      <th>item_first_sale</th>\n",
              "      <th>month</th>\n",
              "      <th>holidays_in_month</th>\n",
              "      <th>cpi_value</th>\n",
              "      <th>days</th>\n",
              "    </tr>\n",
              "  </thead>\n",
              "  <tbody>\n",
              "    <tr>\n",
              "      <th>4488710</th>\n",
              "      <td>2</td>\n",
              "      <td>27</td>\n",
              "      <td>12</td>\n",
              "      <td>0</td>\n",
              "      <td>19</td>\n",
              "      <td>5</td>\n",
              "      <td>10</td>\n",
              "      <td>0.0</td>\n",
              "      <td>0.0</td>\n",
              "      <td>0.0</td>\n",
              "      <td>0.0</td>\n",
              "      <td>0.0</td>\n",
              "      <td>0.0</td>\n",
              "      <td>0.0</td>\n",
              "      <td>1.0</td>\n",
              "      <td>0.086975</td>\n",
              "      <td>0.044434</td>\n",
              "      <td>0.130493</td>\n",
              "      <td>0.065247</td>\n",
              "      <td>0.021744</td>\n",
              "      <td>0.155518</td>\n",
              "      <td>0.955566</td>\n",
              "      <td>0.571289</td>\n",
              "      <td>1.03418</td>\n",
              "      <td>1.075195</td>\n",
              "      <td>-0.282715</td>\n",
              "      <td>1.211914</td>\n",
              "      <td>1</td>\n",
              "      <td>12</td>\n",
              "      <td>12</td>\n",
              "      <td>0</td>\n",
              "      <td>6</td>\n",
              "      <td>408.25</td>\n",
              "      <td>31</td>\n",
              "    </tr>\n",
              "    <tr>\n",
              "      <th>4488711</th>\n",
              "      <td>2</td>\n",
              "      <td>30</td>\n",
              "      <td>12</td>\n",
              "      <td>0</td>\n",
              "      <td>40</td>\n",
              "      <td>11</td>\n",
              "      <td>4</td>\n",
              "      <td>0.0</td>\n",
              "      <td>0.0</td>\n",
              "      <td>0.0</td>\n",
              "      <td>0.0</td>\n",
              "      <td>0.0</td>\n",
              "      <td>0.0</td>\n",
              "      <td>0.0</td>\n",
              "      <td>0.0</td>\n",
              "      <td>1.021484</td>\n",
              "      <td>1.022461</td>\n",
              "      <td>0.521973</td>\n",
              "      <td>0.891113</td>\n",
              "      <td>2.826172</td>\n",
              "      <td>NaN</td>\n",
              "      <td>0.046234</td>\n",
              "      <td>0.022934</td>\n",
              "      <td>0.27002</td>\n",
              "      <td>0.291504</td>\n",
              "      <td>-0.483398</td>\n",
              "      <td>1.211914</td>\n",
              "      <td>1</td>\n",
              "      <td>11</td>\n",
              "      <td>11</td>\n",
              "      <td>0</td>\n",
              "      <td>6</td>\n",
              "      <td>408.25</td>\n",
              "      <td>31</td>\n",
              "    </tr>\n",
              "    <tr>\n",
              "      <th>4488712</th>\n",
              "      <td>2</td>\n",
              "      <td>31</td>\n",
              "      <td>12</td>\n",
              "      <td>0</td>\n",
              "      <td>37</td>\n",
              "      <td>11</td>\n",
              "      <td>1</td>\n",
              "      <td>0.0</td>\n",
              "      <td>0.0</td>\n",
              "      <td>0.0</td>\n",
              "      <td>0.0</td>\n",
              "      <td>0.0</td>\n",
              "      <td>0.0</td>\n",
              "      <td>1.0</td>\n",
              "      <td>0.0</td>\n",
              "      <td>0.543457</td>\n",
              "      <td>0.600098</td>\n",
              "      <td>0.543457</td>\n",
              "      <td>0.304443</td>\n",
              "      <td>1.260742</td>\n",
              "      <td>NaN</td>\n",
              "      <td>0.059448</td>\n",
              "      <td>0.046814</td>\n",
              "      <td>0.27002</td>\n",
              "      <td>0.234009</td>\n",
              "      <td>-0.137451</td>\n",
              "      <td>1.211914</td>\n",
              "      <td>1</td>\n",
              "      <td>11</td>\n",
              "      <td>11</td>\n",
              "      <td>0</td>\n",
              "      <td>6</td>\n",
              "      <td>408.25</td>\n",
              "      <td>31</td>\n",
              "    </tr>\n",
              "    <tr>\n",
              "      <th>4488713</th>\n",
              "      <td>2</td>\n",
              "      <td>32</td>\n",
              "      <td>12</td>\n",
              "      <td>0</td>\n",
              "      <td>40</td>\n",
              "      <td>11</td>\n",
              "      <td>4</td>\n",
              "      <td>0.0</td>\n",
              "      <td>0.0</td>\n",
              "      <td>0.0</td>\n",
              "      <td>0.0</td>\n",
              "      <td>0.0</td>\n",
              "      <td>0.0</td>\n",
              "      <td>0.0</td>\n",
              "      <td>0.0</td>\n",
              "      <td>1.934570</td>\n",
              "      <td>1.799805</td>\n",
              "      <td>1.260742</td>\n",
              "      <td>1.891602</td>\n",
              "      <td>2.109375</td>\n",
              "      <td>5.378906</td>\n",
              "      <td>0.046234</td>\n",
              "      <td>0.022934</td>\n",
              "      <td>0.27002</td>\n",
              "      <td>0.291504</td>\n",
              "      <td>-0.407227</td>\n",
              "      <td>1.211914</td>\n",
              "      <td>1</td>\n",
              "      <td>12</td>\n",
              "      <td>12</td>\n",
              "      <td>0</td>\n",
              "      <td>6</td>\n",
              "      <td>408.25</td>\n",
              "      <td>31</td>\n",
              "    </tr>\n",
              "    <tr>\n",
              "      <th>4488714</th>\n",
              "      <td>2</td>\n",
              "      <td>33</td>\n",
              "      <td>12</td>\n",
              "      <td>0</td>\n",
              "      <td>37</td>\n",
              "      <td>11</td>\n",
              "      <td>1</td>\n",
              "      <td>1.0</td>\n",
              "      <td>2.0</td>\n",
              "      <td>0.0</td>\n",
              "      <td>0.0</td>\n",
              "      <td>0.0</td>\n",
              "      <td>0.0</td>\n",
              "      <td>0.0</td>\n",
              "      <td>1.0</td>\n",
              "      <td>0.913086</td>\n",
              "      <td>0.333252</td>\n",
              "      <td>0.717285</td>\n",
              "      <td>1.000000</td>\n",
              "      <td>0.347900</td>\n",
              "      <td>1.355469</td>\n",
              "      <td>0.059448</td>\n",
              "      <td>0.046814</td>\n",
              "      <td>0.27002</td>\n",
              "      <td>0.234009</td>\n",
              "      <td>-0.225464</td>\n",
              "      <td>1.211914</td>\n",
              "      <td>1</td>\n",
              "      <td>12</td>\n",
              "      <td>12</td>\n",
              "      <td>0</td>\n",
              "      <td>6</td>\n",
              "      <td>408.25</td>\n",
              "      <td>31</td>\n",
              "    </tr>\n",
              "  </tbody>\n",
              "</table>\n",
              "</div>"
            ],
            "text/plain": [
              "         shop_id  item_id  date_block_num  ...  holidays_in_month  cpi_value  days\n",
              "4488710        2       27              12  ...                  6     408.25    31\n",
              "4488711        2       30              12  ...                  6     408.25    31\n",
              "4488712        2       31              12  ...                  6     408.25    31\n",
              "4488713        2       32              12  ...                  6     408.25    31\n",
              "4488714        2       33              12  ...                  6     408.25    31\n",
              "\n",
              "[5 rows x 34 columns]"
            ]
          },
          "metadata": {
            "tags": []
          },
          "execution_count": 76
        }
      ]
    },
    {
      "cell_type": "markdown",
      "metadata": {
        "id": "kKA_usNi_21D"
      },
      "source": [
        "Training"
      ]
    },
    {
      "cell_type": "code",
      "metadata": {
        "id": "Ufk0JHU5_Gp_"
      },
      "source": [
        "feature_name=X_train.columns.tolist()"
      ],
      "execution_count": 77,
      "outputs": []
    },
    {
      "cell_type": "code",
      "metadata": {
        "id": "tjT6UcDdACUw",
        "colab": {
          "base_uri": "https://localhost:8080/"
        },
        "outputId": "4d639ff5-9077-4962-c50e-948c28b0e969"
      },
      "source": [
        "from sklearn import linear_model, preprocessing\n",
        "from sklearn.model_selection import GroupKFold\n",
        "import lightgbm as lgb\n",
        "\n",
        "params={'learning_rate': 0.01,\n",
        "        'objective':'mse',\n",
        "        'metric':'rmse',\n",
        "        'num_leaves': 120,\n",
        "        'verbose': 1,\n",
        "        'random_state':42,\n",
        "        'bagging_fraction': 0.75,\n",
        "        'feature_fraction': 0.75,\n",
        "        'bagging_freq':5\n",
        "        \n",
        "       }\n",
        "lgb_train=lgb.Dataset(X_train[feature_name],Y_train)\n",
        "lgb_eval = lgb.Dataset(X_valid[feature_name], Y_valid, reference=lgb_train)\n",
        "\n",
        "evals_result = {}\n",
        "gbm = lgb.train(\n",
        "        params, \n",
        "        lgb_train,\n",
        "        num_boost_round=3000,\n",
        "        valid_sets=(lgb_train, lgb_eval), \n",
        "        feature_name = feature_name,\n",
        "        verbose_eval=5, \n",
        "        evals_result = evals_result)\n"
      ],
      "execution_count": 78,
      "outputs": [
        {
          "output_type": "stream",
          "text": [
            "[5]\ttraining's rmse: 1.16208\tvalid_1's rmse: 1.11787\n",
            "[10]\ttraining's rmse: 1.13857\tvalid_1's rmse: 1.10075\n",
            "[15]\ttraining's rmse: 1.11524\tvalid_1's rmse: 1.08467\n",
            "[20]\ttraining's rmse: 1.09385\tvalid_1's rmse: 1.07011\n",
            "[25]\ttraining's rmse: 1.07362\tvalid_1's rmse: 1.05661\n",
            "[30]\ttraining's rmse: 1.05495\tvalid_1's rmse: 1.04388\n",
            "[35]\ttraining's rmse: 1.03747\tvalid_1's rmse: 1.03297\n",
            "[40]\ttraining's rmse: 1.02188\tvalid_1's rmse: 1.02313\n",
            "[45]\ttraining's rmse: 1.00684\tvalid_1's rmse: 1.01412\n",
            "[50]\ttraining's rmse: 0.993093\tvalid_1's rmse: 1.00574\n",
            "[55]\ttraining's rmse: 0.98027\tvalid_1's rmse: 0.997929\n",
            "[60]\ttraining's rmse: 0.967871\tvalid_1's rmse: 0.99109\n",
            "[65]\ttraining's rmse: 0.956456\tvalid_1's rmse: 0.984992\n",
            "[70]\ttraining's rmse: 0.946195\tvalid_1's rmse: 0.978829\n",
            "[75]\ttraining's rmse: 0.936592\tvalid_1's rmse: 0.974228\n",
            "[80]\ttraining's rmse: 0.927853\tvalid_1's rmse: 0.970222\n",
            "[85]\ttraining's rmse: 0.919312\tvalid_1's rmse: 0.96721\n",
            "[90]\ttraining's rmse: 0.911625\tvalid_1's rmse: 0.963592\n",
            "[95]\ttraining's rmse: 0.904179\tvalid_1's rmse: 0.961583\n",
            "[100]\ttraining's rmse: 0.897243\tvalid_1's rmse: 0.959552\n",
            "[105]\ttraining's rmse: 0.890815\tvalid_1's rmse: 0.957621\n",
            "[110]\ttraining's rmse: 0.884817\tvalid_1's rmse: 0.955796\n",
            "[115]\ttraining's rmse: 0.879074\tvalid_1's rmse: 0.953677\n",
            "[120]\ttraining's rmse: 0.873792\tvalid_1's rmse: 0.952089\n",
            "[125]\ttraining's rmse: 0.869199\tvalid_1's rmse: 0.949688\n",
            "[130]\ttraining's rmse: 0.864603\tvalid_1's rmse: 0.948109\n",
            "[135]\ttraining's rmse: 0.860289\tvalid_1's rmse: 0.946431\n",
            "[140]\ttraining's rmse: 0.856211\tvalid_1's rmse: 0.945164\n",
            "[145]\ttraining's rmse: 0.852261\tvalid_1's rmse: 0.944798\n",
            "[150]\ttraining's rmse: 0.848549\tvalid_1's rmse: 0.944352\n",
            "[155]\ttraining's rmse: 0.845184\tvalid_1's rmse: 0.943588\n",
            "[160]\ttraining's rmse: 0.841937\tvalid_1's rmse: 0.942321\n",
            "[165]\ttraining's rmse: 0.838776\tvalid_1's rmse: 0.941956\n",
            "[170]\ttraining's rmse: 0.835934\tvalid_1's rmse: 0.941218\n",
            "[175]\ttraining's rmse: 0.83317\tvalid_1's rmse: 0.941049\n",
            "[180]\ttraining's rmse: 0.830546\tvalid_1's rmse: 0.94127\n",
            "[185]\ttraining's rmse: 0.828067\tvalid_1's rmse: 0.940516\n",
            "[190]\ttraining's rmse: 0.825799\tvalid_1's rmse: 0.940592\n",
            "[195]\ttraining's rmse: 0.8236\tvalid_1's rmse: 0.940463\n",
            "[200]\ttraining's rmse: 0.821526\tvalid_1's rmse: 0.940156\n",
            "[205]\ttraining's rmse: 0.819585\tvalid_1's rmse: 0.939763\n",
            "[210]\ttraining's rmse: 0.817622\tvalid_1's rmse: 0.939686\n",
            "[215]\ttraining's rmse: 0.815796\tvalid_1's rmse: 0.939348\n",
            "[220]\ttraining's rmse: 0.814029\tvalid_1's rmse: 0.940172\n",
            "[225]\ttraining's rmse: 0.812288\tvalid_1's rmse: 0.939671\n",
            "[230]\ttraining's rmse: 0.810622\tvalid_1's rmse: 0.939699\n",
            "[235]\ttraining's rmse: 0.809036\tvalid_1's rmse: 0.940049\n",
            "[240]\ttraining's rmse: 0.807462\tvalid_1's rmse: 0.940768\n",
            "[245]\ttraining's rmse: 0.806052\tvalid_1's rmse: 0.940974\n",
            "[250]\ttraining's rmse: 0.804561\tvalid_1's rmse: 0.941793\n",
            "[255]\ttraining's rmse: 0.803146\tvalid_1's rmse: 0.9416\n",
            "[260]\ttraining's rmse: 0.801832\tvalid_1's rmse: 0.941727\n",
            "[265]\ttraining's rmse: 0.800481\tvalid_1's rmse: 0.941553\n",
            "[270]\ttraining's rmse: 0.799268\tvalid_1's rmse: 0.941447\n",
            "[275]\ttraining's rmse: 0.798084\tvalid_1's rmse: 0.941458\n",
            "[280]\ttraining's rmse: 0.797001\tvalid_1's rmse: 0.941177\n",
            "[285]\ttraining's rmse: 0.796029\tvalid_1's rmse: 0.941248\n",
            "[290]\ttraining's rmse: 0.795047\tvalid_1's rmse: 0.941043\n",
            "[295]\ttraining's rmse: 0.794012\tvalid_1's rmse: 0.941071\n",
            "[300]\ttraining's rmse: 0.79293\tvalid_1's rmse: 0.941211\n",
            "[305]\ttraining's rmse: 0.791952\tvalid_1's rmse: 0.941168\n",
            "[310]\ttraining's rmse: 0.791018\tvalid_1's rmse: 0.940964\n",
            "[315]\ttraining's rmse: 0.790123\tvalid_1's rmse: 0.940911\n",
            "[320]\ttraining's rmse: 0.789257\tvalid_1's rmse: 0.940681\n",
            "[325]\ttraining's rmse: 0.788365\tvalid_1's rmse: 0.940177\n",
            "[330]\ttraining's rmse: 0.787466\tvalid_1's rmse: 0.940214\n",
            "[335]\ttraining's rmse: 0.786592\tvalid_1's rmse: 0.939763\n",
            "[340]\ttraining's rmse: 0.785883\tvalid_1's rmse: 0.939835\n",
            "[345]\ttraining's rmse: 0.785096\tvalid_1's rmse: 0.939888\n",
            "[350]\ttraining's rmse: 0.784199\tvalid_1's rmse: 0.939796\n",
            "[355]\ttraining's rmse: 0.783449\tvalid_1's rmse: 0.939812\n",
            "[360]\ttraining's rmse: 0.782782\tvalid_1's rmse: 0.93956\n",
            "[365]\ttraining's rmse: 0.782077\tvalid_1's rmse: 0.939661\n",
            "[370]\ttraining's rmse: 0.781383\tvalid_1's rmse: 0.939317\n",
            "[375]\ttraining's rmse: 0.780678\tvalid_1's rmse: 0.939168\n",
            "[380]\ttraining's rmse: 0.779953\tvalid_1's rmse: 0.939263\n",
            "[385]\ttraining's rmse: 0.779303\tvalid_1's rmse: 0.93921\n",
            "[390]\ttraining's rmse: 0.778618\tvalid_1's rmse: 0.939565\n",
            "[395]\ttraining's rmse: 0.777936\tvalid_1's rmse: 0.939681\n",
            "[400]\ttraining's rmse: 0.777263\tvalid_1's rmse: 0.939517\n",
            "[405]\ttraining's rmse: 0.776663\tvalid_1's rmse: 0.939493\n",
            "[410]\ttraining's rmse: 0.776064\tvalid_1's rmse: 0.93932\n",
            "[415]\ttraining's rmse: 0.775461\tvalid_1's rmse: 0.939101\n",
            "[420]\ttraining's rmse: 0.774941\tvalid_1's rmse: 0.939015\n",
            "[425]\ttraining's rmse: 0.774328\tvalid_1's rmse: 0.939062\n",
            "[430]\ttraining's rmse: 0.773759\tvalid_1's rmse: 0.938967\n",
            "[435]\ttraining's rmse: 0.773208\tvalid_1's rmse: 0.939144\n",
            "[440]\ttraining's rmse: 0.772688\tvalid_1's rmse: 0.939153\n",
            "[445]\ttraining's rmse: 0.77218\tvalid_1's rmse: 0.939141\n",
            "[450]\ttraining's rmse: 0.771665\tvalid_1's rmse: 0.939018\n",
            "[455]\ttraining's rmse: 0.771162\tvalid_1's rmse: 0.939064\n",
            "[460]\ttraining's rmse: 0.77062\tvalid_1's rmse: 0.939028\n",
            "[465]\ttraining's rmse: 0.770135\tvalid_1's rmse: 0.93909\n",
            "[470]\ttraining's rmse: 0.769681\tvalid_1's rmse: 0.938948\n",
            "[475]\ttraining's rmse: 0.76915\tvalid_1's rmse: 0.938941\n",
            "[480]\ttraining's rmse: 0.76869\tvalid_1's rmse: 0.93892\n",
            "[485]\ttraining's rmse: 0.768176\tvalid_1's rmse: 0.938837\n",
            "[490]\ttraining's rmse: 0.767683\tvalid_1's rmse: 0.938444\n",
            "[495]\ttraining's rmse: 0.76726\tvalid_1's rmse: 0.93848\n",
            "[500]\ttraining's rmse: 0.766722\tvalid_1's rmse: 0.938243\n",
            "[505]\ttraining's rmse: 0.766259\tvalid_1's rmse: 0.93812\n",
            "[510]\ttraining's rmse: 0.765836\tvalid_1's rmse: 0.937969\n",
            "[515]\ttraining's rmse: 0.765374\tvalid_1's rmse: 0.937857\n",
            "[520]\ttraining's rmse: 0.764942\tvalid_1's rmse: 0.937791\n",
            "[525]\ttraining's rmse: 0.764486\tvalid_1's rmse: 0.937769\n",
            "[530]\ttraining's rmse: 0.764111\tvalid_1's rmse: 0.9377\n",
            "[535]\ttraining's rmse: 0.763692\tvalid_1's rmse: 0.937596\n",
            "[540]\ttraining's rmse: 0.763288\tvalid_1's rmse: 0.937611\n",
            "[545]\ttraining's rmse: 0.76286\tvalid_1's rmse: 0.937582\n",
            "[550]\ttraining's rmse: 0.762445\tvalid_1's rmse: 0.937474\n",
            "[555]\ttraining's rmse: 0.76206\tvalid_1's rmse: 0.937501\n",
            "[560]\ttraining's rmse: 0.761635\tvalid_1's rmse: 0.937565\n",
            "[565]\ttraining's rmse: 0.761299\tvalid_1's rmse: 0.937588\n",
            "[570]\ttraining's rmse: 0.7609\tvalid_1's rmse: 0.937713\n",
            "[575]\ttraining's rmse: 0.760531\tvalid_1's rmse: 0.937705\n",
            "[580]\ttraining's rmse: 0.760112\tvalid_1's rmse: 0.93774\n",
            "[585]\ttraining's rmse: 0.759731\tvalid_1's rmse: 0.937679\n",
            "[590]\ttraining's rmse: 0.759266\tvalid_1's rmse: 0.937587\n",
            "[595]\ttraining's rmse: 0.758943\tvalid_1's rmse: 0.937567\n",
            "[600]\ttraining's rmse: 0.758556\tvalid_1's rmse: 0.937518\n",
            "[605]\ttraining's rmse: 0.758214\tvalid_1's rmse: 0.937603\n",
            "[610]\ttraining's rmse: 0.757874\tvalid_1's rmse: 0.937525\n",
            "[615]\ttraining's rmse: 0.757536\tvalid_1's rmse: 0.937496\n",
            "[620]\ttraining's rmse: 0.757185\tvalid_1's rmse: 0.937526\n",
            "[625]\ttraining's rmse: 0.75684\tvalid_1's rmse: 0.937616\n",
            "[630]\ttraining's rmse: 0.756507\tvalid_1's rmse: 0.937593\n",
            "[635]\ttraining's rmse: 0.756231\tvalid_1's rmse: 0.937618\n",
            "[640]\ttraining's rmse: 0.755969\tvalid_1's rmse: 0.937676\n",
            "[645]\ttraining's rmse: 0.7556\tvalid_1's rmse: 0.937549\n",
            "[650]\ttraining's rmse: 0.755325\tvalid_1's rmse: 0.93752\n",
            "[655]\ttraining's rmse: 0.755027\tvalid_1's rmse: 0.937439\n",
            "[660]\ttraining's rmse: 0.754727\tvalid_1's rmse: 0.937488\n",
            "[665]\ttraining's rmse: 0.754482\tvalid_1's rmse: 0.937509\n",
            "[670]\ttraining's rmse: 0.754159\tvalid_1's rmse: 0.937428\n",
            "[675]\ttraining's rmse: 0.753852\tvalid_1's rmse: 0.937516\n",
            "[680]\ttraining's rmse: 0.753527\tvalid_1's rmse: 0.937425\n",
            "[685]\ttraining's rmse: 0.753203\tvalid_1's rmse: 0.937465\n",
            "[690]\ttraining's rmse: 0.752928\tvalid_1's rmse: 0.937489\n",
            "[695]\ttraining's rmse: 0.752629\tvalid_1's rmse: 0.937297\n",
            "[700]\ttraining's rmse: 0.752315\tvalid_1's rmse: 0.937376\n",
            "[705]\ttraining's rmse: 0.752088\tvalid_1's rmse: 0.937335\n",
            "[710]\ttraining's rmse: 0.751821\tvalid_1's rmse: 0.937266\n",
            "[715]\ttraining's rmse: 0.751513\tvalid_1's rmse: 0.937181\n",
            "[720]\ttraining's rmse: 0.751228\tvalid_1's rmse: 0.937202\n",
            "[725]\ttraining's rmse: 0.750904\tvalid_1's rmse: 0.937152\n",
            "[730]\ttraining's rmse: 0.75066\tvalid_1's rmse: 0.937083\n",
            "[735]\ttraining's rmse: 0.750335\tvalid_1's rmse: 0.937088\n",
            "[740]\ttraining's rmse: 0.750116\tvalid_1's rmse: 0.937014\n",
            "[745]\ttraining's rmse: 0.749851\tvalid_1's rmse: 0.936952\n",
            "[750]\ttraining's rmse: 0.749621\tvalid_1's rmse: 0.936973\n",
            "[755]\ttraining's rmse: 0.749377\tvalid_1's rmse: 0.936945\n",
            "[760]\ttraining's rmse: 0.749095\tvalid_1's rmse: 0.936911\n",
            "[765]\ttraining's rmse: 0.74888\tvalid_1's rmse: 0.936913\n",
            "[770]\ttraining's rmse: 0.748577\tvalid_1's rmse: 0.93689\n",
            "[775]\ttraining's rmse: 0.748298\tvalid_1's rmse: 0.936908\n",
            "[780]\ttraining's rmse: 0.748056\tvalid_1's rmse: 0.936903\n",
            "[785]\ttraining's rmse: 0.747833\tvalid_1's rmse: 0.937022\n",
            "[790]\ttraining's rmse: 0.747631\tvalid_1's rmse: 0.936957\n",
            "[795]\ttraining's rmse: 0.747425\tvalid_1's rmse: 0.936967\n",
            "[800]\ttraining's rmse: 0.7472\tvalid_1's rmse: 0.936852\n",
            "[805]\ttraining's rmse: 0.746962\tvalid_1's rmse: 0.936828\n",
            "[810]\ttraining's rmse: 0.74667\tvalid_1's rmse: 0.93679\n",
            "[815]\ttraining's rmse: 0.746465\tvalid_1's rmse: 0.936786\n",
            "[820]\ttraining's rmse: 0.74624\tvalid_1's rmse: 0.93679\n",
            "[825]\ttraining's rmse: 0.746012\tvalid_1's rmse: 0.936774\n",
            "[830]\ttraining's rmse: 0.745785\tvalid_1's rmse: 0.936844\n",
            "[835]\ttraining's rmse: 0.745554\tvalid_1's rmse: 0.936971\n",
            "[840]\ttraining's rmse: 0.745321\tvalid_1's rmse: 0.936902\n",
            "[845]\ttraining's rmse: 0.745027\tvalid_1's rmse: 0.936789\n",
            "[850]\ttraining's rmse: 0.74483\tvalid_1's rmse: 0.93684\n",
            "[855]\ttraining's rmse: 0.744614\tvalid_1's rmse: 0.936817\n",
            "[860]\ttraining's rmse: 0.744306\tvalid_1's rmse: 0.936767\n",
            "[865]\ttraining's rmse: 0.744049\tvalid_1's rmse: 0.936619\n",
            "[870]\ttraining's rmse: 0.743839\tvalid_1's rmse: 0.936666\n",
            "[875]\ttraining's rmse: 0.743668\tvalid_1's rmse: 0.936689\n",
            "[880]\ttraining's rmse: 0.743407\tvalid_1's rmse: 0.936718\n",
            "[885]\ttraining's rmse: 0.743199\tvalid_1's rmse: 0.936694\n",
            "[890]\ttraining's rmse: 0.74298\tvalid_1's rmse: 0.936672\n",
            "[895]\ttraining's rmse: 0.742759\tvalid_1's rmse: 0.936612\n",
            "[900]\ttraining's rmse: 0.742546\tvalid_1's rmse: 0.936568\n",
            "[905]\ttraining's rmse: 0.742318\tvalid_1's rmse: 0.936551\n",
            "[910]\ttraining's rmse: 0.74215\tvalid_1's rmse: 0.936587\n",
            "[915]\ttraining's rmse: 0.741911\tvalid_1's rmse: 0.936586\n",
            "[920]\ttraining's rmse: 0.741734\tvalid_1's rmse: 0.936538\n",
            "[925]\ttraining's rmse: 0.741527\tvalid_1's rmse: 0.936503\n",
            "[930]\ttraining's rmse: 0.741282\tvalid_1's rmse: 0.936542\n",
            "[935]\ttraining's rmse: 0.741104\tvalid_1's rmse: 0.936538\n",
            "[940]\ttraining's rmse: 0.740918\tvalid_1's rmse: 0.936527\n",
            "[945]\ttraining's rmse: 0.740728\tvalid_1's rmse: 0.936556\n",
            "[950]\ttraining's rmse: 0.74047\tvalid_1's rmse: 0.93636\n",
            "[955]\ttraining's rmse: 0.740179\tvalid_1's rmse: 0.936418\n",
            "[960]\ttraining's rmse: 0.739974\tvalid_1's rmse: 0.936371\n",
            "[965]\ttraining's rmse: 0.739811\tvalid_1's rmse: 0.936414\n",
            "[970]\ttraining's rmse: 0.739615\tvalid_1's rmse: 0.936293\n",
            "[975]\ttraining's rmse: 0.739445\tvalid_1's rmse: 0.936288\n",
            "[980]\ttraining's rmse: 0.73904\tvalid_1's rmse: 0.93614\n",
            "[985]\ttraining's rmse: 0.73884\tvalid_1's rmse: 0.936158\n",
            "[990]\ttraining's rmse: 0.738679\tvalid_1's rmse: 0.936136\n",
            "[995]\ttraining's rmse: 0.73849\tvalid_1's rmse: 0.936126\n",
            "[1000]\ttraining's rmse: 0.738256\tvalid_1's rmse: 0.936111\n",
            "[1005]\ttraining's rmse: 0.738023\tvalid_1's rmse: 0.936129\n",
            "[1010]\ttraining's rmse: 0.737843\tvalid_1's rmse: 0.936062\n",
            "[1015]\ttraining's rmse: 0.7376\tvalid_1's rmse: 0.936072\n",
            "[1020]\ttraining's rmse: 0.737371\tvalid_1's rmse: 0.936078\n",
            "[1025]\ttraining's rmse: 0.737232\tvalid_1's rmse: 0.936044\n",
            "[1030]\ttraining's rmse: 0.737023\tvalid_1's rmse: 0.935878\n",
            "[1035]\ttraining's rmse: 0.736852\tvalid_1's rmse: 0.935907\n",
            "[1040]\ttraining's rmse: 0.736698\tvalid_1's rmse: 0.935874\n",
            "[1045]\ttraining's rmse: 0.736557\tvalid_1's rmse: 0.935838\n",
            "[1050]\ttraining's rmse: 0.736416\tvalid_1's rmse: 0.935854\n",
            "[1055]\ttraining's rmse: 0.736174\tvalid_1's rmse: 0.935931\n",
            "[1060]\ttraining's rmse: 0.736011\tvalid_1's rmse: 0.935891\n",
            "[1065]\ttraining's rmse: 0.735845\tvalid_1's rmse: 0.935817\n",
            "[1070]\ttraining's rmse: 0.735704\tvalid_1's rmse: 0.935861\n",
            "[1075]\ttraining's rmse: 0.735518\tvalid_1's rmse: 0.935817\n",
            "[1080]\ttraining's rmse: 0.735326\tvalid_1's rmse: 0.935779\n",
            "[1085]\ttraining's rmse: 0.735165\tvalid_1's rmse: 0.935768\n",
            "[1090]\ttraining's rmse: 0.735017\tvalid_1's rmse: 0.935743\n",
            "[1095]\ttraining's rmse: 0.734802\tvalid_1's rmse: 0.935798\n",
            "[1100]\ttraining's rmse: 0.734668\tvalid_1's rmse: 0.935743\n",
            "[1105]\ttraining's rmse: 0.734435\tvalid_1's rmse: 0.935471\n",
            "[1110]\ttraining's rmse: 0.734297\tvalid_1's rmse: 0.935443\n",
            "[1115]\ttraining's rmse: 0.734169\tvalid_1's rmse: 0.935473\n",
            "[1120]\ttraining's rmse: 0.734002\tvalid_1's rmse: 0.935497\n",
            "[1125]\ttraining's rmse: 0.733794\tvalid_1's rmse: 0.935477\n",
            "[1130]\ttraining's rmse: 0.733638\tvalid_1's rmse: 0.935474\n",
            "[1135]\ttraining's rmse: 0.733511\tvalid_1's rmse: 0.935398\n",
            "[1140]\ttraining's rmse: 0.73337\tvalid_1's rmse: 0.935389\n",
            "[1145]\ttraining's rmse: 0.73321\tvalid_1's rmse: 0.935534\n",
            "[1150]\ttraining's rmse: 0.733084\tvalid_1's rmse: 0.935524\n",
            "[1155]\ttraining's rmse: 0.73291\tvalid_1's rmse: 0.935494\n",
            "[1160]\ttraining's rmse: 0.732749\tvalid_1's rmse: 0.935467\n",
            "[1165]\ttraining's rmse: 0.732484\tvalid_1's rmse: 0.935463\n",
            "[1170]\ttraining's rmse: 0.732335\tvalid_1's rmse: 0.935519\n",
            "[1175]\ttraining's rmse: 0.732188\tvalid_1's rmse: 0.935523\n",
            "[1180]\ttraining's rmse: 0.731979\tvalid_1's rmse: 0.935449\n",
            "[1185]\ttraining's rmse: 0.731792\tvalid_1's rmse: 0.935455\n",
            "[1190]\ttraining's rmse: 0.73166\tvalid_1's rmse: 0.935427\n",
            "[1195]\ttraining's rmse: 0.731361\tvalid_1's rmse: 0.93524\n",
            "[1200]\ttraining's rmse: 0.731242\tvalid_1's rmse: 0.935239\n",
            "[1205]\ttraining's rmse: 0.731042\tvalid_1's rmse: 0.935206\n",
            "[1210]\ttraining's rmse: 0.730765\tvalid_1's rmse: 0.934932\n",
            "[1215]\ttraining's rmse: 0.730572\tvalid_1's rmse: 0.9349\n",
            "[1220]\ttraining's rmse: 0.730432\tvalid_1's rmse: 0.934858\n",
            "[1225]\ttraining's rmse: 0.730284\tvalid_1's rmse: 0.934847\n",
            "[1230]\ttraining's rmse: 0.730159\tvalid_1's rmse: 0.934858\n",
            "[1235]\ttraining's rmse: 0.730021\tvalid_1's rmse: 0.93489\n",
            "[1240]\ttraining's rmse: 0.729885\tvalid_1's rmse: 0.934899\n",
            "[1245]\ttraining's rmse: 0.729741\tvalid_1's rmse: 0.934954\n",
            "[1250]\ttraining's rmse: 0.729466\tvalid_1's rmse: 0.934952\n",
            "[1255]\ttraining's rmse: 0.729293\tvalid_1's rmse: 0.934942\n",
            "[1260]\ttraining's rmse: 0.729153\tvalid_1's rmse: 0.93502\n",
            "[1265]\ttraining's rmse: 0.728981\tvalid_1's rmse: 0.935083\n",
            "[1270]\ttraining's rmse: 0.728865\tvalid_1's rmse: 0.935069\n",
            "[1275]\ttraining's rmse: 0.728712\tvalid_1's rmse: 0.935091\n",
            "[1280]\ttraining's rmse: 0.728588\tvalid_1's rmse: 0.935067\n",
            "[1285]\ttraining's rmse: 0.728465\tvalid_1's rmse: 0.935081\n",
            "[1290]\ttraining's rmse: 0.728335\tvalid_1's rmse: 0.935017\n",
            "[1295]\ttraining's rmse: 0.728208\tvalid_1's rmse: 0.935012\n",
            "[1300]\ttraining's rmse: 0.728069\tvalid_1's rmse: 0.935049\n",
            "[1305]\ttraining's rmse: 0.727949\tvalid_1's rmse: 0.935038\n",
            "[1310]\ttraining's rmse: 0.727717\tvalid_1's rmse: 0.935543\n",
            "[1315]\ttraining's rmse: 0.727575\tvalid_1's rmse: 0.935504\n",
            "[1320]\ttraining's rmse: 0.727449\tvalid_1's rmse: 0.935523\n",
            "[1325]\ttraining's rmse: 0.727342\tvalid_1's rmse: 0.93549\n",
            "[1330]\ttraining's rmse: 0.727219\tvalid_1's rmse: 0.93547\n",
            "[1335]\ttraining's rmse: 0.727052\tvalid_1's rmse: 0.935592\n",
            "[1340]\ttraining's rmse: 0.726935\tvalid_1's rmse: 0.935559\n",
            "[1345]\ttraining's rmse: 0.726796\tvalid_1's rmse: 0.93558\n",
            "[1350]\ttraining's rmse: 0.726657\tvalid_1's rmse: 0.935602\n",
            "[1355]\ttraining's rmse: 0.726422\tvalid_1's rmse: 0.935616\n",
            "[1360]\ttraining's rmse: 0.72628\tvalid_1's rmse: 0.935636\n",
            "[1365]\ttraining's rmse: 0.72617\tvalid_1's rmse: 0.935654\n",
            "[1370]\ttraining's rmse: 0.72606\tvalid_1's rmse: 0.935616\n",
            "[1375]\ttraining's rmse: 0.725844\tvalid_1's rmse: 0.935634\n",
            "[1380]\ttraining's rmse: 0.72572\tvalid_1's rmse: 0.935621\n",
            "[1385]\ttraining's rmse: 0.725564\tvalid_1's rmse: 0.935587\n",
            "[1390]\ttraining's rmse: 0.725417\tvalid_1's rmse: 0.935545\n",
            "[1395]\ttraining's rmse: 0.725234\tvalid_1's rmse: 0.93557\n",
            "[1400]\ttraining's rmse: 0.725109\tvalid_1's rmse: 0.935597\n",
            "[1405]\ttraining's rmse: 0.725008\tvalid_1's rmse: 0.935587\n",
            "[1410]\ttraining's rmse: 0.724884\tvalid_1's rmse: 0.935567\n",
            "[1415]\ttraining's rmse: 0.72475\tvalid_1's rmse: 0.935573\n",
            "[1420]\ttraining's rmse: 0.724561\tvalid_1's rmse: 0.935522\n",
            "[1425]\ttraining's rmse: 0.724448\tvalid_1's rmse: 0.935527\n",
            "[1430]\ttraining's rmse: 0.724266\tvalid_1's rmse: 0.935378\n",
            "[1435]\ttraining's rmse: 0.72403\tvalid_1's rmse: 0.935164\n",
            "[1440]\ttraining's rmse: 0.723929\tvalid_1's rmse: 0.935182\n",
            "[1445]\ttraining's rmse: 0.723775\tvalid_1's rmse: 0.935203\n",
            "[1450]\ttraining's rmse: 0.723612\tvalid_1's rmse: 0.935293\n",
            "[1455]\ttraining's rmse: 0.723479\tvalid_1's rmse: 0.935233\n",
            "[1460]\ttraining's rmse: 0.723318\tvalid_1's rmse: 0.935117\n",
            "[1465]\ttraining's rmse: 0.723166\tvalid_1's rmse: 0.935221\n",
            "[1470]\ttraining's rmse: 0.723035\tvalid_1's rmse: 0.935223\n",
            "[1475]\ttraining's rmse: 0.722907\tvalid_1's rmse: 0.93525\n",
            "[1480]\ttraining's rmse: 0.722804\tvalid_1's rmse: 0.935295\n",
            "[1485]\ttraining's rmse: 0.722681\tvalid_1's rmse: 0.935363\n",
            "[1490]\ttraining's rmse: 0.722578\tvalid_1's rmse: 0.935371\n",
            "[1495]\ttraining's rmse: 0.722468\tvalid_1's rmse: 0.935389\n",
            "[1500]\ttraining's rmse: 0.722336\tvalid_1's rmse: 0.935346\n",
            "[1505]\ttraining's rmse: 0.722217\tvalid_1's rmse: 0.935333\n",
            "[1510]\ttraining's rmse: 0.722093\tvalid_1's rmse: 0.935336\n",
            "[1515]\ttraining's rmse: 0.721983\tvalid_1's rmse: 0.935336\n",
            "[1520]\ttraining's rmse: 0.721799\tvalid_1's rmse: 0.935329\n",
            "[1525]\ttraining's rmse: 0.721676\tvalid_1's rmse: 0.935329\n",
            "[1530]\ttraining's rmse: 0.721481\tvalid_1's rmse: 0.935333\n",
            "[1535]\ttraining's rmse: 0.721365\tvalid_1's rmse: 0.935326\n",
            "[1540]\ttraining's rmse: 0.721253\tvalid_1's rmse: 0.935334\n",
            "[1545]\ttraining's rmse: 0.721028\tvalid_1's rmse: 0.935578\n",
            "[1550]\ttraining's rmse: 0.72089\tvalid_1's rmse: 0.935556\n",
            "[1555]\ttraining's rmse: 0.720778\tvalid_1's rmse: 0.935563\n",
            "[1560]\ttraining's rmse: 0.720634\tvalid_1's rmse: 0.935549\n",
            "[1565]\ttraining's rmse: 0.720469\tvalid_1's rmse: 0.935517\n",
            "[1570]\ttraining's rmse: 0.720384\tvalid_1's rmse: 0.935499\n",
            "[1575]\ttraining's rmse: 0.720239\tvalid_1's rmse: 0.935528\n",
            "[1580]\ttraining's rmse: 0.720142\tvalid_1's rmse: 0.935546\n",
            "[1585]\ttraining's rmse: 0.719969\tvalid_1's rmse: 0.935885\n",
            "[1590]\ttraining's rmse: 0.719845\tvalid_1's rmse: 0.935857\n",
            "[1595]\ttraining's rmse: 0.719644\tvalid_1's rmse: 0.935562\n",
            "[1600]\ttraining's rmse: 0.719532\tvalid_1's rmse: 0.935587\n",
            "[1605]\ttraining's rmse: 0.719413\tvalid_1's rmse: 0.935544\n",
            "[1610]\ttraining's rmse: 0.719225\tvalid_1's rmse: 0.93553\n",
            "[1615]\ttraining's rmse: 0.719115\tvalid_1's rmse: 0.93558\n",
            "[1620]\ttraining's rmse: 0.719021\tvalid_1's rmse: 0.935589\n",
            "[1625]\ttraining's rmse: 0.718918\tvalid_1's rmse: 0.935591\n",
            "[1630]\ttraining's rmse: 0.718653\tvalid_1's rmse: 0.935827\n",
            "[1635]\ttraining's rmse: 0.71853\tvalid_1's rmse: 0.935864\n",
            "[1640]\ttraining's rmse: 0.718413\tvalid_1's rmse: 0.935866\n",
            "[1645]\ttraining's rmse: 0.718285\tvalid_1's rmse: 0.935873\n",
            "[1650]\ttraining's rmse: 0.718184\tvalid_1's rmse: 0.935891\n",
            "[1655]\ttraining's rmse: 0.718089\tvalid_1's rmse: 0.936152\n",
            "[1660]\ttraining's rmse: 0.717976\tvalid_1's rmse: 0.936248\n",
            "[1665]\ttraining's rmse: 0.717698\tvalid_1's rmse: 0.936432\n",
            "[1670]\ttraining's rmse: 0.717588\tvalid_1's rmse: 0.93643\n",
            "[1675]\ttraining's rmse: 0.717503\tvalid_1's rmse: 0.936447\n",
            "[1680]\ttraining's rmse: 0.717397\tvalid_1's rmse: 0.936438\n",
            "[1685]\ttraining's rmse: 0.717286\tvalid_1's rmse: 0.936433\n",
            "[1690]\ttraining's rmse: 0.717149\tvalid_1's rmse: 0.936414\n",
            "[1695]\ttraining's rmse: 0.717051\tvalid_1's rmse: 0.936419\n",
            "[1700]\ttraining's rmse: 0.716958\tvalid_1's rmse: 0.93644\n",
            "[1705]\ttraining's rmse: 0.716666\tvalid_1's rmse: 0.936579\n",
            "[1710]\ttraining's rmse: 0.716519\tvalid_1's rmse: 0.936543\n",
            "[1715]\ttraining's rmse: 0.716433\tvalid_1's rmse: 0.936513\n",
            "[1720]\ttraining's rmse: 0.716331\tvalid_1's rmse: 0.936557\n",
            "[1725]\ttraining's rmse: 0.716222\tvalid_1's rmse: 0.936584\n",
            "[1730]\ttraining's rmse: 0.716087\tvalid_1's rmse: 0.936582\n",
            "[1735]\ttraining's rmse: 0.715979\tvalid_1's rmse: 0.936568\n",
            "[1740]\ttraining's rmse: 0.715817\tvalid_1's rmse: 0.936531\n",
            "[1745]\ttraining's rmse: 0.715716\tvalid_1's rmse: 0.936576\n",
            "[1750]\ttraining's rmse: 0.715574\tvalid_1's rmse: 0.936515\n",
            "[1755]\ttraining's rmse: 0.715475\tvalid_1's rmse: 0.936515\n",
            "[1760]\ttraining's rmse: 0.715323\tvalid_1's rmse: 0.936571\n",
            "[1765]\ttraining's rmse: 0.715224\tvalid_1's rmse: 0.93656\n",
            "[1770]\ttraining's rmse: 0.715136\tvalid_1's rmse: 0.936682\n",
            "[1775]\ttraining's rmse: 0.714986\tvalid_1's rmse: 0.936743\n",
            "[1780]\ttraining's rmse: 0.714899\tvalid_1's rmse: 0.936727\n",
            "[1785]\ttraining's rmse: 0.714803\tvalid_1's rmse: 0.936767\n",
            "[1790]\ttraining's rmse: 0.714533\tvalid_1's rmse: 0.93651\n",
            "[1795]\ttraining's rmse: 0.714437\tvalid_1's rmse: 0.936506\n",
            "[1800]\ttraining's rmse: 0.714357\tvalid_1's rmse: 0.936504\n",
            "[1805]\ttraining's rmse: 0.714205\tvalid_1's rmse: 0.936671\n",
            "[1810]\ttraining's rmse: 0.714034\tvalid_1's rmse: 0.936889\n",
            "[1815]\ttraining's rmse: 0.713859\tvalid_1's rmse: 0.936867\n",
            "[1820]\ttraining's rmse: 0.713767\tvalid_1's rmse: 0.936876\n",
            "[1825]\ttraining's rmse: 0.713505\tvalid_1's rmse: 0.937463\n",
            "[1830]\ttraining's rmse: 0.713415\tvalid_1's rmse: 0.937431\n",
            "[1835]\ttraining's rmse: 0.713323\tvalid_1's rmse: 0.937411\n",
            "[1840]\ttraining's rmse: 0.71321\tvalid_1's rmse: 0.93746\n",
            "[1845]\ttraining's rmse: 0.713096\tvalid_1's rmse: 0.937395\n",
            "[1850]\ttraining's rmse: 0.713012\tvalid_1's rmse: 0.93739\n",
            "[1855]\ttraining's rmse: 0.71291\tvalid_1's rmse: 0.937386\n",
            "[1860]\ttraining's rmse: 0.712815\tvalid_1's rmse: 0.937407\n",
            "[1865]\ttraining's rmse: 0.712735\tvalid_1's rmse: 0.937379\n",
            "[1870]\ttraining's rmse: 0.712651\tvalid_1's rmse: 0.937377\n",
            "[1875]\ttraining's rmse: 0.712563\tvalid_1's rmse: 0.937364\n",
            "[1880]\ttraining's rmse: 0.712436\tvalid_1's rmse: 0.93736\n",
            "[1885]\ttraining's rmse: 0.712359\tvalid_1's rmse: 0.937341\n",
            "[1890]\ttraining's rmse: 0.712278\tvalid_1's rmse: 0.937334\n",
            "[1895]\ttraining's rmse: 0.71204\tvalid_1's rmse: 0.937462\n",
            "[1900]\ttraining's rmse: 0.711956\tvalid_1's rmse: 0.93751\n",
            "[1905]\ttraining's rmse: 0.711865\tvalid_1's rmse: 0.937504\n",
            "[1910]\ttraining's rmse: 0.71177\tvalid_1's rmse: 0.937512\n",
            "[1915]\ttraining's rmse: 0.711676\tvalid_1's rmse: 0.937538\n",
            "[1920]\ttraining's rmse: 0.711563\tvalid_1's rmse: 0.937531\n",
            "[1925]\ttraining's rmse: 0.711382\tvalid_1's rmse: 0.937542\n",
            "[1930]\ttraining's rmse: 0.711251\tvalid_1's rmse: 0.937546\n",
            "[1935]\ttraining's rmse: 0.71116\tvalid_1's rmse: 0.93754\n",
            "[1940]\ttraining's rmse: 0.711003\tvalid_1's rmse: 0.937857\n",
            "[1945]\ttraining's rmse: 0.710928\tvalid_1's rmse: 0.93785\n",
            "[1950]\ttraining's rmse: 0.710738\tvalid_1's rmse: 0.937836\n",
            "[1955]\ttraining's rmse: 0.710667\tvalid_1's rmse: 0.937852\n",
            "[1960]\ttraining's rmse: 0.710504\tvalid_1's rmse: 0.937866\n",
            "[1965]\ttraining's rmse: 0.710376\tvalid_1's rmse: 0.937911\n",
            "[1970]\ttraining's rmse: 0.710296\tvalid_1's rmse: 0.937969\n",
            "[1975]\ttraining's rmse: 0.710211\tvalid_1's rmse: 0.937954\n",
            "[1980]\ttraining's rmse: 0.710129\tvalid_1's rmse: 0.937937\n",
            "[1985]\ttraining's rmse: 0.709931\tvalid_1's rmse: 0.938503\n",
            "[1990]\ttraining's rmse: 0.70986\tvalid_1's rmse: 0.938486\n",
            "[1995]\ttraining's rmse: 0.709758\tvalid_1's rmse: 0.938498\n",
            "[2000]\ttraining's rmse: 0.709685\tvalid_1's rmse: 0.93849\n",
            "[2005]\ttraining's rmse: 0.709513\tvalid_1's rmse: 0.938273\n",
            "[2010]\ttraining's rmse: 0.709377\tvalid_1's rmse: 0.938236\n",
            "[2015]\ttraining's rmse: 0.709265\tvalid_1's rmse: 0.938301\n",
            "[2020]\ttraining's rmse: 0.709066\tvalid_1's rmse: 0.938253\n",
            "[2025]\ttraining's rmse: 0.708979\tvalid_1's rmse: 0.938264\n",
            "[2030]\ttraining's rmse: 0.708886\tvalid_1's rmse: 0.938302\n",
            "[2035]\ttraining's rmse: 0.708781\tvalid_1's rmse: 0.938331\n",
            "[2040]\ttraining's rmse: 0.708673\tvalid_1's rmse: 0.938377\n",
            "[2045]\ttraining's rmse: 0.708576\tvalid_1's rmse: 0.938345\n",
            "[2050]\ttraining's rmse: 0.708436\tvalid_1's rmse: 0.938366\n",
            "[2055]\ttraining's rmse: 0.708335\tvalid_1's rmse: 0.938357\n",
            "[2060]\ttraining's rmse: 0.708238\tvalid_1's rmse: 0.938346\n",
            "[2065]\ttraining's rmse: 0.708166\tvalid_1's rmse: 0.938349\n",
            "[2070]\ttraining's rmse: 0.708039\tvalid_1's rmse: 0.93832\n",
            "[2075]\ttraining's rmse: 0.707964\tvalid_1's rmse: 0.93837\n",
            "[2080]\ttraining's rmse: 0.707881\tvalid_1's rmse: 0.938354\n",
            "[2085]\ttraining's rmse: 0.707787\tvalid_1's rmse: 0.938352\n",
            "[2090]\ttraining's rmse: 0.707655\tvalid_1's rmse: 0.938344\n",
            "[2095]\ttraining's rmse: 0.707537\tvalid_1's rmse: 0.938354\n",
            "[2100]\ttraining's rmse: 0.707441\tvalid_1's rmse: 0.938315\n",
            "[2105]\ttraining's rmse: 0.707351\tvalid_1's rmse: 0.938316\n",
            "[2110]\ttraining's rmse: 0.707277\tvalid_1's rmse: 0.938325\n",
            "[2115]\ttraining's rmse: 0.707152\tvalid_1's rmse: 0.938371\n",
            "[2120]\ttraining's rmse: 0.707015\tvalid_1's rmse: 0.938374\n",
            "[2125]\ttraining's rmse: 0.706868\tvalid_1's rmse: 0.938389\n",
            "[2130]\ttraining's rmse: 0.70669\tvalid_1's rmse: 0.938234\n",
            "[2135]\ttraining's rmse: 0.706509\tvalid_1's rmse: 0.938604\n",
            "[2140]\ttraining's rmse: 0.706429\tvalid_1's rmse: 0.938618\n",
            "[2145]\ttraining's rmse: 0.706353\tvalid_1's rmse: 0.938657\n",
            "[2150]\ttraining's rmse: 0.70624\tvalid_1's rmse: 0.938644\n",
            "[2155]\ttraining's rmse: 0.706146\tvalid_1's rmse: 0.938688\n",
            "[2160]\ttraining's rmse: 0.706007\tvalid_1's rmse: 0.938755\n",
            "[2165]\ttraining's rmse: 0.705884\tvalid_1's rmse: 0.938708\n",
            "[2170]\ttraining's rmse: 0.705812\tvalid_1's rmse: 0.938682\n",
            "[2175]\ttraining's rmse: 0.705745\tvalid_1's rmse: 0.938651\n",
            "[2180]\ttraining's rmse: 0.705648\tvalid_1's rmse: 0.938629\n",
            "[2185]\ttraining's rmse: 0.705581\tvalid_1's rmse: 0.938611\n",
            "[2190]\ttraining's rmse: 0.705508\tvalid_1's rmse: 0.938603\n",
            "[2195]\ttraining's rmse: 0.705416\tvalid_1's rmse: 0.938656\n",
            "[2200]\ttraining's rmse: 0.70531\tvalid_1's rmse: 0.938647\n",
            "[2205]\ttraining's rmse: 0.705204\tvalid_1's rmse: 0.938464\n",
            "[2210]\ttraining's rmse: 0.705097\tvalid_1's rmse: 0.938464\n",
            "[2215]\ttraining's rmse: 0.705023\tvalid_1's rmse: 0.938441\n",
            "[2220]\ttraining's rmse: 0.704953\tvalid_1's rmse: 0.938426\n",
            "[2225]\ttraining's rmse: 0.704885\tvalid_1's rmse: 0.938416\n",
            "[2230]\ttraining's rmse: 0.704801\tvalid_1's rmse: 0.938441\n",
            "[2235]\ttraining's rmse: 0.704649\tvalid_1's rmse: 0.938444\n",
            "[2240]\ttraining's rmse: 0.704538\tvalid_1's rmse: 0.938436\n",
            "[2245]\ttraining's rmse: 0.704437\tvalid_1's rmse: 0.93844\n",
            "[2250]\ttraining's rmse: 0.704371\tvalid_1's rmse: 0.938434\n",
            "[2255]\ttraining's rmse: 0.704297\tvalid_1's rmse: 0.938433\n",
            "[2260]\ttraining's rmse: 0.70414\tvalid_1's rmse: 0.938374\n",
            "[2265]\ttraining's rmse: 0.704064\tvalid_1's rmse: 0.938331\n",
            "[2270]\ttraining's rmse: 0.703959\tvalid_1's rmse: 0.93833\n",
            "[2275]\ttraining's rmse: 0.703882\tvalid_1's rmse: 0.938339\n",
            "[2280]\ttraining's rmse: 0.703797\tvalid_1's rmse: 0.938326\n",
            "[2285]\ttraining's rmse: 0.70366\tvalid_1's rmse: 0.938425\n",
            "[2290]\ttraining's rmse: 0.703587\tvalid_1's rmse: 0.938425\n",
            "[2295]\ttraining's rmse: 0.703525\tvalid_1's rmse: 0.938437\n",
            "[2300]\ttraining's rmse: 0.703449\tvalid_1's rmse: 0.938383\n",
            "[2305]\ttraining's rmse: 0.703108\tvalid_1's rmse: 0.938382\n",
            "[2310]\ttraining's rmse: 0.702995\tvalid_1's rmse: 0.938381\n",
            "[2315]\ttraining's rmse: 0.70293\tvalid_1's rmse: 0.938363\n",
            "[2320]\ttraining's rmse: 0.702845\tvalid_1's rmse: 0.938367\n",
            "[2325]\ttraining's rmse: 0.702747\tvalid_1's rmse: 0.938385\n",
            "[2330]\ttraining's rmse: 0.702675\tvalid_1's rmse: 0.938377\n",
            "[2335]\ttraining's rmse: 0.702583\tvalid_1's rmse: 0.938386\n",
            "[2340]\ttraining's rmse: 0.702506\tvalid_1's rmse: 0.938362\n",
            "[2345]\ttraining's rmse: 0.702441\tvalid_1's rmse: 0.938362\n",
            "[2350]\ttraining's rmse: 0.702372\tvalid_1's rmse: 0.938358\n",
            "[2355]\ttraining's rmse: 0.702301\tvalid_1's rmse: 0.938349\n",
            "[2360]\ttraining's rmse: 0.70222\tvalid_1's rmse: 0.938363\n",
            "[2365]\ttraining's rmse: 0.702159\tvalid_1's rmse: 0.938357\n",
            "[2370]\ttraining's rmse: 0.702096\tvalid_1's rmse: 0.938338\n",
            "[2375]\ttraining's rmse: 0.702033\tvalid_1's rmse: 0.938375\n",
            "[2380]\ttraining's rmse: 0.70193\tvalid_1's rmse: 0.938359\n",
            "[2385]\ttraining's rmse: 0.701834\tvalid_1's rmse: 0.93836\n",
            "[2390]\ttraining's rmse: 0.701673\tvalid_1's rmse: 0.938313\n",
            "[2395]\ttraining's rmse: 0.701606\tvalid_1's rmse: 0.938268\n",
            "[2400]\ttraining's rmse: 0.701469\tvalid_1's rmse: 0.93823\n",
            "[2405]\ttraining's rmse: 0.701371\tvalid_1's rmse: 0.938198\n",
            "[2410]\ttraining's rmse: 0.701258\tvalid_1's rmse: 0.938208\n",
            "[2415]\ttraining's rmse: 0.701201\tvalid_1's rmse: 0.938187\n",
            "[2420]\ttraining's rmse: 0.701118\tvalid_1's rmse: 0.938189\n",
            "[2425]\ttraining's rmse: 0.701058\tvalid_1's rmse: 0.938196\n",
            "[2430]\ttraining's rmse: 0.700961\tvalid_1's rmse: 0.938177\n",
            "[2435]\ttraining's rmse: 0.700892\tvalid_1's rmse: 0.938146\n",
            "[2440]\ttraining's rmse: 0.700822\tvalid_1's rmse: 0.938151\n",
            "[2445]\ttraining's rmse: 0.700748\tvalid_1's rmse: 0.938155\n",
            "[2450]\ttraining's rmse: 0.700662\tvalid_1's rmse: 0.938184\n",
            "[2455]\ttraining's rmse: 0.700569\tvalid_1's rmse: 0.938191\n",
            "[2460]\ttraining's rmse: 0.700497\tvalid_1's rmse: 0.938197\n",
            "[2465]\ttraining's rmse: 0.700417\tvalid_1's rmse: 0.938178\n",
            "[2470]\ttraining's rmse: 0.700302\tvalid_1's rmse: 0.938199\n",
            "[2475]\ttraining's rmse: 0.700234\tvalid_1's rmse: 0.938215\n",
            "[2480]\ttraining's rmse: 0.700166\tvalid_1's rmse: 0.938218\n",
            "[2485]\ttraining's rmse: 0.699991\tvalid_1's rmse: 0.938401\n",
            "[2490]\ttraining's rmse: 0.699888\tvalid_1's rmse: 0.938397\n",
            "[2495]\ttraining's rmse: 0.699816\tvalid_1's rmse: 0.938388\n",
            "[2500]\ttraining's rmse: 0.69974\tvalid_1's rmse: 0.938404\n",
            "[2505]\ttraining's rmse: 0.699664\tvalid_1's rmse: 0.938413\n",
            "[2510]\ttraining's rmse: 0.699604\tvalid_1's rmse: 0.938448\n",
            "[2515]\ttraining's rmse: 0.699501\tvalid_1's rmse: 0.938488\n",
            "[2520]\ttraining's rmse: 0.699406\tvalid_1's rmse: 0.938494\n",
            "[2525]\ttraining's rmse: 0.699345\tvalid_1's rmse: 0.938472\n",
            "[2530]\ttraining's rmse: 0.699251\tvalid_1's rmse: 0.938475\n",
            "[2535]\ttraining's rmse: 0.699155\tvalid_1's rmse: 0.938484\n",
            "[2540]\ttraining's rmse: 0.699094\tvalid_1's rmse: 0.938473\n",
            "[2545]\ttraining's rmse: 0.699008\tvalid_1's rmse: 0.938483\n",
            "[2550]\ttraining's rmse: 0.698767\tvalid_1's rmse: 0.938223\n",
            "[2555]\ttraining's rmse: 0.698685\tvalid_1's rmse: 0.938235\n",
            "[2560]\ttraining's rmse: 0.698609\tvalid_1's rmse: 0.938325\n",
            "[2565]\ttraining's rmse: 0.698538\tvalid_1's rmse: 0.938306\n",
            "[2570]\ttraining's rmse: 0.698457\tvalid_1's rmse: 0.938314\n",
            "[2575]\ttraining's rmse: 0.698388\tvalid_1's rmse: 0.938274\n",
            "[2580]\ttraining's rmse: 0.698313\tvalid_1's rmse: 0.938265\n",
            "[2585]\ttraining's rmse: 0.698238\tvalid_1's rmse: 0.938246\n",
            "[2590]\ttraining's rmse: 0.698171\tvalid_1's rmse: 0.938254\n",
            "[2595]\ttraining's rmse: 0.698097\tvalid_1's rmse: 0.938244\n",
            "[2600]\ttraining's rmse: 0.698016\tvalid_1's rmse: 0.938321\n",
            "[2605]\ttraining's rmse: 0.697939\tvalid_1's rmse: 0.938315\n",
            "[2610]\ttraining's rmse: 0.69783\tvalid_1's rmse: 0.938323\n",
            "[2615]\ttraining's rmse: 0.697771\tvalid_1's rmse: 0.938308\n",
            "[2620]\ttraining's rmse: 0.697706\tvalid_1's rmse: 0.938294\n",
            "[2625]\ttraining's rmse: 0.697643\tvalid_1's rmse: 0.938319\n",
            "[2630]\ttraining's rmse: 0.697546\tvalid_1's rmse: 0.938448\n",
            "[2635]\ttraining's rmse: 0.69749\tvalid_1's rmse: 0.938464\n",
            "[2640]\ttraining's rmse: 0.69738\tvalid_1's rmse: 0.938517\n",
            "[2645]\ttraining's rmse: 0.697314\tvalid_1's rmse: 0.938477\n",
            "[2650]\ttraining's rmse: 0.697247\tvalid_1's rmse: 0.938481\n",
            "[2655]\ttraining's rmse: 0.697173\tvalid_1's rmse: 0.938481\n",
            "[2660]\ttraining's rmse: 0.69708\tvalid_1's rmse: 0.93848\n",
            "[2665]\ttraining's rmse: 0.696937\tvalid_1's rmse: 0.93849\n",
            "[2670]\ttraining's rmse: 0.696828\tvalid_1's rmse: 0.938956\n",
            "[2675]\ttraining's rmse: 0.696769\tvalid_1's rmse: 0.938957\n",
            "[2680]\ttraining's rmse: 0.696712\tvalid_1's rmse: 0.938946\n",
            "[2685]\ttraining's rmse: 0.696638\tvalid_1's rmse: 0.938948\n",
            "[2690]\ttraining's rmse: 0.696566\tvalid_1's rmse: 0.93891\n",
            "[2695]\ttraining's rmse: 0.696483\tvalid_1's rmse: 0.938922\n",
            "[2700]\ttraining's rmse: 0.696423\tvalid_1's rmse: 0.938927\n",
            "[2705]\ttraining's rmse: 0.696351\tvalid_1's rmse: 0.938953\n",
            "[2710]\ttraining's rmse: 0.696296\tvalid_1's rmse: 0.938902\n",
            "[2715]\ttraining's rmse: 0.696233\tvalid_1's rmse: 0.938885\n",
            "[2720]\ttraining's rmse: 0.696171\tvalid_1's rmse: 0.938856\n",
            "[2725]\ttraining's rmse: 0.69609\tvalid_1's rmse: 0.938858\n",
            "[2730]\ttraining's rmse: 0.696015\tvalid_1's rmse: 0.938941\n",
            "[2735]\ttraining's rmse: 0.695889\tvalid_1's rmse: 0.938896\n",
            "[2740]\ttraining's rmse: 0.695817\tvalid_1's rmse: 0.938927\n",
            "[2745]\ttraining's rmse: 0.695743\tvalid_1's rmse: 0.938928\n",
            "[2750]\ttraining's rmse: 0.69567\tvalid_1's rmse: 0.938975\n",
            "[2755]\ttraining's rmse: 0.695612\tvalid_1's rmse: 0.938976\n",
            "[2760]\ttraining's rmse: 0.695429\tvalid_1's rmse: 0.938794\n",
            "[2765]\ttraining's rmse: 0.695364\tvalid_1's rmse: 0.938783\n",
            "[2770]\ttraining's rmse: 0.695266\tvalid_1's rmse: 0.938761\n",
            "[2775]\ttraining's rmse: 0.695151\tvalid_1's rmse: 0.938752\n",
            "[2780]\ttraining's rmse: 0.695085\tvalid_1's rmse: 0.938729\n",
            "[2785]\ttraining's rmse: 0.695007\tvalid_1's rmse: 0.938719\n",
            "[2790]\ttraining's rmse: 0.694941\tvalid_1's rmse: 0.938719\n",
            "[2795]\ttraining's rmse: 0.69485\tvalid_1's rmse: 0.938712\n",
            "[2800]\ttraining's rmse: 0.694788\tvalid_1's rmse: 0.938683\n",
            "[2805]\ttraining's rmse: 0.694726\tvalid_1's rmse: 0.938699\n",
            "[2810]\ttraining's rmse: 0.694651\tvalid_1's rmse: 0.938707\n",
            "[2815]\ttraining's rmse: 0.694568\tvalid_1's rmse: 0.938709\n",
            "[2820]\ttraining's rmse: 0.694465\tvalid_1's rmse: 0.938685\n",
            "[2825]\ttraining's rmse: 0.694409\tvalid_1's rmse: 0.938696\n",
            "[2830]\ttraining's rmse: 0.694227\tvalid_1's rmse: 0.938871\n",
            "[2835]\ttraining's rmse: 0.694123\tvalid_1's rmse: 0.938849\n",
            "[2840]\ttraining's rmse: 0.694046\tvalid_1's rmse: 0.938858\n",
            "[2845]\ttraining's rmse: 0.693967\tvalid_1's rmse: 0.938842\n",
            "[2850]\ttraining's rmse: 0.693854\tvalid_1's rmse: 0.938865\n",
            "[2855]\ttraining's rmse: 0.693801\tvalid_1's rmse: 0.938896\n",
            "[2860]\ttraining's rmse: 0.693741\tvalid_1's rmse: 0.938877\n",
            "[2865]\ttraining's rmse: 0.693683\tvalid_1's rmse: 0.938867\n",
            "[2870]\ttraining's rmse: 0.693542\tvalid_1's rmse: 0.938876\n",
            "[2875]\ttraining's rmse: 0.693469\tvalid_1's rmse: 0.938883\n",
            "[2880]\ttraining's rmse: 0.693393\tvalid_1's rmse: 0.938889\n",
            "[2885]\ttraining's rmse: 0.693324\tvalid_1's rmse: 0.938896\n",
            "[2890]\ttraining's rmse: 0.69324\tvalid_1's rmse: 0.938948\n",
            "[2895]\ttraining's rmse: 0.693127\tvalid_1's rmse: 0.939253\n",
            "[2900]\ttraining's rmse: 0.693058\tvalid_1's rmse: 0.939274\n",
            "[2905]\ttraining's rmse: 0.693006\tvalid_1's rmse: 0.939269\n",
            "[2910]\ttraining's rmse: 0.692945\tvalid_1's rmse: 0.939246\n",
            "[2915]\ttraining's rmse: 0.692882\tvalid_1's rmse: 0.939226\n",
            "[2920]\ttraining's rmse: 0.692827\tvalid_1's rmse: 0.939266\n",
            "[2925]\ttraining's rmse: 0.692763\tvalid_1's rmse: 0.939284\n",
            "[2930]\ttraining's rmse: 0.692698\tvalid_1's rmse: 0.939288\n",
            "[2935]\ttraining's rmse: 0.692635\tvalid_1's rmse: 0.939329\n",
            "[2940]\ttraining's rmse: 0.692581\tvalid_1's rmse: 0.939316\n",
            "[2945]\ttraining's rmse: 0.692528\tvalid_1's rmse: 0.939312\n",
            "[2950]\ttraining's rmse: 0.692427\tvalid_1's rmse: 0.939308\n",
            "[2955]\ttraining's rmse: 0.692357\tvalid_1's rmse: 0.939324\n",
            "[2960]\ttraining's rmse: 0.692294\tvalid_1's rmse: 0.939322\n",
            "[2965]\ttraining's rmse: 0.692209\tvalid_1's rmse: 0.939479\n",
            "[2970]\ttraining's rmse: 0.692154\tvalid_1's rmse: 0.939464\n",
            "[2975]\ttraining's rmse: 0.692076\tvalid_1's rmse: 0.939433\n",
            "[2980]\ttraining's rmse: 0.692002\tvalid_1's rmse: 0.939419\n",
            "[2985]\ttraining's rmse: 0.691933\tvalid_1's rmse: 0.939432\n",
            "[2990]\ttraining's rmse: 0.691802\tvalid_1's rmse: 0.939386\n",
            "[2995]\ttraining's rmse: 0.691748\tvalid_1's rmse: 0.93938\n",
            "[3000]\ttraining's rmse: 0.691696\tvalid_1's rmse: 0.939354\n"
          ],
          "name": "stdout"
        }
      ]
    },
    {
      "cell_type": "code",
      "metadata": {
        "id": "RrCpxnYDACXI"
      },
      "source": [
        "\n",
        "Y_test = gbm.predict(X_test[feature_name]).clip(0, 20)\n",
        "result = pd.DataFrame({\n",
        "    \"ID\": test[\"ID\"],\n",
        "    \"item_cnt_month\": Y_test\n",
        "})\n",
        "result.to_csv(\"submission.csv\", index=False)"
      ],
      "execution_count": 79,
      "outputs": []
    },
    {
      "cell_type": "code",
      "metadata": {
        "id": "enP46iPGU33D",
        "colab": {
          "base_uri": "https://localhost:8080/",
          "height": 513
        },
        "outputId": "0dbe3719-9fed-49b4-eda5-c9e10bb29671"
      },
      "source": [
        "lgb.plot_importance(\n",
        "    gbm, \n",
        "    max_num_features=50, \n",
        "    importance_type='gain', \n",
        "    figsize=(12,8));"
      ],
      "execution_count": 80,
      "outputs": [
        {
          "output_type": "display_data",
          "data": {
            "image/png": "[encoded data removed]",
            "text/plain": [
              "<Figure size 864x576 with 1 Axes>"
            ]
          },
          "metadata": {
            "tags": [],
            "needs_background": "light"
          }
        }
      ]
    },
    {
      "cell_type": "code",
      "metadata": {
        "id": "wUOqz1XEACZI"
      },
      "source": [
        ""
      ],
      "execution_count": 80,
      "outputs": []
    }
  ]
}